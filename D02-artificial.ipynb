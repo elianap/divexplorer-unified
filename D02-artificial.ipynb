{
 "cells": [
  {
   "cell_type": "code",
   "execution_count": 2,
   "metadata": {},
   "outputs": [],
   "source": [
    "%load_ext autoreload\n",
    "%autoreload 2"
   ]
  },
  {
   "cell_type": "code",
   "execution_count": 3,
   "metadata": {},
   "outputs": [],
   "source": [
    "import os\n",
    "import pandas as pd\n",
    "\n",
    "from utils_data import import_artificial\n",
    "\n",
    "pd.set_option('display.max_colwidth', None)\n",
    "from utils import printable\n"
   ]
  },
  {
   "cell_type": "code",
   "execution_count": 4,
   "metadata": {},
   "outputs": [
    {
     "name": "stdout",
     "output_type": "stream",
     "text": [
      "Loading artificial dataset\n"
     ]
    }
   ],
   "source": [
    "df_discretized = import_artificial(input_dir=\"./data\", use_stored=True, store_data=True)"
   ]
  },
  {
   "cell_type": "code",
   "execution_count": 5,
   "metadata": {},
   "outputs": [
    {
     "data": {
      "text/plain": [
       "Index(['a', 'b', 'c', 'd', 'e', 'f', 'g', 'h', 'i', 'j', 'class', 'predicted'], dtype='object')"
      ]
     },
     "execution_count": 5,
     "metadata": {},
     "output_type": "execute_result"
    }
   ],
   "source": [
    "df_discretized.columns"
   ]
  },
  {
   "cell_type": "markdown",
   "metadata": {},
   "source": [
    "# Divergence analysis"
   ]
  },
  {
   "cell_type": "code",
   "execution_count": 6,
   "metadata": {},
   "outputs": [
    {
     "data": {
      "text/plain": [
       "50.0"
      ]
     },
     "execution_count": 6,
     "metadata": {},
     "output_type": "execute_result"
    }
   ],
   "source": [
    "min_support = 0.001\n",
    "min_support_count = min_support*len(df_discretized)\n",
    "min_support_count"
   ]
  },
  {
   "cell_type": "code",
   "execution_count": 7,
   "metadata": {},
   "outputs": [],
   "source": [
    "import resource\n",
    "\n",
    "def limit_memory(max_mem_mb):\n",
    "    \"\"\"Limit memory usage of the current notebook process.\"\"\"\n",
    "    soft, hard = max_mem_mb * 1024 * 1024, max_mem_mb * 1024 * 1024\n",
    "    resource.setrlimit(resource.RLIMIT_AS, (soft, hard))\n",
    "\n",
    "# Example: Limit the notebook to 2 GB of memory\n",
    "limit_memory(32*1024)"
   ]
  },
  {
   "cell_type": "markdown",
   "metadata": {},
   "source": [
    "## FPR"
   ]
  },
  {
   "cell_type": "code",
   "execution_count": 8,
   "metadata": {},
   "outputs": [],
   "source": [
    "from divexplorer.outcomes import get_false_positive_rate_outcome\n",
    "\n",
    "target_col = 'fp'\n",
    "\n",
    "df_discretized_analyze = df_discretized.copy()\n",
    "\n",
    "df_discretized_analyze[target_col] =  get_false_positive_rate_outcome(df_discretized_analyze['class'].values, df_discretized_analyze['predicted'].values)\n",
    "\n",
    "df_discretized_analyze.drop(columns=[\"class\", \"predicted\"], inplace=True)\n",
    "\n",
    "type_outcome = 'boolean'"
   ]
  },
  {
   "cell_type": "code",
   "execution_count": 9,
   "metadata": {},
   "outputs": [],
   "source": [
    "from divexplorer import DivergenceExplorer\n",
    "\n",
    "fp_diver = DivergenceExplorer(df_discretized_analyze)"
   ]
  },
  {
   "cell_type": "code",
   "execution_count": 10,
   "metadata": {},
   "outputs": [
    {
     "name": "stdout",
     "output_type": "stream",
     "text": [
      "--- 3.284219264984131 seconds ---\n"
     ]
    }
   ],
   "source": [
    "import time\n",
    "try:\n",
    "    start_time = time.time()\n",
    "    subgroups = fp_diver.get_pattern_divergence(min_support=min_support, boolean_outcomes=[target_col])\n",
    "    print(\"--- %s seconds ---\" % (time.time() - start_time))\n",
    "except MemoryError:\n",
    "    print(\"Memory limit exceeded!\")"
   ]
  },
  {
   "cell_type": "code",
   "execution_count": 11,
   "metadata": {},
   "outputs": [],
   "source": [
    "cols = ['itemset', 'support', target_col, f\"{target_col}_div\", f\"{target_col}_t\"]"
   ]
  },
  {
   "cell_type": "code",
   "execution_count": 12,
   "metadata": {},
   "outputs": [],
   "source": [
    "from divexplorer import DivergencePatternProcessor\n",
    "\n",
    "\n",
    "fp_details = DivergencePatternProcessor(subgroups, target_col)"
   ]
  },
  {
   "cell_type": "code",
   "execution_count": 13,
   "metadata": {},
   "outputs": [
    {
     "name": "stdout",
     "output_type": "stream",
     "text": [
      "--- 0.40227603912353516 seconds ---\n"
     ]
    }
   ],
   "source": [
    "import time\n",
    "try:\n",
    "    \n",
    "    start_time = time.time()\n",
    "    patterns = fp_details.get_patterns(th_redundancy=0)\n",
    "    print(\"--- %s seconds ---\" % (time.time() - start_time))\n",
    "except MemoryError:\n",
    "    print(\"Memory limit exceeded!\")"
   ]
  },
  {
   "cell_type": "code",
   "execution_count": 14,
   "metadata": {},
   "outputs": [
    {
     "data": {
      "text/html": [
       "<div>\n",
       "<style scoped>\n",
       "    .dataframe tbody tr th:only-of-type {\n",
       "        vertical-align: middle;\n",
       "    }\n",
       "\n",
       "    .dataframe tbody tr th {\n",
       "        vertical-align: top;\n",
       "    }\n",
       "\n",
       "    .dataframe thead th {\n",
       "        text-align: right;\n",
       "    }\n",
       "</style>\n",
       "<table border=\"1\" class=\"dataframe\">\n",
       "  <thead>\n",
       "    <tr style=\"text-align: right;\">\n",
       "      <th></th>\n",
       "      <th>itemset</th>\n",
       "      <th>support</th>\n",
       "      <th>fp</th>\n",
       "      <th>fp_div</th>\n",
       "      <th>fp_t</th>\n",
       "    </tr>\n",
       "  </thead>\n",
       "  <tbody>\n",
       "    <tr>\n",
       "      <th>242</th>\n",
       "      <td>a=1, b=1, c=1</td>\n",
       "      <td>0.127</td>\n",
       "      <td>1.00</td>\n",
       "      <td>0.86</td>\n",
       "      <td>500.0</td>\n",
       "    </tr>\n",
       "    <tr>\n",
       "      <th>557</th>\n",
       "      <td>a=0, b=0, c=0</td>\n",
       "      <td>0.125</td>\n",
       "      <td>1.00</td>\n",
       "      <td>0.86</td>\n",
       "      <td>500.0</td>\n",
       "    </tr>\n",
       "    <tr>\n",
       "      <th>57582</th>\n",
       "      <td>a=0, c=0, d=1, e=1, f=0, g=1, h=1, i=1, j=0</td>\n",
       "      <td>0.002</td>\n",
       "      <td>0.52</td>\n",
       "      <td>0.37</td>\n",
       "      <td>5.8</td>\n",
       "    </tr>\n",
       "  </tbody>\n",
       "</table>\n",
       "</div>"
      ],
      "text/plain": [
       "                                           itemset  support    fp  fp_div  \\\n",
       "242                                  a=1, b=1, c=1    0.127  1.00    0.86   \n",
       "557                                  a=0, b=0, c=0    0.125  1.00    0.86   \n",
       "57582  a=0, c=0, d=1, e=1, f=0, g=1, h=1, i=1, j=0    0.002  0.52    0.37   \n",
       "\n",
       "        fp_t  \n",
       "242    500.0  \n",
       "557    500.0  \n",
       "57582    5.8  "
      ]
     },
     "metadata": {},
     "output_type": "display_data"
    },
    {
     "name": "stdout",
     "output_type": "stream",
     "text": [
      "\\begin{tabular}{lrrrr}\n",
      "\\toprule\n",
      "                                    itemset &  support &   fp &  fp\\_div &  fp\\_t \\\\\n",
      "\\midrule\n",
      "                              a=1, b=1, c=1 &    0.127 & 1.00 &    0.86 & 500.0 \\\\\n",
      "                              a=0, b=0, c=0 &    0.125 & 1.00 &    0.86 & 500.0 \\\\\n",
      "a=0, c=0, d=1, e=1, f=0, g=1, h=1, i=1, j=0 &    0.002 & 0.52 &    0.37 &   5.8 \\\\\n",
      "\\bottomrule\n",
      "\\end{tabular}\n",
      "\n"
     ]
    },
    {
     "name": "stderr",
     "output_type": "stream",
     "text": [
      "/tmp/ipykernel_594466/987044874.py:6: FutureWarning: In future versions `DataFrame.to_latex` is expected to utilise the base implementation of `Styler.to_latex` for formatting and rendering. The arguments signature may therefore change. It is recommended instead to use `DataFrame.style.to_latex` which also contains additional functionality.\n",
      "  print(subgroups_print.to_latex(index=False))\n"
     ]
    }
   ],
   "source": [
    "subgroups_print = patterns[cols].sort_values(by=f\"{target_col}_div\", ascending=False).head(3).copy()\n",
    "subgroups_print = printable(subgroups_print, target_col)\n",
    "\n",
    "display(subgroups_print)\n",
    "\n",
    "print(subgroups_print.to_latex(index=False))"
   ]
  },
  {
   "cell_type": "code",
   "execution_count": 15,
   "metadata": {},
   "outputs": [
    {
     "data": {
      "text/plain": [
       "0.14432187485695977"
      ]
     },
     "execution_count": 15,
     "metadata": {},
     "output_type": "execute_result"
    }
   ],
   "source": [
    "patterns.loc[patterns['itemset']==frozenset()].iloc[0][target_col]"
   ]
  },
  {
   "cell_type": "markdown",
   "metadata": {},
   "source": [
    "### Global"
   ]
  },
  {
   "cell_type": "code",
   "execution_count": 16,
   "metadata": {},
   "outputs": [],
   "source": [
    "gsv = fp_details.global_shapley_value()"
   ]
  },
  {
   "cell_type": "code",
   "execution_count": 17,
   "metadata": {},
   "outputs": [],
   "source": [
    "individual_divergence = fp_details.patterns.loc[fp_details.patterns['length']==1][['itemset', f'{target_col}_div']]\\\n",
    "    .set_index('itemset').to_dict()[f'{target_col}_div']"
   ]
  },
  {
   "cell_type": "code",
   "execution_count": 18,
   "metadata": {},
   "outputs": [
    {
     "data": {
      "image/png": "[encoded data removed]",
      "text/plain": [
       "<Figure size 500x400 with 2 Axes>"
      ]
     },
     "metadata": {},
     "output_type": "display_data"
    }
   ],
   "source": [
    "from utils import plot_comparison_ShapleyValues, normalize_max\n",
    "\n",
    "K=25\n",
    "topK_global = {k:v for k,v in gsv.items() if k in sorted(gsv, key=lambda x: abs(gsv[x]))[::-1][:K]}\n",
    "topK_indiv = {k:v for k,v in individual_divergence.items() if k in topK_global.keys()}\n",
    "\n",
    "plot_comparison_ShapleyValues(normalize_max(topK_global),\n",
    "                      normalize_max(topK_indiv),\n",
    "                     title=[\"$\\\\tilde{\\\\Delta}^g_{FPR}$\", \"$\\\\Delta_{FPR}$\"], \\\n",
    "                      labelsize=8, height=0.5, size_fig=(5,4),\\\n",
    "                     subcaption=True,\n",
    "                     save_fig=True, \n",
    "                     name_fig='./artificial_10_FPR_shap_gl_compare_0.01.pdf')\n"
   ]
  },
  {
   "cell_type": "markdown",
   "metadata": {},
   "source": [
    "# SliceLine"
   ]
  },
  {
   "cell_type": "code",
   "execution_count": 19,
   "metadata": {},
   "outputs": [
    {
     "data": {
      "text/plain": [
       "['a', 'b', 'c', 'd', 'e', 'f', 'g', 'h', 'i', 'j']"
      ]
     },
     "execution_count": 19,
     "metadata": {},
     "output_type": "execute_result"
    }
   ],
   "source": [
    "attributes = df_discretized.columns.tolist()\n",
    "attributes.remove('class')\n",
    "attributes.remove('predicted')\n",
    "attributes"
   ]
  },
  {
   "cell_type": "code",
   "execution_count": 20,
   "metadata": {},
   "outputs": [],
   "source": [
    "errors = (df_discretized['class']!=df_discretized['predicted']).astype(int)\n",
    "\n",
    "errors = (df_discretized_analyze['fp']==1).astype(int)"
   ]
  },
  {
   "cell_type": "code",
   "execution_count": 21,
   "metadata": {},
   "outputs": [
    {
     "name": "stderr",
     "output_type": "stream",
     "text": [
      "/home/epastor/miniconda3/envs/mainexp/lib/python3.10/site-packages/sklearn/base.py:493: FutureWarning: `BaseEstimator._check_feature_names` is deprecated in 1.6 and will be removed in 1.7. Use `sklearn.utils.validation._check_feature_names` instead.\n",
      "  warnings.warn(\n"
     ]
    },
    {
     "name": "stdout",
     "output_type": "stream",
     "text": [
      "--- 1.632751226425171 seconds ---\n"
     ]
    }
   ],
   "source": [
    "from sliceline.slicefinder import Slicefinder\n",
    "\n",
    "start_time = time.time()\n",
    "\n",
    "try:\n",
    "    sl = Slicefinder(\n",
    "        alpha = 0.95,\n",
    "        k = 100, #df_discretized_analyze[attributes].shape[0],\n",
    "        max_l = 3,  #df_discretized_analyze[attributes].shape[1],\n",
    "        min_sup = round(min_support_count),\n",
    "        verbose = False\n",
    "    )\n",
    "\n",
    "    sl.fit(df_discretized_analyze[attributes], errors)\n",
    "\n",
    "    print(\"--- %s seconds ---\" % (time.time() - start_time))\n",
    "\n",
    "\n",
    "except MemoryError:\n",
    "    print(\"Memory limit exceeded!\")"
   ]
  },
  {
   "cell_type": "code",
   "execution_count": 22,
   "metadata": {},
   "outputs": [],
   "source": [
    "sl_subgroups_df = pd.DataFrame(sl.top_slices_, columns=sl.feature_names_in_, index=sl.get_feature_names_out())"
   ]
  },
  {
   "cell_type": "code",
   "execution_count": 23,
   "metadata": {},
   "outputs": [
    {
     "name": "stderr",
     "output_type": "stream",
     "text": [
      "/home/epastor/miniconda3/envs/mainexp/lib/python3.10/site-packages/sklearn/base.py:493: FutureWarning: `BaseEstimator._check_feature_names` is deprecated in 1.6 and will be removed in 1.7. Use `sklearn.utils.validation._check_feature_names` instead.\n",
      "  warnings.warn(\n"
     ]
    },
    {
     "name": "stdout",
     "output_type": "stream",
     "text": [
      "--- 82.32150316238403 seconds ---\n"
     ]
    }
   ],
   "source": [
    "from sliceline.slicefinder import Slicefinder\n",
    "\n",
    "start_time = time.time()\n",
    "\n",
    "try:\n",
    "    sl = Slicefinder(\n",
    "        k=100,\n",
    "        alpha = 0.95,\n",
    "        max_l = 9,\n",
    "        verbose = False\n",
    "    )\n",
    "\n",
    "    sl.fit(df_discretized_analyze[attributes], errors)\n",
    "\n",
    "    print(\"--- %s seconds ---\" % (time.time() - start_time))\n",
    "\n",
    "\n",
    "except MemoryError:\n",
    "    print(\"Memory limit exceeded!\")"
   ]
  },
  {
   "cell_type": "code",
   "execution_count": 24,
   "metadata": {},
   "outputs": [
    {
     "data": {
      "text/html": [
       "<div>\n",
       "<style scoped>\n",
       "    .dataframe tbody tr th:only-of-type {\n",
       "        vertical-align: middle;\n",
       "    }\n",
       "\n",
       "    .dataframe tbody tr th {\n",
       "        vertical-align: top;\n",
       "    }\n",
       "\n",
       "    .dataframe thead th {\n",
       "        text-align: right;\n",
       "    }\n",
       "</style>\n",
       "<table border=\"1\" class=\"dataframe\">\n",
       "  <thead>\n",
       "    <tr style=\"text-align: right;\">\n",
       "      <th></th>\n",
       "      <th>a</th>\n",
       "      <th>b</th>\n",
       "      <th>c</th>\n",
       "      <th>d</th>\n",
       "      <th>e</th>\n",
       "      <th>f</th>\n",
       "      <th>g</th>\n",
       "      <th>h</th>\n",
       "      <th>i</th>\n",
       "      <th>j</th>\n",
       "    </tr>\n",
       "  </thead>\n",
       "  <tbody>\n",
       "    <tr>\n",
       "      <th>slice_0</th>\n",
       "      <td>0</td>\n",
       "      <td>0</td>\n",
       "      <td>0</td>\n",
       "      <td>None</td>\n",
       "      <td>None</td>\n",
       "      <td>None</td>\n",
       "      <td>None</td>\n",
       "      <td>None</td>\n",
       "      <td>None</td>\n",
       "      <td>None</td>\n",
       "    </tr>\n",
       "    <tr>\n",
       "      <th>slice_1</th>\n",
       "      <td>1</td>\n",
       "      <td>1</td>\n",
       "      <td>1</td>\n",
       "      <td>None</td>\n",
       "      <td>None</td>\n",
       "      <td>None</td>\n",
       "      <td>None</td>\n",
       "      <td>None</td>\n",
       "      <td>None</td>\n",
       "      <td>None</td>\n",
       "    </tr>\n",
       "    <tr>\n",
       "      <th>slice_2</th>\n",
       "      <td>0</td>\n",
       "      <td>0</td>\n",
       "      <td>0</td>\n",
       "      <td>None</td>\n",
       "      <td>None</td>\n",
       "      <td>None</td>\n",
       "      <td>None</td>\n",
       "      <td>1</td>\n",
       "      <td>None</td>\n",
       "      <td>None</td>\n",
       "    </tr>\n",
       "    <tr>\n",
       "      <th>slice_3</th>\n",
       "      <td>0</td>\n",
       "      <td>0</td>\n",
       "      <td>0</td>\n",
       "      <td>None</td>\n",
       "      <td>None</td>\n",
       "      <td>None</td>\n",
       "      <td>1</td>\n",
       "      <td>None</td>\n",
       "      <td>None</td>\n",
       "      <td>None</td>\n",
       "    </tr>\n",
       "    <tr>\n",
       "      <th>slice_4</th>\n",
       "      <td>0</td>\n",
       "      <td>0</td>\n",
       "      <td>0</td>\n",
       "      <td>1</td>\n",
       "      <td>None</td>\n",
       "      <td>None</td>\n",
       "      <td>None</td>\n",
       "      <td>None</td>\n",
       "      <td>None</td>\n",
       "      <td>None</td>\n",
       "    </tr>\n",
       "    <tr>\n",
       "      <th>...</th>\n",
       "      <td>...</td>\n",
       "      <td>...</td>\n",
       "      <td>...</td>\n",
       "      <td>...</td>\n",
       "      <td>...</td>\n",
       "      <td>...</td>\n",
       "      <td>...</td>\n",
       "      <td>...</td>\n",
       "      <td>...</td>\n",
       "      <td>...</td>\n",
       "    </tr>\n",
       "    <tr>\n",
       "      <th>slice_95</th>\n",
       "      <td>1</td>\n",
       "      <td>1</td>\n",
       "      <td>1</td>\n",
       "      <td>1</td>\n",
       "      <td>0</td>\n",
       "      <td>None</td>\n",
       "      <td>None</td>\n",
       "      <td>None</td>\n",
       "      <td>None</td>\n",
       "      <td>None</td>\n",
       "    </tr>\n",
       "    <tr>\n",
       "      <th>slice_96</th>\n",
       "      <td>0</td>\n",
       "      <td>0</td>\n",
       "      <td>0</td>\n",
       "      <td>None</td>\n",
       "      <td>None</td>\n",
       "      <td>0</td>\n",
       "      <td>1</td>\n",
       "      <td>None</td>\n",
       "      <td>None</td>\n",
       "      <td>None</td>\n",
       "    </tr>\n",
       "    <tr>\n",
       "      <th>slice_97</th>\n",
       "      <td>0</td>\n",
       "      <td>0</td>\n",
       "      <td>0</td>\n",
       "      <td>1</td>\n",
       "      <td>None</td>\n",
       "      <td>1</td>\n",
       "      <td>None</td>\n",
       "      <td>None</td>\n",
       "      <td>None</td>\n",
       "      <td>None</td>\n",
       "    </tr>\n",
       "    <tr>\n",
       "      <th>slice_98</th>\n",
       "      <td>0</td>\n",
       "      <td>0</td>\n",
       "      <td>0</td>\n",
       "      <td>None</td>\n",
       "      <td>None</td>\n",
       "      <td>None</td>\n",
       "      <td>None</td>\n",
       "      <td>1</td>\n",
       "      <td>None</td>\n",
       "      <td>1</td>\n",
       "    </tr>\n",
       "    <tr>\n",
       "      <th>slice_99</th>\n",
       "      <td>1</td>\n",
       "      <td>1</td>\n",
       "      <td>1</td>\n",
       "      <td>None</td>\n",
       "      <td>1</td>\n",
       "      <td>None</td>\n",
       "      <td>None</td>\n",
       "      <td>None</td>\n",
       "      <td>1</td>\n",
       "      <td>None</td>\n",
       "    </tr>\n",
       "  </tbody>\n",
       "</table>\n",
       "<p>100 rows × 10 columns</p>\n",
       "</div>"
      ],
      "text/plain": [
       "          a  b  c     d     e     f     g     h     i     j\n",
       "slice_0   0  0  0  None  None  None  None  None  None  None\n",
       "slice_1   1  1  1  None  None  None  None  None  None  None\n",
       "slice_2   0  0  0  None  None  None  None     1  None  None\n",
       "slice_3   0  0  0  None  None  None     1  None  None  None\n",
       "slice_4   0  0  0     1  None  None  None  None  None  None\n",
       "...      .. .. ..   ...   ...   ...   ...   ...   ...   ...\n",
       "slice_95  1  1  1     1     0  None  None  None  None  None\n",
       "slice_96  0  0  0  None  None     0     1  None  None  None\n",
       "slice_97  0  0  0     1  None     1  None  None  None  None\n",
       "slice_98  0  0  0  None  None  None  None     1  None     1\n",
       "slice_99  1  1  1  None     1  None  None  None     1  None\n",
       "\n",
       "[100 rows x 10 columns]"
      ]
     },
     "execution_count": 24,
     "metadata": {},
     "output_type": "execute_result"
    }
   ],
   "source": [
    "sl_subgroups_df = pd.DataFrame(sl.top_slices_, columns=sl.feature_names_in_, index=sl.get_feature_names_out())\n",
    "sl_subgroups_df"
   ]
  },
  {
   "cell_type": "code",
   "execution_count": 25,
   "metadata": {},
   "outputs": [],
   "source": [
    "# Slice Finder"
   ]
  },
  {
   "cell_type": "code",
   "execution_count": 26,
   "metadata": {},
   "outputs": [],
   "source": [
    "from sklearn import model_selection\n",
    "import numpy as np\n",
    "np.random.seed(1)\n",
    "\n",
    "df_train, df_test, labels_train, labels_test = model_selection.train_test_split(df_discretized, df_discretized['predicted'], train_size=0.80)"
   ]
  },
  {
   "cell_type": "code",
   "execution_count": 27,
   "metadata": {},
   "outputs": [],
   "source": [
    "import pandas as pd\n",
    "from sklearn.preprocessing import OneHotEncoder\n",
    "import pandas as pd\n",
    "from sklearn.preprocessing import OneHotEncoder\n",
    "\n",
    "\n",
    "\n",
    "encoder = OneHotEncoder(sparse_output=False)  # sparse=False → return NumPy array\n",
    "encoded_train = encoder.fit_transform(df_train[attributes])\n",
    "encoded_test = encoder.transform(df_test[attributes])\n",
    "\n",
    "\n",
    "df_discretized_ohe_train = pd.DataFrame(encoded_train, columns=encoder.get_feature_names_out(df_discretized[attributes].columns), index=df_train.index)\n",
    "df_discretized_ohe_test = pd.DataFrame(encoded_test, columns=encoder.get_feature_names_out(df_discretized[attributes].columns), index=df_test.index)"
   ]
  },
  {
   "cell_type": "code",
   "execution_count": 28,
   "metadata": {},
   "outputs": [],
   "source": [
    "from sklearn.ensemble import RandomForestClassifier\n",
    "\n",
    "clf = RandomForestClassifier()\n",
    "\n",
    "clf.fit(df_discretized_ohe_train.values, labels_train);"
   ]
  },
  {
   "cell_type": "code",
   "execution_count": 29,
   "metadata": {},
   "outputs": [],
   "source": [
    "import random\n",
    "random.seed(42)\n",
    "\n",
    "df_test_modified = df_test.copy()\n",
    "df_test_modified[\"class\"] = clf.predict(df_discretized_ohe_test.values)\n",
    "df_test_modified[\"predicted\"] = df_test_modified[\"class\"].values\n",
    "id_mod = df_test_modified.loc[(df_test_modified[\"a\"]==df_test_modified[\"b\"]) & (df_test_modified[\"a\"]==df_test_modified[\"c\"])].index\n",
    "id_mod = random.sample(list(id_mod), int(len(id_mod)/2))\n",
    "df_test_modified.loc[id_mod, \"class\"] = 0"
   ]
  },
  {
   "cell_type": "markdown",
   "metadata": {},
   "source": [
    "## DivExplorer"
   ]
  },
  {
   "cell_type": "code",
   "execution_count": 30,
   "metadata": {},
   "outputs": [],
   "source": [
    "from divexplorer.outcomes import get_false_positive_rate_outcome\n",
    "\n",
    "target_col = 'fp'\n",
    "\n",
    "df_discretized_analyze = df_test_modified.copy()\n",
    "\n",
    "df_discretized_analyze[target_col] =  get_false_positive_rate_outcome(df_discretized_analyze['class'].values, df_discretized_analyze['predicted'].values)\n",
    "\n",
    "df_discretized_analyze.drop(columns=[\"class\", \"predicted\"], inplace=True)\n",
    "\n",
    "type_outcome = 'boolean'"
   ]
  },
  {
   "cell_type": "code",
   "execution_count": 31,
   "metadata": {},
   "outputs": [],
   "source": [
    "from divexplorer import DivergenceExplorer\n",
    "\n",
    "fp_diver = DivergenceExplorer(df_discretized_analyze)"
   ]
  },
  {
   "cell_type": "code",
   "execution_count": 32,
   "metadata": {},
   "outputs": [
    {
     "name": "stdout",
     "output_type": "stream",
     "text": [
      "--- 3.3003251552581787 seconds ---\n"
     ]
    }
   ],
   "source": [
    "import time\n",
    "try:\n",
    "    start_time = time.time()\n",
    "    subgroups = fp_diver.get_pattern_divergence(min_support=min_support, boolean_outcomes=[target_col])\n",
    "    print(\"--- %s seconds ---\" % (time.time() - start_time))\n",
    "except MemoryError:\n",
    "    print(\"Memory limit exceeded!\")"
   ]
  },
  {
   "cell_type": "code",
   "execution_count": 33,
   "metadata": {},
   "outputs": [],
   "source": [
    "cols = ['itemset', 'support', target_col, f\"{target_col}_div\", f\"{target_col}_t\"]"
   ]
  },
  {
   "cell_type": "code",
   "execution_count": 34,
   "metadata": {},
   "outputs": [],
   "source": [
    "from divexplorer import DivergencePatternProcessor\n",
    "\n",
    "\n",
    "fp_details = DivergencePatternProcessor(subgroups, target_col)"
   ]
  },
  {
   "cell_type": "code",
   "execution_count": 35,
   "metadata": {},
   "outputs": [
    {
     "name": "stdout",
     "output_type": "stream",
     "text": [
      "--- 0.49326539039611816 seconds ---\n"
     ]
    }
   ],
   "source": [
    "import time\n",
    "try:\n",
    "    \n",
    "    start_time = time.time()\n",
    "    patterns = fp_details.get_patterns(th_redundancy=0.1)\n",
    "    print(\"--- %s seconds ---\" % (time.time() - start_time))\n",
    "except MemoryError:\n",
    "    print(\"Memory limit exceeded!\")"
   ]
  },
  {
   "cell_type": "code",
   "execution_count": 36,
   "metadata": {},
   "outputs": [
    {
     "data": {
      "text/html": [
       "<div>\n",
       "<style scoped>\n",
       "    .dataframe tbody tr th:only-of-type {\n",
       "        vertical-align: middle;\n",
       "    }\n",
       "\n",
       "    .dataframe tbody tr th {\n",
       "        vertical-align: top;\n",
       "    }\n",
       "\n",
       "    .dataframe thead th {\n",
       "        text-align: right;\n",
       "    }\n",
       "</style>\n",
       "<table border=\"1\" class=\"dataframe\">\n",
       "  <thead>\n",
       "    <tr style=\"text-align: right;\">\n",
       "      <th></th>\n",
       "      <th>itemset</th>\n",
       "      <th>support</th>\n",
       "      <th>fp</th>\n",
       "      <th>fp_div</th>\n",
       "      <th>fp_t</th>\n",
       "    </tr>\n",
       "  </thead>\n",
       "  <tbody>\n",
       "    <tr>\n",
       "      <th>362</th>\n",
       "      <td>(b=0, c=0, a=0)</td>\n",
       "      <td>0.1281</td>\n",
       "      <td>1.000000</td>\n",
       "      <td>0.850029</td>\n",
       "      <td>205.767075</td>\n",
       "    </tr>\n",
       "    <tr>\n",
       "      <th>206</th>\n",
       "      <td>(b=1, c=1, a=1)</td>\n",
       "      <td>0.1328</td>\n",
       "      <td>1.000000</td>\n",
       "      <td>0.850029</td>\n",
       "      <td>205.854406</td>\n",
       "    </tr>\n",
       "    <tr>\n",
       "      <th>57525</th>\n",
       "      <td>(c=1, a=1, h=0, j=1, e=0, f=0, d=0, g=0, i=0)</td>\n",
       "      <td>0.0014</td>\n",
       "      <td>0.750000</td>\n",
       "      <td>0.600029</td>\n",
       "      <td>3.978706</td>\n",
       "    </tr>\n",
       "    <tr>\n",
       "      <th>56550</th>\n",
       "      <td>(f=1, h=0, g=0, j=1, e=0, c=0, d=0, a=0, i=0)</td>\n",
       "      <td>0.0017</td>\n",
       "      <td>0.727273</td>\n",
       "      <td>0.577301</td>\n",
       "      <td>4.393911</td>\n",
       "    </tr>\n",
       "    <tr>\n",
       "      <th>51610</th>\n",
       "      <td>(h=1, f=1, e=1, c=0, j=0, d=0, g=1, a=0)</td>\n",
       "      <td>0.0031</td>\n",
       "      <td>0.695652</td>\n",
       "      <td>0.545681</td>\n",
       "      <td>5.787761</td>\n",
       "    </tr>\n",
       "    <tr>\n",
       "      <th>57284</th>\n",
       "      <td>(h=0, b=0, j=1, e=1, c=0, f=0, d=0, g=1, i=0)</td>\n",
       "      <td>0.0015</td>\n",
       "      <td>0.666667</td>\n",
       "      <td>0.516695</td>\n",
       "      <td>3.500694</td>\n",
       "    </tr>\n",
       "    <tr>\n",
       "      <th>47885</th>\n",
       "      <td>(h=1, j=0, b=0, e=0, c=0, i=1, f=0, g=0)</td>\n",
       "      <td>0.0038</td>\n",
       "      <td>0.640000</td>\n",
       "      <td>0.490029</td>\n",
       "      <td>5.250438</td>\n",
       "    </tr>\n",
       "    <tr>\n",
       "      <th>48857</th>\n",
       "      <td>(a=1, b=1, e=1, f=0, j=0, d=0, g=0, i=0)</td>\n",
       "      <td>0.0036</td>\n",
       "      <td>0.615385</td>\n",
       "      <td>0.465413</td>\n",
       "      <td>5.035612</td>\n",
       "    </tr>\n",
       "    <tr>\n",
       "      <th>52798</th>\n",
       "      <td>(h=1, f=1, b=0, j=1, e=0, c=0, i=1, d=0)</td>\n",
       "      <td>0.0027</td>\n",
       "      <td>0.600000</td>\n",
       "      <td>0.450029</td>\n",
       "      <td>4.297234</td>\n",
       "    </tr>\n",
       "    <tr>\n",
       "      <th>40949</th>\n",
       "      <td>(h=1, f=1, e=1, c=0, j=0, d=0, a=0)</td>\n",
       "      <td>0.0062</td>\n",
       "      <td>0.568182</td>\n",
       "      <td>0.418211</td>\n",
       "      <td>5.733481</td>\n",
       "    </tr>\n",
       "    <tr>\n",
       "      <th>57382</th>\n",
       "      <td>(a=1, h=0, b=1, e=1, i=1, j=0, d=1, f=0, g=1)</td>\n",
       "      <td>0.0015</td>\n",
       "      <td>0.555556</td>\n",
       "      <td>0.405584</td>\n",
       "      <td>2.749846</td>\n",
       "    </tr>\n",
       "    <tr>\n",
       "      <th>50873</th>\n",
       "      <td>(c=1, f=1, h=0, b=1, j=1, e=1, d=1, i=0)</td>\n",
       "      <td>0.0033</td>\n",
       "      <td>0.545455</td>\n",
       "      <td>0.395483</td>\n",
       "      <td>3.926920</td>\n",
       "    </tr>\n",
       "    <tr>\n",
       "      <th>52780</th>\n",
       "      <td>(h=1, a=1, f=1, j=1, e=0, i=1, d=0, g=0)</td>\n",
       "      <td>0.0027</td>\n",
       "      <td>0.360000</td>\n",
       "      <td>0.210029</td>\n",
       "      <td>2.412057</td>\n",
       "    </tr>\n",
       "    <tr>\n",
       "      <th>116</th>\n",
       "      <td>(b=1, c=1)</td>\n",
       "      <td>0.2497</td>\n",
       "      <td>0.358397</td>\n",
       "      <td>0.208426</td>\n",
       "      <td>17.578522</td>\n",
       "    </tr>\n",
       "    <tr>\n",
       "      <th>46</th>\n",
       "      <td>(c=1, a=1)</td>\n",
       "      <td>0.2543</td>\n",
       "      <td>0.349572</td>\n",
       "      <td>0.199600</td>\n",
       "      <td>17.109131</td>\n",
       "    </tr>\n",
       "    <tr>\n",
       "      <th>68</th>\n",
       "      <td>(b=0, c=0)</td>\n",
       "      <td>0.2525</td>\n",
       "      <td>0.343536</td>\n",
       "      <td>0.193564</td>\n",
       "      <td>16.759437</td>\n",
       "    </tr>\n",
       "    <tr>\n",
       "      <th>23</th>\n",
       "      <td>(b=1, a=1)</td>\n",
       "      <td>0.2579</td>\n",
       "      <td>0.342962</td>\n",
       "      <td>0.192991</td>\n",
       "      <td>16.750940</td>\n",
       "    </tr>\n",
       "    <tr>\n",
       "      <th>58</th>\n",
       "      <td>(c=0, a=0)</td>\n",
       "      <td>0.2533</td>\n",
       "      <td>0.342091</td>\n",
       "      <td>0.192120</td>\n",
       "      <td>16.680603</td>\n",
       "    </tr>\n",
       "    <tr>\n",
       "      <th>47</th>\n",
       "      <td>(b=0, a=0)</td>\n",
       "      <td>0.2541</td>\n",
       "      <td>0.340659</td>\n",
       "      <td>0.190688</td>\n",
       "      <td>16.602132</td>\n",
       "    </tr>\n",
       "    <tr>\n",
       "      <th>0</th>\n",
       "      <td>()</td>\n",
       "      <td>1.0000</td>\n",
       "      <td>0.149971</td>\n",
       "      <td>0.000000</td>\n",
       "      <td>0.000000</td>\n",
       "    </tr>\n",
       "    <tr>\n",
       "      <th>107</th>\n",
       "      <td>(b=1, c=0)</td>\n",
       "      <td>0.2503</td>\n",
       "      <td>0.000000</td>\n",
       "      <td>-0.149971</td>\n",
       "      <td>38.871523</td>\n",
       "    </tr>\n",
       "    <tr>\n",
       "      <th>128</th>\n",
       "      <td>(c=0, a=1)</td>\n",
       "      <td>0.2495</td>\n",
       "      <td>0.000000</td>\n",
       "      <td>-0.149971</td>\n",
       "      <td>38.869851</td>\n",
       "    </tr>\n",
       "    <tr>\n",
       "      <th>150</th>\n",
       "      <td>(b=0, c=1)</td>\n",
       "      <td>0.2475</td>\n",
       "      <td>0.000000</td>\n",
       "      <td>-0.149971</td>\n",
       "      <td>38.865607</td>\n",
       "    </tr>\n",
       "    <tr>\n",
       "      <th>195</th>\n",
       "      <td>(c=1, a=0)</td>\n",
       "      <td>0.2429</td>\n",
       "      <td>0.000000</td>\n",
       "      <td>-0.149971</td>\n",
       "      <td>38.855474</td>\n",
       "    </tr>\n",
       "    <tr>\n",
       "      <th>198</th>\n",
       "      <td>(b=1, a=0)</td>\n",
       "      <td>0.2421</td>\n",
       "      <td>0.000000</td>\n",
       "      <td>-0.149971</td>\n",
       "      <td>38.853657</td>\n",
       "    </tr>\n",
       "    <tr>\n",
       "      <th>172</th>\n",
       "      <td>(b=0, a=1)</td>\n",
       "      <td>0.2459</td>\n",
       "      <td>0.000000</td>\n",
       "      <td>-0.149971</td>\n",
       "      <td>38.862142</td>\n",
       "    </tr>\n",
       "  </tbody>\n",
       "</table>\n",
       "</div>"
      ],
      "text/plain": [
       "                                             itemset  support        fp  \\\n",
       "362                                  (b=0, c=0, a=0)   0.1281  1.000000   \n",
       "206                                  (b=1, c=1, a=1)   0.1328  1.000000   \n",
       "57525  (c=1, a=1, h=0, j=1, e=0, f=0, d=0, g=0, i=0)   0.0014  0.750000   \n",
       "56550  (f=1, h=0, g=0, j=1, e=0, c=0, d=0, a=0, i=0)   0.0017  0.727273   \n",
       "51610       (h=1, f=1, e=1, c=0, j=0, d=0, g=1, a=0)   0.0031  0.695652   \n",
       "57284  (h=0, b=0, j=1, e=1, c=0, f=0, d=0, g=1, i=0)   0.0015  0.666667   \n",
       "47885       (h=1, j=0, b=0, e=0, c=0, i=1, f=0, g=0)   0.0038  0.640000   \n",
       "48857       (a=1, b=1, e=1, f=0, j=0, d=0, g=0, i=0)   0.0036  0.615385   \n",
       "52798       (h=1, f=1, b=0, j=1, e=0, c=0, i=1, d=0)   0.0027  0.600000   \n",
       "40949            (h=1, f=1, e=1, c=0, j=0, d=0, a=0)   0.0062  0.568182   \n",
       "57382  (a=1, h=0, b=1, e=1, i=1, j=0, d=1, f=0, g=1)   0.0015  0.555556   \n",
       "50873       (c=1, f=1, h=0, b=1, j=1, e=1, d=1, i=0)   0.0033  0.545455   \n",
       "52780       (h=1, a=1, f=1, j=1, e=0, i=1, d=0, g=0)   0.0027  0.360000   \n",
       "116                                       (b=1, c=1)   0.2497  0.358397   \n",
       "46                                        (c=1, a=1)   0.2543  0.349572   \n",
       "68                                        (b=0, c=0)   0.2525  0.343536   \n",
       "23                                        (b=1, a=1)   0.2579  0.342962   \n",
       "58                                        (c=0, a=0)   0.2533  0.342091   \n",
       "47                                        (b=0, a=0)   0.2541  0.340659   \n",
       "0                                                 ()   1.0000  0.149971   \n",
       "107                                       (b=1, c=0)   0.2503  0.000000   \n",
       "128                                       (c=0, a=1)   0.2495  0.000000   \n",
       "150                                       (b=0, c=1)   0.2475  0.000000   \n",
       "195                                       (c=1, a=0)   0.2429  0.000000   \n",
       "198                                       (b=1, a=0)   0.2421  0.000000   \n",
       "172                                       (b=0, a=1)   0.2459  0.000000   \n",
       "\n",
       "         fp_div        fp_t  \n",
       "362    0.850029  205.767075  \n",
       "206    0.850029  205.854406  \n",
       "57525  0.600029    3.978706  \n",
       "56550  0.577301    4.393911  \n",
       "51610  0.545681    5.787761  \n",
       "57284  0.516695    3.500694  \n",
       "47885  0.490029    5.250438  \n",
       "48857  0.465413    5.035612  \n",
       "52798  0.450029    4.297234  \n",
       "40949  0.418211    5.733481  \n",
       "57382  0.405584    2.749846  \n",
       "50873  0.395483    3.926920  \n",
       "52780  0.210029    2.412057  \n",
       "116    0.208426   17.578522  \n",
       "46     0.199600   17.109131  \n",
       "68     0.193564   16.759437  \n",
       "23     0.192991   16.750940  \n",
       "58     0.192120   16.680603  \n",
       "47     0.190688   16.602132  \n",
       "0      0.000000    0.000000  \n",
       "107   -0.149971   38.871523  \n",
       "128   -0.149971   38.869851  \n",
       "150   -0.149971   38.865607  \n",
       "195   -0.149971   38.855474  \n",
       "198   -0.149971   38.853657  \n",
       "172   -0.149971   38.862142  "
      ]
     },
     "execution_count": 36,
     "metadata": {},
     "output_type": "execute_result"
    }
   ],
   "source": [
    "patterns[cols].sort_values(by=f\"{target_col}_div\", ascending=False)"
   ]
  },
  {
   "cell_type": "code",
   "execution_count": 37,
   "metadata": {},
   "outputs": [
    {
     "data": {
      "text/html": [
       "<div>\n",
       "<style scoped>\n",
       "    .dataframe tbody tr th:only-of-type {\n",
       "        vertical-align: middle;\n",
       "    }\n",
       "\n",
       "    .dataframe tbody tr th {\n",
       "        vertical-align: top;\n",
       "    }\n",
       "\n",
       "    .dataframe thead th {\n",
       "        text-align: right;\n",
       "    }\n",
       "</style>\n",
       "<table border=\"1\" class=\"dataframe\">\n",
       "  <thead>\n",
       "    <tr style=\"text-align: right;\">\n",
       "      <th></th>\n",
       "      <th>itemset</th>\n",
       "      <th>support</th>\n",
       "      <th>fp</th>\n",
       "      <th>fp_div</th>\n",
       "      <th>fp_t</th>\n",
       "    </tr>\n",
       "  </thead>\n",
       "  <tbody>\n",
       "    <tr>\n",
       "      <th>362</th>\n",
       "      <td>a=0, b=0, c=0</td>\n",
       "      <td>0.128</td>\n",
       "      <td>1.00</td>\n",
       "      <td>0.85</td>\n",
       "      <td>205.8</td>\n",
       "    </tr>\n",
       "    <tr>\n",
       "      <th>206</th>\n",
       "      <td>a=1, b=1, c=1</td>\n",
       "      <td>0.133</td>\n",
       "      <td>1.00</td>\n",
       "      <td>0.85</td>\n",
       "      <td>205.9</td>\n",
       "    </tr>\n",
       "    <tr>\n",
       "      <th>57525</th>\n",
       "      <td>a=1, c=1, d=0, e=0, f=0, g=0, h=0, i=0, j=1</td>\n",
       "      <td>0.001</td>\n",
       "      <td>0.75</td>\n",
       "      <td>0.60</td>\n",
       "      <td>4.0</td>\n",
       "    </tr>\n",
       "  </tbody>\n",
       "</table>\n",
       "</div>"
      ],
      "text/plain": [
       "                                           itemset  support    fp  fp_div  \\\n",
       "362                                  a=0, b=0, c=0    0.128  1.00    0.85   \n",
       "206                                  a=1, b=1, c=1    0.133  1.00    0.85   \n",
       "57525  a=1, c=1, d=0, e=0, f=0, g=0, h=0, i=0, j=1    0.001  0.75    0.60   \n",
       "\n",
       "        fp_t  \n",
       "362    205.8  \n",
       "206    205.9  \n",
       "57525    4.0  "
      ]
     },
     "metadata": {},
     "output_type": "display_data"
    },
    {
     "name": "stdout",
     "output_type": "stream",
     "text": [
      "\\begin{tabular}{lrrrr}\n",
      "\\toprule\n",
      "                                    itemset &  support &   fp &  fp\\_div &  fp\\_t \\\\\n",
      "\\midrule\n",
      "                              a=0, b=0, c=0 &    0.128 & 1.00 &    0.85 & 205.8 \\\\\n",
      "                              a=1, b=1, c=1 &    0.133 & 1.00 &    0.85 & 205.9 \\\\\n",
      "a=1, c=1, d=0, e=0, f=0, g=0, h=0, i=0, j=1 &    0.001 & 0.75 &    0.60 &   4.0 \\\\\n",
      "\\bottomrule\n",
      "\\end{tabular}\n",
      "\n"
     ]
    },
    {
     "name": "stderr",
     "output_type": "stream",
     "text": [
      "/tmp/ipykernel_594466/987044874.py:6: FutureWarning: In future versions `DataFrame.to_latex` is expected to utilise the base implementation of `Styler.to_latex` for formatting and rendering. The arguments signature may therefore change. It is recommended instead to use `DataFrame.style.to_latex` which also contains additional functionality.\n",
      "  print(subgroups_print.to_latex(index=False))\n"
     ]
    }
   ],
   "source": [
    "subgroups_print = patterns[cols].sort_values(by=f\"{target_col}_div\", ascending=False).head(3).copy()\n",
    "subgroups_print = printable(subgroups_print, target_col)\n",
    "\n",
    "display(subgroups_print)\n",
    "\n",
    "print(subgroups_print.to_latex(index=False))"
   ]
  },
  {
   "cell_type": "code",
   "execution_count": 38,
   "metadata": {},
   "outputs": [
    {
     "data": {
      "text/html": [
       "<div>\n",
       "<style scoped>\n",
       "    .dataframe tbody tr th:only-of-type {\n",
       "        vertical-align: middle;\n",
       "    }\n",
       "\n",
       "    .dataframe tbody tr th {\n",
       "        vertical-align: top;\n",
       "    }\n",
       "\n",
       "    .dataframe thead th {\n",
       "        text-align: right;\n",
       "    }\n",
       "</style>\n",
       "<table border=\"1\" class=\"dataframe\">\n",
       "  <thead>\n",
       "    <tr style=\"text-align: right;\">\n",
       "      <th></th>\n",
       "      <th>a_0</th>\n",
       "      <th>a_1</th>\n",
       "      <th>b_0</th>\n",
       "      <th>b_1</th>\n",
       "      <th>c_0</th>\n",
       "      <th>c_1</th>\n",
       "      <th>d_0</th>\n",
       "      <th>d_1</th>\n",
       "      <th>e_0</th>\n",
       "      <th>e_1</th>\n",
       "      <th>f_0</th>\n",
       "      <th>f_1</th>\n",
       "      <th>g_0</th>\n",
       "      <th>g_1</th>\n",
       "      <th>h_0</th>\n",
       "      <th>h_1</th>\n",
       "      <th>i_0</th>\n",
       "      <th>i_1</th>\n",
       "      <th>j_0</th>\n",
       "      <th>j_1</th>\n",
       "    </tr>\n",
       "  </thead>\n",
       "  <tbody>\n",
       "    <tr>\n",
       "      <th>26247</th>\n",
       "      <td>0.0</td>\n",
       "      <td>1.0</td>\n",
       "      <td>0.0</td>\n",
       "      <td>1.0</td>\n",
       "      <td>0.0</td>\n",
       "      <td>1.0</td>\n",
       "      <td>1.0</td>\n",
       "      <td>0.0</td>\n",
       "      <td>1.0</td>\n",
       "      <td>0.0</td>\n",
       "      <td>0.0</td>\n",
       "      <td>1.0</td>\n",
       "      <td>0.0</td>\n",
       "      <td>1.0</td>\n",
       "      <td>0.0</td>\n",
       "      <td>1.0</td>\n",
       "      <td>1.0</td>\n",
       "      <td>0.0</td>\n",
       "      <td>0.0</td>\n",
       "      <td>1.0</td>\n",
       "    </tr>\n",
       "    <tr>\n",
       "      <th>35067</th>\n",
       "      <td>1.0</td>\n",
       "      <td>0.0</td>\n",
       "      <td>1.0</td>\n",
       "      <td>0.0</td>\n",
       "      <td>1.0</td>\n",
       "      <td>0.0</td>\n",
       "      <td>0.0</td>\n",
       "      <td>1.0</td>\n",
       "      <td>0.0</td>\n",
       "      <td>1.0</td>\n",
       "      <td>1.0</td>\n",
       "      <td>0.0</td>\n",
       "      <td>0.0</td>\n",
       "      <td>1.0</td>\n",
       "      <td>1.0</td>\n",
       "      <td>0.0</td>\n",
       "      <td>0.0</td>\n",
       "      <td>1.0</td>\n",
       "      <td>0.0</td>\n",
       "      <td>1.0</td>\n",
       "    </tr>\n",
       "    <tr>\n",
       "      <th>34590</th>\n",
       "      <td>0.0</td>\n",
       "      <td>1.0</td>\n",
       "      <td>1.0</td>\n",
       "      <td>0.0</td>\n",
       "      <td>1.0</td>\n",
       "      <td>0.0</td>\n",
       "      <td>0.0</td>\n",
       "      <td>1.0</td>\n",
       "      <td>1.0</td>\n",
       "      <td>0.0</td>\n",
       "      <td>1.0</td>\n",
       "      <td>0.0</td>\n",
       "      <td>0.0</td>\n",
       "      <td>1.0</td>\n",
       "      <td>0.0</td>\n",
       "      <td>1.0</td>\n",
       "      <td>0.0</td>\n",
       "      <td>1.0</td>\n",
       "      <td>0.0</td>\n",
       "      <td>1.0</td>\n",
       "    </tr>\n",
       "    <tr>\n",
       "      <th>16668</th>\n",
       "      <td>1.0</td>\n",
       "      <td>0.0</td>\n",
       "      <td>1.0</td>\n",
       "      <td>0.0</td>\n",
       "      <td>1.0</td>\n",
       "      <td>0.0</td>\n",
       "      <td>1.0</td>\n",
       "      <td>0.0</td>\n",
       "      <td>0.0</td>\n",
       "      <td>1.0</td>\n",
       "      <td>1.0</td>\n",
       "      <td>0.0</td>\n",
       "      <td>1.0</td>\n",
       "      <td>0.0</td>\n",
       "      <td>1.0</td>\n",
       "      <td>0.0</td>\n",
       "      <td>1.0</td>\n",
       "      <td>0.0</td>\n",
       "      <td>1.0</td>\n",
       "      <td>0.0</td>\n",
       "    </tr>\n",
       "    <tr>\n",
       "      <th>12196</th>\n",
       "      <td>1.0</td>\n",
       "      <td>0.0</td>\n",
       "      <td>1.0</td>\n",
       "      <td>0.0</td>\n",
       "      <td>1.0</td>\n",
       "      <td>0.0</td>\n",
       "      <td>0.0</td>\n",
       "      <td>1.0</td>\n",
       "      <td>0.0</td>\n",
       "      <td>1.0</td>\n",
       "      <td>1.0</td>\n",
       "      <td>0.0</td>\n",
       "      <td>1.0</td>\n",
       "      <td>0.0</td>\n",
       "      <td>1.0</td>\n",
       "      <td>0.0</td>\n",
       "      <td>0.0</td>\n",
       "      <td>1.0</td>\n",
       "      <td>1.0</td>\n",
       "      <td>0.0</td>\n",
       "    </tr>\n",
       "    <tr>\n",
       "      <th>...</th>\n",
       "      <td>...</td>\n",
       "      <td>...</td>\n",
       "      <td>...</td>\n",
       "      <td>...</td>\n",
       "      <td>...</td>\n",
       "      <td>...</td>\n",
       "      <td>...</td>\n",
       "      <td>...</td>\n",
       "      <td>...</td>\n",
       "      <td>...</td>\n",
       "      <td>...</td>\n",
       "      <td>...</td>\n",
       "      <td>...</td>\n",
       "      <td>...</td>\n",
       "      <td>...</td>\n",
       "      <td>...</td>\n",
       "      <td>...</td>\n",
       "      <td>...</td>\n",
       "      <td>...</td>\n",
       "      <td>...</td>\n",
       "    </tr>\n",
       "    <tr>\n",
       "      <th>49858</th>\n",
       "      <td>0.0</td>\n",
       "      <td>1.0</td>\n",
       "      <td>0.0</td>\n",
       "      <td>1.0</td>\n",
       "      <td>1.0</td>\n",
       "      <td>0.0</td>\n",
       "      <td>0.0</td>\n",
       "      <td>1.0</td>\n",
       "      <td>1.0</td>\n",
       "      <td>0.0</td>\n",
       "      <td>1.0</td>\n",
       "      <td>0.0</td>\n",
       "      <td>1.0</td>\n",
       "      <td>0.0</td>\n",
       "      <td>1.0</td>\n",
       "      <td>0.0</td>\n",
       "      <td>1.0</td>\n",
       "      <td>0.0</td>\n",
       "      <td>0.0</td>\n",
       "      <td>1.0</td>\n",
       "    </tr>\n",
       "    <tr>\n",
       "      <th>19849</th>\n",
       "      <td>0.0</td>\n",
       "      <td>1.0</td>\n",
       "      <td>0.0</td>\n",
       "      <td>1.0</td>\n",
       "      <td>1.0</td>\n",
       "      <td>0.0</td>\n",
       "      <td>1.0</td>\n",
       "      <td>0.0</td>\n",
       "      <td>1.0</td>\n",
       "      <td>0.0</td>\n",
       "      <td>1.0</td>\n",
       "      <td>0.0</td>\n",
       "      <td>0.0</td>\n",
       "      <td>1.0</td>\n",
       "      <td>1.0</td>\n",
       "      <td>0.0</td>\n",
       "      <td>0.0</td>\n",
       "      <td>1.0</td>\n",
       "      <td>1.0</td>\n",
       "      <td>0.0</td>\n",
       "    </tr>\n",
       "    <tr>\n",
       "      <th>46899</th>\n",
       "      <td>0.0</td>\n",
       "      <td>1.0</td>\n",
       "      <td>1.0</td>\n",
       "      <td>0.0</td>\n",
       "      <td>0.0</td>\n",
       "      <td>1.0</td>\n",
       "      <td>0.0</td>\n",
       "      <td>1.0</td>\n",
       "      <td>0.0</td>\n",
       "      <td>1.0</td>\n",
       "      <td>1.0</td>\n",
       "      <td>0.0</td>\n",
       "      <td>1.0</td>\n",
       "      <td>0.0</td>\n",
       "      <td>0.0</td>\n",
       "      <td>1.0</td>\n",
       "      <td>1.0</td>\n",
       "      <td>0.0</td>\n",
       "      <td>0.0</td>\n",
       "      <td>1.0</td>\n",
       "    </tr>\n",
       "    <tr>\n",
       "      <th>28256</th>\n",
       "      <td>1.0</td>\n",
       "      <td>0.0</td>\n",
       "      <td>1.0</td>\n",
       "      <td>0.0</td>\n",
       "      <td>0.0</td>\n",
       "      <td>1.0</td>\n",
       "      <td>1.0</td>\n",
       "      <td>0.0</td>\n",
       "      <td>0.0</td>\n",
       "      <td>1.0</td>\n",
       "      <td>0.0</td>\n",
       "      <td>1.0</td>\n",
       "      <td>0.0</td>\n",
       "      <td>1.0</td>\n",
       "      <td>0.0</td>\n",
       "      <td>1.0</td>\n",
       "      <td>0.0</td>\n",
       "      <td>1.0</td>\n",
       "      <td>1.0</td>\n",
       "      <td>0.0</td>\n",
       "    </tr>\n",
       "    <tr>\n",
       "      <th>43070</th>\n",
       "      <td>1.0</td>\n",
       "      <td>0.0</td>\n",
       "      <td>0.0</td>\n",
       "      <td>1.0</td>\n",
       "      <td>1.0</td>\n",
       "      <td>0.0</td>\n",
       "      <td>1.0</td>\n",
       "      <td>0.0</td>\n",
       "      <td>1.0</td>\n",
       "      <td>0.0</td>\n",
       "      <td>0.0</td>\n",
       "      <td>1.0</td>\n",
       "      <td>1.0</td>\n",
       "      <td>0.0</td>\n",
       "      <td>0.0</td>\n",
       "      <td>1.0</td>\n",
       "      <td>1.0</td>\n",
       "      <td>0.0</td>\n",
       "      <td>1.0</td>\n",
       "      <td>0.0</td>\n",
       "    </tr>\n",
       "  </tbody>\n",
       "</table>\n",
       "<p>10000 rows × 20 columns</p>\n",
       "</div>"
      ],
      "text/plain": [
       "       a_0  a_1  b_0  b_1  c_0  c_1  d_0  d_1  e_0  e_1  f_0  f_1  g_0  g_1  \\\n",
       "26247  0.0  1.0  0.0  1.0  0.0  1.0  1.0  0.0  1.0  0.0  0.0  1.0  0.0  1.0   \n",
       "35067  1.0  0.0  1.0  0.0  1.0  0.0  0.0  1.0  0.0  1.0  1.0  0.0  0.0  1.0   \n",
       "34590  0.0  1.0  1.0  0.0  1.0  0.0  0.0  1.0  1.0  0.0  1.0  0.0  0.0  1.0   \n",
       "16668  1.0  0.0  1.0  0.0  1.0  0.0  1.0  0.0  0.0  1.0  1.0  0.0  1.0  0.0   \n",
       "12196  1.0  0.0  1.0  0.0  1.0  0.0  0.0  1.0  0.0  1.0  1.0  0.0  1.0  0.0   \n",
       "...    ...  ...  ...  ...  ...  ...  ...  ...  ...  ...  ...  ...  ...  ...   \n",
       "49858  0.0  1.0  0.0  1.0  1.0  0.0  0.0  1.0  1.0  0.0  1.0  0.0  1.0  0.0   \n",
       "19849  0.0  1.0  0.0  1.0  1.0  0.0  1.0  0.0  1.0  0.0  1.0  0.0  0.0  1.0   \n",
       "46899  0.0  1.0  1.0  0.0  0.0  1.0  0.0  1.0  0.0  1.0  1.0  0.0  1.0  0.0   \n",
       "28256  1.0  0.0  1.0  0.0  0.0  1.0  1.0  0.0  0.0  1.0  0.0  1.0  0.0  1.0   \n",
       "43070  1.0  0.0  0.0  1.0  1.0  0.0  1.0  0.0  1.0  0.0  0.0  1.0  1.0  0.0   \n",
       "\n",
       "       h_0  h_1  i_0  i_1  j_0  j_1  \n",
       "26247  0.0  1.0  1.0  0.0  0.0  1.0  \n",
       "35067  1.0  0.0  0.0  1.0  0.0  1.0  \n",
       "34590  0.0  1.0  0.0  1.0  0.0  1.0  \n",
       "16668  1.0  0.0  1.0  0.0  1.0  0.0  \n",
       "12196  1.0  0.0  0.0  1.0  1.0  0.0  \n",
       "...    ...  ...  ...  ...  ...  ...  \n",
       "49858  1.0  0.0  1.0  0.0  0.0  1.0  \n",
       "19849  1.0  0.0  0.0  1.0  1.0  0.0  \n",
       "46899  0.0  1.0  1.0  0.0  0.0  1.0  \n",
       "28256  0.0  1.0  0.0  1.0  1.0  0.0  \n",
       "43070  0.0  1.0  1.0  0.0  1.0  0.0  \n",
       "\n",
       "[10000 rows x 20 columns]"
      ]
     },
     "execution_count": 38,
     "metadata": {},
     "output_type": "execute_result"
    }
   ],
   "source": [
    "df_discretized_ohe_test"
   ]
  },
  {
   "cell_type": "code",
   "execution_count": null,
   "metadata": {},
   "outputs": [
    {
     "name": "stderr",
     "output_type": "stream",
     "text": [
      "/home/epastor/miniconda3/envs/mainexp/lib/python3.10/site-packages/sklearn/utils/validation.py:2732: UserWarning: X has feature names, but RandomForestClassifier was fitted without feature names\n",
      "  warnings.warn(\n"
     ]
    },
    {
     "name": "stdout",
     "output_type": "stream",
     "text": [
      "degree 1\n",
      "crossing\n",
      "effect size filtering\n",
      "degree 2\n",
      "crossing\n",
      "effect size filtering\n",
      "degree 3\n",
      "crossing\n",
      "effect size filtering\n"
     ]
    }
   ],
   "source": [
    "import functools\n",
    "\n",
    "y_predict_prob_test = clf.predict_proba(df_discretized_ohe_test)\n",
    "\n",
    "modified_class = df_test_modified[\"class\"]\n",
    "modified_predicted = df_test_modified[\"predicted\"]\n",
    "\n",
    "\n",
    "\n",
    "from slice_finder import SliceFinder\n",
    "max_workers=1\n",
    "\n",
    "n_bin=10\n",
    "degree=3\n",
    "sf = SliceFinder(clf, (df_discretized_ohe_test, modified_class))\n",
    "\n",
    "recommendations = sf.find_slice(degree=degree, max_workers=1, epsilon=1, alpha=1)\n"
   ]
  },
  {
   "cell_type": "code",
   "execution_count": null,
   "metadata": {},
   "outputs": [],
   "source": [
    "import warnings\n",
    "\n",
    "warnings.filterwarnings(\n",
    "    \"ignore\",\n",
    "    message=\"X does not have valid feature names, but RandomForestClassifier was fitted with feature names\"\n",
    ")"
   ]
  },
  {
   "cell_type": "code",
   "execution_count": null,
   "metadata": {},
   "outputs": [],
   "source": [
    "recommendations = sf.find_slice(k=3, epsilon=0.8, degree=2)"
   ]
  },
  {
   "cell_type": "code",
   "execution_count": null,
   "metadata": {},
   "outputs": [],
   "source": [
    "def getSliceFrozenset(s):\n",
    "    slice_i = []\n",
    "    for k, v in list(s.filters.items()):\n",
    "        values = ''\n",
    "        for _v in v:\n",
    "            values += '%s'%(_v)\n",
    "        #if k in encoders:\n",
    "        #    le = encoders[k]\n",
    "        #    for v_ in v:\n",
    "        #        values += '%s'%(le.inverse_transform(v_)[0])\n",
    "        slice_i.append('%s=%s'%(k, values))\n",
    "    return frozenset(slice_i)"
   ]
  },
  {
   "cell_type": "code",
   "execution_count": null,
   "metadata": {},
   "outputs": [],
   "source": [
    "rows=[]\n",
    "for s in recommendations:\n",
    "    rows.append([getSliceFrozenset(s), s.metric, s.effect_size])\n",
    "df_slices=pd.DataFrame(rows, columns=[\"slice\", \"log_loss\", \"effect_size\"])\n",
    "df_slices"
   ]
  },
  {
   "cell_type": "code",
   "execution_count": null,
   "metadata": {},
   "outputs": [],
   "source": []
  },
  {
   "cell_type": "code",
   "execution_count": null,
   "metadata": {},
   "outputs": [],
   "source": []
  }
 ],
 "metadata": {
  "kernelspec": {
   "display_name": "mainexp",
   "language": "python",
   "name": "mainexp"
  },
  "language_info": {
   "codemirror_mode": {
    "name": "ipython",
    "version": 3
   },
   "file_extension": ".py",
   "mimetype": "text/x-python",
   "name": "python",
   "nbconvert_exporter": "python",
   "pygments_lexer": "ipython3",
   "version": "3.10.8"
  }
 },
 "nbformat": 4,
 "nbformat_minor": 2
}
