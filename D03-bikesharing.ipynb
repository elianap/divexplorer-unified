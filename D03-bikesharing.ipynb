{
 "cells": [
  {
   "cell_type": "code",
   "execution_count": 1,
   "id": "68ea5a19",
   "metadata": {},
   "outputs": [],
   "source": [
    "%load_ext autoreload\n",
    "%autoreload 2"
   ]
  },
  {
   "cell_type": "code",
   "execution_count": 2,
   "id": "4875269a",
   "metadata": {},
   "outputs": [],
   "source": [
    "import pandas as pd\n",
    "pd.set_option('display.max_colwidth', None)\n",
    "\n",
    "from utils_data import import_process_bike_sharing_data\n",
    "from utils import printable\n",
    "import time\n",
    "\n",
    "# Set all the seeds for reproducibility\n",
    "import numpy as np\n",
    "import random\n",
    "np.random.seed(42)\n",
    "random.seed(42)\n",
    "\n",
    "\n"
   ]
  },
  {
   "cell_type": "markdown",
   "id": "87e0857a",
   "metadata": {},
   "source": [
    "Note: slighly different than mp6 results - we have a different random seed"
   ]
  },
  {
   "cell_type": "markdown",
   "id": "5793162d",
   "metadata": {},
   "source": [
    "# Read data"
   ]
  },
  {
   "cell_type": "code",
   "execution_count": 3,
   "id": "5411c427",
   "metadata": {},
   "outputs": [],
   "source": [
    "from utils import discretize\n",
    "\n",
    "df, target_col = import_process_bike_sharing_data()\n",
    "\n",
    "continuous_attributes = [\"temp\", \"atemp\", \"hum\", \"windspeed\"]\n",
    "df_discretized = discretize(df, attributes=continuous_attributes, bins=3, round_v=0)"
   ]
  },
  {
   "cell_type": "code",
   "execution_count": 4,
   "id": "81e6afca",
   "metadata": {},
   "outputs": [],
   "source": [
    "attributes = list(df.columns)\n",
    "attributes.remove(target_col)"
   ]
  },
  {
   "cell_type": "code",
   "execution_count": 5,
   "id": "e12d7fcb",
   "metadata": {},
   "outputs": [
    {
     "data": {
      "text/html": [
       "<div>\n",
       "<style scoped>\n",
       "    .dataframe tbody tr th:only-of-type {\n",
       "        vertical-align: middle;\n",
       "    }\n",
       "\n",
       "    .dataframe tbody tr th {\n",
       "        vertical-align: top;\n",
       "    }\n",
       "\n",
       "    .dataframe thead th {\n",
       "        text-align: right;\n",
       "    }\n",
       "</style>\n",
       "<table border=\"1\" class=\"dataframe\">\n",
       "  <thead>\n",
       "    <tr style=\"text-align: right;\">\n",
       "      <th></th>\n",
       "      <th>season</th>\n",
       "      <th>yr</th>\n",
       "      <th>mnth</th>\n",
       "      <th>hr</th>\n",
       "      <th>holiday</th>\n",
       "      <th>weekday</th>\n",
       "      <th>workingday</th>\n",
       "      <th>weathersit</th>\n",
       "      <th>temp</th>\n",
       "      <th>atemp</th>\n",
       "      <th>hum</th>\n",
       "      <th>windspeed</th>\n",
       "      <th>cnt</th>\n",
       "    </tr>\n",
       "  </thead>\n",
       "  <tbody>\n",
       "    <tr>\n",
       "      <th>0</th>\n",
       "      <td>winter</td>\n",
       "      <td>2011</td>\n",
       "      <td>1</td>\n",
       "      <td>0</td>\n",
       "      <td>0</td>\n",
       "      <td>Sat</td>\n",
       "      <td>0</td>\n",
       "      <td>good</td>\n",
       "      <td>3.28</td>\n",
       "      <td>25.7886</td>\n",
       "      <td>81.0</td>\n",
       "      <td>0.0000</td>\n",
       "      <td>16</td>\n",
       "    </tr>\n",
       "    <tr>\n",
       "      <th>1</th>\n",
       "      <td>winter</td>\n",
       "      <td>2011</td>\n",
       "      <td>1</td>\n",
       "      <td>1</td>\n",
       "      <td>0</td>\n",
       "      <td>Sat</td>\n",
       "      <td>0</td>\n",
       "      <td>good</td>\n",
       "      <td>2.34</td>\n",
       "      <td>25.2718</td>\n",
       "      <td>80.0</td>\n",
       "      <td>0.0000</td>\n",
       "      <td>40</td>\n",
       "    </tr>\n",
       "    <tr>\n",
       "      <th>2</th>\n",
       "      <td>winter</td>\n",
       "      <td>2011</td>\n",
       "      <td>1</td>\n",
       "      <td>2</td>\n",
       "      <td>0</td>\n",
       "      <td>Sat</td>\n",
       "      <td>0</td>\n",
       "      <td>good</td>\n",
       "      <td>2.34</td>\n",
       "      <td>25.2718</td>\n",
       "      <td>80.0</td>\n",
       "      <td>0.0000</td>\n",
       "      <td>32</td>\n",
       "    </tr>\n",
       "    <tr>\n",
       "      <th>3</th>\n",
       "      <td>winter</td>\n",
       "      <td>2011</td>\n",
       "      <td>1</td>\n",
       "      <td>3</td>\n",
       "      <td>0</td>\n",
       "      <td>Sat</td>\n",
       "      <td>0</td>\n",
       "      <td>good</td>\n",
       "      <td>3.28</td>\n",
       "      <td>25.7886</td>\n",
       "      <td>75.0</td>\n",
       "      <td>0.0000</td>\n",
       "      <td>13</td>\n",
       "    </tr>\n",
       "    <tr>\n",
       "      <th>4</th>\n",
       "      <td>winter</td>\n",
       "      <td>2011</td>\n",
       "      <td>1</td>\n",
       "      <td>4</td>\n",
       "      <td>0</td>\n",
       "      <td>Sat</td>\n",
       "      <td>0</td>\n",
       "      <td>good</td>\n",
       "      <td>3.28</td>\n",
       "      <td>25.7886</td>\n",
       "      <td>75.0</td>\n",
       "      <td>0.0000</td>\n",
       "      <td>1</td>\n",
       "    </tr>\n",
       "    <tr>\n",
       "      <th>...</th>\n",
       "      <td>...</td>\n",
       "      <td>...</td>\n",
       "      <td>...</td>\n",
       "      <td>...</td>\n",
       "      <td>...</td>\n",
       "      <td>...</td>\n",
       "      <td>...</td>\n",
       "      <td>...</td>\n",
       "      <td>...</td>\n",
       "      <td>...</td>\n",
       "      <td>...</td>\n",
       "      <td>...</td>\n",
       "      <td>...</td>\n",
       "    </tr>\n",
       "    <tr>\n",
       "      <th>17374</th>\n",
       "      <td>winter</td>\n",
       "      <td>2021</td>\n",
       "      <td>12</td>\n",
       "      <td>19</td>\n",
       "      <td>0</td>\n",
       "      <td>Mon</td>\n",
       "      <td>1</td>\n",
       "      <td>misty</td>\n",
       "      <td>4.22</td>\n",
       "      <td>24.7584</td>\n",
       "      <td>60.0</td>\n",
       "      <td>11.0014</td>\n",
       "      <td>119</td>\n",
       "    </tr>\n",
       "    <tr>\n",
       "      <th>17375</th>\n",
       "      <td>winter</td>\n",
       "      <td>2021</td>\n",
       "      <td>12</td>\n",
       "      <td>20</td>\n",
       "      <td>0</td>\n",
       "      <td>Mon</td>\n",
       "      <td>1</td>\n",
       "      <td>misty</td>\n",
       "      <td>4.22</td>\n",
       "      <td>24.7584</td>\n",
       "      <td>60.0</td>\n",
       "      <td>11.0014</td>\n",
       "      <td>89</td>\n",
       "    </tr>\n",
       "    <tr>\n",
       "      <th>17376</th>\n",
       "      <td>winter</td>\n",
       "      <td>2021</td>\n",
       "      <td>12</td>\n",
       "      <td>21</td>\n",
       "      <td>0</td>\n",
       "      <td>Mon</td>\n",
       "      <td>1</td>\n",
       "      <td>good</td>\n",
       "      <td>4.22</td>\n",
       "      <td>24.7584</td>\n",
       "      <td>60.0</td>\n",
       "      <td>11.0014</td>\n",
       "      <td>90</td>\n",
       "    </tr>\n",
       "    <tr>\n",
       "      <th>17377</th>\n",
       "      <td>winter</td>\n",
       "      <td>2021</td>\n",
       "      <td>12</td>\n",
       "      <td>22</td>\n",
       "      <td>0</td>\n",
       "      <td>Mon</td>\n",
       "      <td>1</td>\n",
       "      <td>good</td>\n",
       "      <td>4.22</td>\n",
       "      <td>25.2718</td>\n",
       "      <td>56.0</td>\n",
       "      <td>8.9981</td>\n",
       "      <td>61</td>\n",
       "    </tr>\n",
       "    <tr>\n",
       "      <th>17378</th>\n",
       "      <td>winter</td>\n",
       "      <td>2021</td>\n",
       "      <td>12</td>\n",
       "      <td>23</td>\n",
       "      <td>0</td>\n",
       "      <td>Mon</td>\n",
       "      <td>1</td>\n",
       "      <td>good</td>\n",
       "      <td>4.22</td>\n",
       "      <td>25.2718</td>\n",
       "      <td>65.0</td>\n",
       "      <td>8.9981</td>\n",
       "      <td>49</td>\n",
       "    </tr>\n",
       "  </tbody>\n",
       "</table>\n",
       "<p>17379 rows × 13 columns</p>\n",
       "</div>"
      ],
      "text/plain": [
       "       season    yr  mnth  hr  holiday weekday  workingday weathersit  temp  \\\n",
       "0      winter  2011     1   0        0     Sat           0       good  3.28   \n",
       "1      winter  2011     1   1        0     Sat           0       good  2.34   \n",
       "2      winter  2011     1   2        0     Sat           0       good  2.34   \n",
       "3      winter  2011     1   3        0     Sat           0       good  3.28   \n",
       "4      winter  2011     1   4        0     Sat           0       good  3.28   \n",
       "...       ...   ...   ...  ..      ...     ...         ...        ...   ...   \n",
       "17374  winter  2021    12  19        0     Mon           1      misty  4.22   \n",
       "17375  winter  2021    12  20        0     Mon           1      misty  4.22   \n",
       "17376  winter  2021    12  21        0     Mon           1       good  4.22   \n",
       "17377  winter  2021    12  22        0     Mon           1       good  4.22   \n",
       "17378  winter  2021    12  23        0     Mon           1       good  4.22   \n",
       "\n",
       "         atemp   hum  windspeed  cnt  \n",
       "0      25.7886  81.0     0.0000   16  \n",
       "1      25.2718  80.0     0.0000   40  \n",
       "2      25.2718  80.0     0.0000   32  \n",
       "3      25.7886  75.0     0.0000   13  \n",
       "4      25.7886  75.0     0.0000    1  \n",
       "...        ...   ...        ...  ...  \n",
       "17374  24.7584  60.0    11.0014  119  \n",
       "17375  24.7584  60.0    11.0014   89  \n",
       "17376  24.7584  60.0    11.0014   90  \n",
       "17377  25.2718  56.0     8.9981   61  \n",
       "17378  25.2718  65.0     8.9981   49  \n",
       "\n",
       "[17379 rows x 13 columns]"
      ]
     },
     "execution_count": 5,
     "metadata": {},
     "output_type": "execute_result"
    }
   ],
   "source": [
    "df"
   ]
  },
  {
   "cell_type": "markdown",
   "id": "670c6ef2",
   "metadata": {},
   "source": [
    "# Regression model"
   ]
  },
  {
   "cell_type": "markdown",
   "id": "ab7fef91",
   "metadata": {},
   "source": [
    "## Split the data into training and test sets"
   ]
  },
  {
   "cell_type": "code",
   "execution_count": 6,
   "id": "a1c2dd25",
   "metadata": {},
   "outputs": [],
   "source": [
    "# Divide the dataset into training and testing sets\n",
    "index_end_train = int(len(df)*0.7)\n",
    "X_train, X_test= df[attributes].loc[0:index_end_train], df[attributes].loc[index_end_train+1:]\n",
    "df_discretized_train, df_discretized_test = df_discretized.loc[0:index_end_train], df_discretized.loc[index_end_train+1:]\n",
    "y_train, y_test = df[target_col].loc[0:index_end_train], df[target_col].loc[index_end_train+1:]"
   ]
  },
  {
   "cell_type": "code",
   "execution_count": 7,
   "id": "84b4f466",
   "metadata": {},
   "outputs": [],
   "source": [
    "# Encoding all the categorical features\n",
    "cat_attr_list = ['season', 'holiday',  'weathersit', 'workingday'] \n",
    "# though we have transformed all categoricals into their one-hot encodings, note that ordinal\n",
    "# attributes such as hour, weekday, and so on do not require such encoding.\n",
    "numeric_feature_cols = ['temp', 'atemp', 'hum', 'windspeed', 'hr', 'weekday',  'mnth', 'yr']\n"
   ]
  },
  {
   "cell_type": "markdown",
   "id": "c1dfee67",
   "metadata": {},
   "source": [
    "## Encode variables"
   ]
  },
  {
   "cell_type": "code",
   "execution_count": 8,
   "id": "c595e22f",
   "metadata": {},
   "outputs": [
    {
     "name": "stderr",
     "output_type": "stream",
     "text": [
      "/tmp/ipykernel_1994196/1391525516.py:17: FutureWarning: Downcasting behavior in `replace` is deprecated and will be removed in a future version. To retain the old behavior, explicitly call `result.infer_objects(copy=False)`. To opt-in to the future behavior, set `pd.set_option('future.no_silent_downcasting', True)`\n",
      "  df_train_enc[\"weekday\"] = df_train_enc[\"weekday\"].replace(weekday_mapping)\n",
      "/tmp/ipykernel_1994196/1391525516.py:18: FutureWarning: Downcasting behavior in `replace` is deprecated and will be removed in a future version. To retain the old behavior, explicitly call `result.infer_objects(copy=False)`. To opt-in to the future behavior, set `pd.set_option('future.no_silent_downcasting', True)`\n",
      "  df_test_enc[\"weekday\"] = df_test_enc[\"weekday\"].replace(weekday_mapping)\n"
     ]
    }
   ],
   "source": [
    "from sklearn import preprocessing\n",
    "\n",
    "\n",
    "oh_enc = preprocessing.OneHotEncoder(sparse_output=False)\n",
    "other_cols = list(set(X_train.columns) - set(cat_attr_list))\n",
    "\n",
    "encoded_data = oh_enc.fit_transform(X_train[cat_attr_list].astype(str))\n",
    "df_train_enc = pd.DataFrame(encoded_data, columns=oh_enc.get_feature_names_out(cat_attr_list))\n",
    "\n",
    "encoded_data_test = oh_enc.transform(X_test[cat_attr_list].astype(str))\n",
    "df_test_enc = pd.DataFrame(encoded_data_test, columns=oh_enc.get_feature_names_out(cat_attr_list))\n",
    "\n",
    "df_train_enc[other_cols] = X_train[other_cols].values\n",
    "df_test_enc[other_cols] = X_test[other_cols].values\n",
    "\n",
    "weekday_mapping = {v: i for i, v in enumerate([\"Sun\", \"Mon\", \"Tue\", \"Wed\", \"Thu\", \"Fri\", \"Sat\"])}\n",
    "df_train_enc[\"weekday\"] = df_train_enc[\"weekday\"].replace(weekday_mapping)\n",
    "df_test_enc[\"weekday\"] = df_test_enc[\"weekday\"].replace(weekday_mapping)\n",
    "\n",
    "from sklearn.preprocessing import StandardScaler\n",
    "\n",
    "scaler = StandardScaler()\n",
    "df_train_enc[other_cols] = scaler.fit_transform(df_train_enc[other_cols])\n",
    "df_test_enc[other_cols] = scaler.transform(df_test_enc[other_cols])\n"
   ]
  },
  {
   "cell_type": "markdown",
   "id": "95f8242c",
   "metadata": {},
   "source": [
    "## Regression model - fit and eval"
   ]
  },
  {
   "cell_type": "code",
   "execution_count": 9,
   "id": "0f7354b5",
   "metadata": {},
   "outputs": [],
   "source": [
    "from sklearn import linear_model\n",
    "lr_model = linear_model.LinearRegression()\n",
    "\n",
    "#training model in training set\n",
    "lr_model.fit(df_train_enc, y_train)\n",
    "\n",
    "# making predection using the test set\n",
    "y_pred = lr_model.predict(df_test_enc)"
   ]
  },
  {
   "cell_type": "code",
   "execution_count": 10,
   "id": "b7421df1",
   "metadata": {},
   "outputs": [
    {
     "name": "stdout",
     "output_type": "stream",
     "text": [
      "RMSE: 183.38\n",
      "MSE: 33628.10\n",
      "MAE: 142.39\n",
      "0.30759894995999537\n"
     ]
    }
   ],
   "source": [
    "#root mean squared error\n",
    "from math import sqrt\n",
    "from sklearn.metrics import mean_squared_error, r2_score, mean_absolute_error\n",
    "\n",
    "\n",
    "print('RMSE: %.2f' % sqrt(mean_squared_error(y_test, y_pred)))\n",
    "print('MSE: %.2f' % (mean_squared_error(y_test, y_pred)))\n",
    "print('MAE: %.2f' % (mean_absolute_error(y_test, y_pred)))\n",
    "print(r2_score(y_test, y_pred))"
   ]
  },
  {
   "cell_type": "markdown",
   "id": "a9bbad53",
   "metadata": {},
   "source": [
    "# True target - DivExplorer"
   ]
  },
  {
   "cell_type": "code",
   "execution_count": 11,
   "id": "8326b504",
   "metadata": {},
   "outputs": [],
   "source": [
    "type_outcome = 'quantitative'"
   ]
  },
  {
   "cell_type": "code",
   "execution_count": 12,
   "id": "81d709cf",
   "metadata": {},
   "outputs": [],
   "source": [
    "target_col = 'cnt'"
   ]
  },
  {
   "cell_type": "code",
   "execution_count": 13,
   "id": "7695a5a0",
   "metadata": {},
   "outputs": [],
   "source": [
    "import resource\n",
    "\n",
    "def limit_memory(max_mem_mb):\n",
    "    \"\"\"Limit memory usage of the current notebook process.\"\"\"\n",
    "    soft, hard = max_mem_mb * 1024 * 1024, max_mem_mb * 1024 * 1024\n",
    "    resource.setrlimit(resource.RLIMIT_AS, (soft, hard))\n",
    "\n",
    "# Example: Limit the notebook to 2 GB of memory\n",
    "limit_memory(30*1024)"
   ]
  },
  {
   "cell_type": "code",
   "execution_count": 14,
   "id": "c100ecb7",
   "metadata": {},
   "outputs": [
    {
     "name": "stdout",
     "output_type": "stream",
     "text": [
      "0.01918281220026856 0.02\n",
      "0.02\n",
      "104.26\n"
     ]
    }
   ],
   "source": [
    "min_support_count = 100\n",
    "\n",
    "min_support = min_support_count / len(df_discretized_test)\n",
    "\n",
    "#min_support = 0.025\n",
    "import numpy as np\n",
    "print(min_support, np.round(min_support, 2))  \n",
    "min_support = np.round(min_support, 2)\n",
    "print(min_support)\n",
    "min_support_count = min_support * len(df_discretized_test)\n",
    "print(min_support_count)"
   ]
  },
  {
   "cell_type": "code",
   "execution_count": 15,
   "id": "d2ad09d4",
   "metadata": {},
   "outputs": [
    {
     "name": "stdout",
     "output_type": "stream",
     "text": [
      "--- 0.7405269145965576 seconds ---\n"
     ]
    }
   ],
   "source": [
    "from divexplorer import DivergenceExplorer\n",
    "\n",
    "fp_diver = DivergenceExplorer(df_discretized_test)\n",
    "\n",
    "try:\n",
    "    start_time = time.time()\n",
    "    if type_outcome == 'boolean':\n",
    "        subgroups = fp_diver.get_pattern_divergence(min_support=min_support, boolean_outcomes=[target_col], FPM_algorithm='fpgrowth')\n",
    "    else:\n",
    "        subgroups = fp_diver.get_pattern_divergence(min_support=min_support, quantitative_outcomes=[target_col], FPM_algorithm='fpgrowth')\n",
    "    print(\"--- %s seconds ---\" % (time.time() - start_time))\n",
    "except MemoryError:\n",
    "    print(\"Memory limit exceeded!\")"
   ]
  },
  {
   "cell_type": "code",
   "execution_count": 16,
   "id": "6895f6fa",
   "metadata": {},
   "outputs": [
    {
     "name": "stdout",
     "output_type": "stream",
     "text": [
      "--- 0.08568120002746582 seconds ---\n"
     ]
    }
   ],
   "source": [
    "from divexplorer import DivergencePatternProcessor\n",
    "\n",
    "\n",
    "fp_details = DivergencePatternProcessor(subgroups, target_col)\n",
    "\n",
    "import time\n",
    "try:\n",
    "    start_time = time.time()\n",
    "    patterns = fp_details.get_patterns(th_redundancy=0)\n",
    "    print(\"--- %s seconds ---\" % (time.time() - start_time))\n",
    "except MemoryError:\n",
    "    print(\"Memory limit exceeded!\")"
   ]
  },
  {
   "cell_type": "code",
   "execution_count": 17,
   "id": "b4ca4e0d",
   "metadata": {},
   "outputs": [],
   "source": [
    "abbreviations = {}"
   ]
  },
  {
   "cell_type": "code",
   "execution_count": 18,
   "id": "d242e4b0",
   "metadata": {},
   "outputs": [],
   "source": [
    "cols = ['itemset', 'support', target_col, f\"{target_col}_div\", f\"{target_col}_t\"]"
   ]
  },
  {
   "cell_type": "code",
   "execution_count": 19,
   "id": "5c718a59",
   "metadata": {
    "ExecuteTime": {
     "end_time": "2021-09-13T15:22:55.902448Z",
     "start_time": "2021-09-13T15:22:55.894152Z"
    }
   },
   "outputs": [
    {
     "data": {
      "text/html": [
       "<div>\n",
       "<style scoped>\n",
       "    .dataframe tbody tr th:only-of-type {\n",
       "        vertical-align: middle;\n",
       "    }\n",
       "\n",
       "    .dataframe tbody tr th {\n",
       "        vertical-align: top;\n",
       "    }\n",
       "\n",
       "    .dataframe thead th {\n",
       "        text-align: right;\n",
       "    }\n",
       "</style>\n",
       "<table border=\"1\" class=\"dataframe\">\n",
       "  <thead>\n",
       "    <tr style=\"text-align: right;\">\n",
       "      <th></th>\n",
       "      <th>itemset</th>\n",
       "      <th>support</th>\n",
       "      <th>cnt</th>\n",
       "      <th>cnt_div</th>\n",
       "      <th>cnt_t</th>\n",
       "    </tr>\n",
       "  </thead>\n",
       "  <tbody>\n",
       "    <tr>\n",
       "      <th>10375</th>\n",
       "      <td>hr=17, workingday=1</td>\n",
       "      <td>0.028</td>\n",
       "      <td>723.3</td>\n",
       "      <td>464.9</td>\n",
       "      <td>28.8</td>\n",
       "    </tr>\n",
       "    <tr>\n",
       "      <th>12750</th>\n",
       "      <td>atemp=&gt;35, holiday=0, hr=17</td>\n",
       "      <td>0.025</td>\n",
       "      <td>722.6</td>\n",
       "      <td>464.2</td>\n",
       "      <td>28.7</td>\n",
       "    </tr>\n",
       "    <tr>\n",
       "      <th>13484</th>\n",
       "      <td>holiday=0, hr=17, temp=&gt;21</td>\n",
       "      <td>0.024</td>\n",
       "      <td>719.6</td>\n",
       "      <td>461.2</td>\n",
       "      <td>27.8</td>\n",
       "    </tr>\n",
       "  </tbody>\n",
       "</table>\n",
       "</div>"
      ],
      "text/plain": [
       "                           itemset  support    cnt  cnt_div  cnt_t\n",
       "10375          hr=17, workingday=1    0.028  723.3    464.9   28.8\n",
       "12750  atemp=>35, holiday=0, hr=17    0.025  722.6    464.2   28.7\n",
       "13484   holiday=0, hr=17, temp=>21    0.024  719.6    461.2   27.8"
      ]
     },
     "metadata": {},
     "output_type": "display_data"
    },
    {
     "name": "stdout",
     "output_type": "stream",
     "text": [
      "\\begin{tabular}{lrrrr}\n",
      "\\toprule\n",
      "itemset & support & cnt & cnt_div & cnt_t \\\\\n",
      "\\midrule\n",
      "hr=17, workingday=1 & 0.028000 & 723.300000 & 464.900000 & 28.800000 \\\\\n",
      "atemp=>35, holiday=0, hr=17 & 0.025000 & 722.600000 & 464.200000 & 28.700000 \\\\\n",
      "holiday=0, hr=17, temp=>21 & 0.024000 & 719.600000 & 461.200000 & 27.800000 \\\\\n",
      "\\bottomrule\n",
      "\\end{tabular}\n",
      "\n"
     ]
    }
   ],
   "source": [
    "subgroups_print = patterns[cols].sort_values(by=[f\"{target_col}_div\", f\"{target_col}_t\"], ascending=[False, False]).head(3).copy()\n",
    "subgroups_print = printable(subgroups_print, target_col, abbreviations=abbreviations, round_v=1)\n",
    "\n",
    "display(subgroups_print)\n",
    "\n",
    "print(subgroups_print.to_latex(index=False))"
   ]
  },
  {
   "cell_type": "code",
   "execution_count": 20,
   "id": "e29384bc",
   "metadata": {
    "ExecuteTime": {
     "end_time": "2021-09-13T15:22:55.912994Z",
     "start_time": "2021-09-13T15:22:55.903629Z"
    }
   },
   "outputs": [
    {
     "data": {
      "text/html": [
       "<div>\n",
       "<style scoped>\n",
       "    .dataframe tbody tr th:only-of-type {\n",
       "        vertical-align: middle;\n",
       "    }\n",
       "\n",
       "    .dataframe tbody tr th {\n",
       "        vertical-align: top;\n",
       "    }\n",
       "\n",
       "    .dataframe thead th {\n",
       "        text-align: right;\n",
       "    }\n",
       "</style>\n",
       "<table border=\"1\" class=\"dataframe\">\n",
       "  <thead>\n",
       "    <tr style=\"text-align: right;\">\n",
       "      <th></th>\n",
       "      <th>itemset</th>\n",
       "      <th>support</th>\n",
       "      <th>cnt</th>\n",
       "      <th>cnt_div</th>\n",
       "      <th>cnt_t</th>\n",
       "    </tr>\n",
       "  </thead>\n",
       "  <tbody>\n",
       "    <tr>\n",
       "      <th>10859</th>\n",
       "      <td>hr=3, workingday=1</td>\n",
       "      <td>0.028</td>\n",
       "      <td>6.2</td>\n",
       "      <td>-252.1</td>\n",
       "      <td>82.1</td>\n",
       "    </tr>\n",
       "    <tr>\n",
       "      <th>10730</th>\n",
       "      <td>hr=4, workingday=1</td>\n",
       "      <td>0.028</td>\n",
       "      <td>7.7</td>\n",
       "      <td>-250.7</td>\n",
       "      <td>81.9</td>\n",
       "    </tr>\n",
       "    <tr>\n",
       "      <th>17084</th>\n",
       "      <td>hr=4, windspeed=&lt;=8</td>\n",
       "      <td>0.020</td>\n",
       "      <td>8.5</td>\n",
       "      <td>-249.9</td>\n",
       "      <td>81.3</td>\n",
       "    </tr>\n",
       "  </tbody>\n",
       "</table>\n",
       "</div>"
      ],
      "text/plain": [
       "                   itemset  support  cnt  cnt_div  cnt_t\n",
       "10859   hr=3, workingday=1    0.028  6.2   -252.1   82.1\n",
       "10730   hr=4, workingday=1    0.028  7.7   -250.7   81.9\n",
       "17084  hr=4, windspeed=<=8    0.020  8.5   -249.9   81.3"
      ]
     },
     "metadata": {},
     "output_type": "display_data"
    },
    {
     "name": "stdout",
     "output_type": "stream",
     "text": [
      "\\begin{tabular}{lrrrr}\n",
      "\\toprule\n",
      "itemset & support & cnt & cnt_div & cnt_t \\\\\n",
      "\\midrule\n",
      "hr=3, workingday=1 & 0.028000 & 6.200000 & -252.100000 & 82.100000 \\\\\n",
      "hr=4, workingday=1 & 0.028000 & 7.700000 & -250.700000 & 81.900000 \\\\\n",
      "hr=4, windspeed=<=8 & 0.020000 & 8.500000 & -249.900000 & 81.300000 \\\\\n",
      "\\bottomrule\n",
      "\\end{tabular}\n",
      "\n"
     ]
    }
   ],
   "source": [
    "subgroups_print = patterns[cols].sort_values(by=[f\"{target_col}_div\", f\"{target_col}_t\"], ascending=[True, False]).head(3).copy()\n",
    "subgroups_print = printable(subgroups_print, target_col, abbreviations=abbreviations, round_v=1)\n",
    "\n",
    "display(subgroups_print)\n",
    "\n",
    "print(subgroups_print.to_latex(index=False))"
   ]
  },
  {
   "cell_type": "code",
   "execution_count": 22,
   "id": "8685f1a1",
   "metadata": {},
   "outputs": [
    {
     "data": {
      "text/plain": [
       "258.4"
      ]
     },
     "execution_count": 22,
     "metadata": {},
     "output_type": "execute_result"
    }
   ],
   "source": [
    "patterns.loc[patterns['itemset']==frozenset()].iloc[0][target_col].round(1)"
   ]
  },
  {
   "cell_type": "markdown",
   "id": "391a1830",
   "metadata": {},
   "source": [
    "# Predicted DivExplorer"
   ]
  },
  {
   "cell_type": "code",
   "execution_count": 23,
   "id": "a506a632",
   "metadata": {
    "ExecuteTime": {
     "end_time": "2021-09-13T15:22:59.254769Z",
     "start_time": "2021-09-13T15:22:59.225416Z"
    }
   },
   "outputs": [
    {
     "name": "stdout",
     "output_type": "stream",
     "text": [
      "--- 0.7002177238464355 seconds ---\n"
     ]
    }
   ],
   "source": [
    "from divexplorer import DivergenceExplorer\n",
    "\n",
    "target_col = 'cnt_pred'\n",
    "df_discretized_test_pred = df_discretized_test.copy()\n",
    "df_discretized_test_pred[target_col] = y_pred\n",
    "df_discretized_test_pred.drop(columns=['cnt'], inplace=True)\n",
    "\n",
    "fp_diver = DivergenceExplorer(df_discretized_test_pred)\n",
    "\n",
    "try:\n",
    "    start_time = time.time()\n",
    "    if type_outcome == 'boolean':\n",
    "        subgroups = fp_diver.get_pattern_divergence(min_support=min_support, boolean_outcomes=[target_col], FPM_algorithm='fpgrowth')\n",
    "    else:\n",
    "        subgroups = fp_diver.get_pattern_divergence(min_support=min_support, quantitative_outcomes=[target_col], FPM_algorithm='fpgrowth')\n",
    "    print(\"--- %s seconds ---\" % (time.time() - start_time))\n",
    "except MemoryError:\n",
    "    print(\"Memory limit exceeded!\")"
   ]
  },
  {
   "cell_type": "code",
   "execution_count": 24,
   "id": "0d9a1291",
   "metadata": {
    "ExecuteTime": {
     "end_time": "2021-09-13T15:22:59.850241Z",
     "start_time": "2021-09-13T15:22:59.256071Z"
    }
   },
   "outputs": [
    {
     "name": "stdout",
     "output_type": "stream",
     "text": [
      "--- 0.08533906936645508 seconds ---\n"
     ]
    }
   ],
   "source": [
    "from divexplorer import DivergencePatternProcessor\n",
    "\n",
    "\n",
    "fp_details = DivergencePatternProcessor(subgroups, target_col)\n",
    "\n",
    "import time\n",
    "try:\n",
    "    start_time = time.time()\n",
    "    patterns = fp_details.get_patterns(th_redundancy=0)\n",
    "    print(\"--- %s seconds ---\" % (time.time() - start_time))\n",
    "except MemoryError:\n",
    "    print(\"Memory limit exceeded!\")"
   ]
  },
  {
   "cell_type": "code",
   "execution_count": 25,
   "id": "8f72be0d",
   "metadata": {},
   "outputs": [],
   "source": [
    "cols = ['itemset', 'support', target_col, f\"{target_col}_div\", f\"{target_col}_t\"]"
   ]
  },
  {
   "cell_type": "code",
   "execution_count": 26,
   "id": "9f06f9a8",
   "metadata": {},
   "outputs": [
    {
     "data": {
      "text/html": [
       "<div>\n",
       "<style scoped>\n",
       "    .dataframe tbody tr th:only-of-type {\n",
       "        vertical-align: middle;\n",
       "    }\n",
       "\n",
       "    .dataframe tbody tr th {\n",
       "        vertical-align: top;\n",
       "    }\n",
       "\n",
       "    .dataframe thead th {\n",
       "        text-align: right;\n",
       "    }\n",
       "</style>\n",
       "<table border=\"1\" class=\"dataframe\">\n",
       "  <thead>\n",
       "    <tr style=\"text-align: right;\">\n",
       "      <th></th>\n",
       "      <th>itemset</th>\n",
       "      <th>support</th>\n",
       "      <th>cnt_pred</th>\n",
       "      <th>cnt_pred_div</th>\n",
       "      <th>cnt_pred_t</th>\n",
       "    </tr>\n",
       "  </thead>\n",
       "  <tbody>\n",
       "    <tr>\n",
       "      <th>15098</th>\n",
       "      <td>hum=&lt;=53, temp=&gt;21, weathersit=good, weekday=Sat</td>\n",
       "      <td>0.022</td>\n",
       "      <td>368.7</td>\n",
       "      <td>113.8</td>\n",
       "      <td>28.3</td>\n",
       "    </tr>\n",
       "    <tr>\n",
       "      <th>15592</th>\n",
       "      <td>hum=&lt;=53, season=spring, temp=&gt;21, weathersit=good, workingday=1</td>\n",
       "      <td>0.022</td>\n",
       "      <td>367.9</td>\n",
       "      <td>113.0</td>\n",
       "      <td>30.1</td>\n",
       "    </tr>\n",
       "    <tr>\n",
       "      <th>17058</th>\n",
       "      <td>atemp=&gt;35, hr=15, hum=&lt;=53</td>\n",
       "      <td>0.020</td>\n",
       "      <td>367.7</td>\n",
       "      <td>112.9</td>\n",
       "      <td>39.9</td>\n",
       "    </tr>\n",
       "  </tbody>\n",
       "</table>\n",
       "</div>"
      ],
      "text/plain": [
       "                                                                itemset  \\\n",
       "15098                  hum=<=53, temp=>21, weathersit=good, weekday=Sat   \n",
       "15592  hum=<=53, season=spring, temp=>21, weathersit=good, workingday=1   \n",
       "17058                                        atemp=>35, hr=15, hum=<=53   \n",
       "\n",
       "       support  cnt_pred  cnt_pred_div  cnt_pred_t  \n",
       "15098    0.022     368.7         113.8        28.3  \n",
       "15592    0.022     367.9         113.0        30.1  \n",
       "17058    0.020     367.7         112.9        39.9  "
      ]
     },
     "metadata": {},
     "output_type": "display_data"
    },
    {
     "name": "stdout",
     "output_type": "stream",
     "text": [
      "\\begin{tabular}{lrrrr}\n",
      "\\toprule\n",
      "itemset & support & cnt_pred & cnt_pred_div & cnt_pred_t \\\\\n",
      "\\midrule\n",
      "hum=<=53, temp=>21, weathersit=good, weekday=Sat & 0.022000 & 368.700000 & 113.800000 & 28.300000 \\\\\n",
      "hum=<=53, season=spring, temp=>21, weathersit=good, workingday=1 & 0.022000 & 367.900000 & 113.000000 & 30.100000 \\\\\n",
      "atemp=>35, hr=15, hum=<=53 & 0.020000 & 367.700000 & 112.900000 & 39.900000 \\\\\n",
      "\\bottomrule\n",
      "\\end{tabular}\n",
      "\n"
     ]
    }
   ],
   "source": [
    "subgroups_print = patterns[cols].sort_values(by=[f\"{target_col}_div\", f\"{target_col}_t\"], ascending=[False, False]).head(3).copy()\n",
    "subgroups_print = printable(subgroups_print, target_col, abbreviations=abbreviations, round_v=1)\n",
    "\n",
    "display(subgroups_print)\n",
    "\n",
    "print(subgroups_print.to_latex(index=False))"
   ]
  },
  {
   "cell_type": "code",
   "execution_count": 27,
   "id": "8af52096",
   "metadata": {},
   "outputs": [
    {
     "data": {
      "text/html": [
       "<div>\n",
       "<style scoped>\n",
       "    .dataframe tbody tr th:only-of-type {\n",
       "        vertical-align: middle;\n",
       "    }\n",
       "\n",
       "    .dataframe tbody tr th {\n",
       "        vertical-align: top;\n",
       "    }\n",
       "\n",
       "    .dataframe thead th {\n",
       "        text-align: right;\n",
       "    }\n",
       "</style>\n",
       "<table border=\"1\" class=\"dataframe\">\n",
       "  <thead>\n",
       "    <tr style=\"text-align: right;\">\n",
       "      <th></th>\n",
       "      <th>itemset</th>\n",
       "      <th>support</th>\n",
       "      <th>cnt_pred</th>\n",
       "      <th>cnt_pred_div</th>\n",
       "      <th>cnt_pred_t</th>\n",
       "    </tr>\n",
       "  </thead>\n",
       "  <tbody>\n",
       "    <tr>\n",
       "      <th>7401</th>\n",
       "      <td>hum=&gt;73, mnth=12, temp=&lt;=9</td>\n",
       "      <td>0.036</td>\n",
       "      <td>134.5</td>\n",
       "      <td>-120.3</td>\n",
       "      <td>26.7</td>\n",
       "    </tr>\n",
       "    <tr>\n",
       "      <th>7400</th>\n",
       "      <td>atemp=&lt;=29, hum=&gt;73, mnth=12</td>\n",
       "      <td>0.036</td>\n",
       "      <td>134.5</td>\n",
       "      <td>-120.3</td>\n",
       "      <td>26.7</td>\n",
       "    </tr>\n",
       "    <tr>\n",
       "      <th>11093</th>\n",
       "      <td>atemp=&lt;=29, hum=&gt;73, workingday=0</td>\n",
       "      <td>0.027</td>\n",
       "      <td>135.8</td>\n",
       "      <td>-119.0</td>\n",
       "      <td>25.7</td>\n",
       "    </tr>\n",
       "  </tbody>\n",
       "</table>\n",
       "</div>"
      ],
      "text/plain": [
       "                                 itemset  support  cnt_pred  cnt_pred_div  \\\n",
       "7401          hum=>73, mnth=12, temp=<=9    0.036     134.5        -120.3   \n",
       "7400        atemp=<=29, hum=>73, mnth=12    0.036     134.5        -120.3   \n",
       "11093  atemp=<=29, hum=>73, workingday=0    0.027     135.8        -119.0   \n",
       "\n",
       "       cnt_pred_t  \n",
       "7401         26.7  \n",
       "7400         26.7  \n",
       "11093        25.7  "
      ]
     },
     "metadata": {},
     "output_type": "display_data"
    },
    {
     "name": "stdout",
     "output_type": "stream",
     "text": [
      "\\begin{tabular}{lrrrr}\n",
      "\\toprule\n",
      "itemset & support & cnt_pred & cnt_pred_div & cnt_pred_t \\\\\n",
      "\\midrule\n",
      "hum=>73, mnth=12, temp=<=9 & 0.036000 & 134.500000 & -120.300000 & 26.700000 \\\\\n",
      "atemp=<=29, hum=>73, mnth=12 & 0.036000 & 134.500000 & -120.300000 & 26.700000 \\\\\n",
      "atemp=<=29, hum=>73, workingday=0 & 0.027000 & 135.800000 & -119.000000 & 25.700000 \\\\\n",
      "\\bottomrule\n",
      "\\end{tabular}\n",
      "\n"
     ]
    }
   ],
   "source": [
    "subgroups_print = patterns[cols].sort_values(by=[f\"{target_col}_div\", f\"{target_col}_t\"], ascending=[True, False]).head(3).copy()\n",
    "subgroups_print = printable(subgroups_print, target_col, abbreviations=abbreviations, round_v=1)\n",
    "\n",
    "display(subgroups_print)\n",
    "\n",
    "print(subgroups_print.to_latex(index=False))"
   ]
  },
  {
   "cell_type": "code",
   "execution_count": 28,
   "id": "0a5f53a5",
   "metadata": {},
   "outputs": [
    {
     "data": {
      "text/plain": [
       "254.8"
      ]
     },
     "execution_count": 28,
     "metadata": {},
     "output_type": "execute_result"
    }
   ],
   "source": [
    "patterns.loc[patterns['itemset']==frozenset()].iloc[0][target_col].round(1)"
   ]
  },
  {
   "cell_type": "markdown",
   "id": "8b0468ed",
   "metadata": {
    "ExecuteTime": {
     "end_time": "2021-09-10T09:34:58.501569Z",
     "start_time": "2021-09-10T09:34:58.443147Z"
    }
   },
   "source": [
    "# Error - DivExplorer"
   ]
  },
  {
   "cell_type": "code",
   "execution_count": 29,
   "id": "ff2effd1",
   "metadata": {
    "ExecuteTime": {
     "end_time": "2021-09-13T15:22:59.857426Z",
     "start_time": "2021-09-13T15:22:59.854643Z"
    }
   },
   "outputs": [
    {
     "name": "stdout",
     "output_type": "stream",
     "text": [
      "--- 0.5690791606903076 seconds ---\n"
     ]
    }
   ],
   "source": [
    "from divexplorer import DivergenceExplorer\n",
    "\n",
    "target_col = 'mae'\n",
    "df_discretized_test_mae = df_discretized_test.copy()\n",
    "df_discretized_test_mae[target_col] = abs(y_test - y_pred) \n",
    "df_discretized_test_mae.drop(columns=['cnt'], inplace=True)\n",
    "\n",
    "fp_diver = DivergenceExplorer(df_discretized_test_mae)\n",
    "\n",
    "try:\n",
    "    start_time = time.time()\n",
    "    if type_outcome == 'boolean':\n",
    "        subgroups = fp_diver.get_pattern_divergence(min_support=min_support, boolean_outcomes=[target_col], FPM_algorithm='fpgrowth')\n",
    "    else:\n",
    "        subgroups = fp_diver.get_pattern_divergence(min_support=min_support, quantitative_outcomes=[target_col], FPM_algorithm='fpgrowth')\n",
    "    print(\"--- %s seconds ---\" % (time.time() - start_time))\n",
    "except MemoryError:\n",
    "    print(\"Memory limit exceeded!\")"
   ]
  },
  {
   "cell_type": "code",
   "execution_count": 30,
   "id": "7289e364",
   "metadata": {
    "ExecuteTime": {
     "end_time": "2021-09-13T15:22:59.900237Z",
     "start_time": "2021-09-13T15:22:59.858744Z"
    }
   },
   "outputs": [
    {
     "name": "stdout",
     "output_type": "stream",
     "text": [
      "--- 0.09294676780700684 seconds ---\n"
     ]
    }
   ],
   "source": [
    "from divexplorer import DivergencePatternProcessor\n",
    "\n",
    "\n",
    "fp_details = DivergencePatternProcessor(subgroups, target_col)\n",
    "\n",
    "import time\n",
    "try:\n",
    "    start_time = time.time()\n",
    "    patterns = fp_details.get_patterns(th_redundancy=0)\n",
    "    print(\"--- %s seconds ---\" % (time.time() - start_time))\n",
    "except MemoryError:\n",
    "    print(\"Memory limit exceeded!\")"
   ]
  },
  {
   "cell_type": "code",
   "execution_count": 31,
   "id": "9e9bc9d5",
   "metadata": {
    "ExecuteTime": {
     "end_time": "2021-09-13T15:22:59.952947Z",
     "start_time": "2021-09-13T15:22:59.902006Z"
    }
   },
   "outputs": [],
   "source": [
    "cols = ['itemset', 'support', target_col, f\"{target_col}_div\", f\"{target_col}_t\"]"
   ]
  },
  {
   "cell_type": "code",
   "execution_count": 32,
   "id": "b131efec",
   "metadata": {},
   "outputs": [
    {
     "data": {
      "text/html": [
       "<div>\n",
       "<style scoped>\n",
       "    .dataframe tbody tr th:only-of-type {\n",
       "        vertical-align: middle;\n",
       "    }\n",
       "\n",
       "    .dataframe tbody tr th {\n",
       "        vertical-align: top;\n",
       "    }\n",
       "\n",
       "    .dataframe thead th {\n",
       "        text-align: right;\n",
       "    }\n",
       "</style>\n",
       "<table border=\"1\" class=\"dataframe\">\n",
       "  <thead>\n",
       "    <tr style=\"text-align: right;\">\n",
       "      <th></th>\n",
       "      <th>itemset</th>\n",
       "      <th>support</th>\n",
       "      <th>mae</th>\n",
       "      <th>mae_div</th>\n",
       "      <th>mae_t</th>\n",
       "    </tr>\n",
       "  </thead>\n",
       "  <tbody>\n",
       "    <tr>\n",
       "      <th>10586</th>\n",
       "      <td>hr=8, workingday=1</td>\n",
       "      <td>0.028</td>\n",
       "      <td>444.1</td>\n",
       "      <td>301.7</td>\n",
       "      <td>29.0</td>\n",
       "    </tr>\n",
       "    <tr>\n",
       "      <th>10375</th>\n",
       "      <td>hr=17, workingday=1</td>\n",
       "      <td>0.028</td>\n",
       "      <td>398.3</td>\n",
       "      <td>256.0</td>\n",
       "      <td>21.1</td>\n",
       "    </tr>\n",
       "    <tr>\n",
       "      <th>12750</th>\n",
       "      <td>atemp=&gt;35, holiday=0, hr=17</td>\n",
       "      <td>0.025</td>\n",
       "      <td>369.1</td>\n",
       "      <td>226.7</td>\n",
       "      <td>15.0</td>\n",
       "    </tr>\n",
       "  </tbody>\n",
       "</table>\n",
       "</div>"
      ],
      "text/plain": [
       "                           itemset  support    mae  mae_div  mae_t\n",
       "10586           hr=8, workingday=1    0.028  444.1    301.7   29.0\n",
       "10375          hr=17, workingday=1    0.028  398.3    256.0   21.1\n",
       "12750  atemp=>35, holiday=0, hr=17    0.025  369.1    226.7   15.0"
      ]
     },
     "metadata": {},
     "output_type": "display_data"
    },
    {
     "name": "stdout",
     "output_type": "stream",
     "text": [
      "\\begin{tabular}{lrrrr}\n",
      "\\toprule\n",
      "itemset & support & mae & mae_div & mae_t \\\\\n",
      "\\midrule\n",
      "hr=8, workingday=1 & 0.028000 & 444.100000 & 301.700000 & 29.000000 \\\\\n",
      "hr=17, workingday=1 & 0.028000 & 398.300000 & 256.000000 & 21.100000 \\\\\n",
      "atemp=>35, holiday=0, hr=17 & 0.025000 & 369.100000 & 226.700000 & 15.000000 \\\\\n",
      "\\bottomrule\n",
      "\\end{tabular}\n",
      "\n"
     ]
    }
   ],
   "source": [
    "subgroups_print = patterns[cols].sort_values(by=[f\"{target_col}_div\", f\"{target_col}_t\"], ascending=[False, False]).head(3).copy()\n",
    "subgroups_print = printable(subgroups_print, target_col, abbreviations=abbreviations, round_v=1)\n",
    "\n",
    "display(subgroups_print)\n",
    "\n",
    "print(subgroups_print.to_latex(index=False))"
   ]
  },
  {
   "cell_type": "code",
   "execution_count": 33,
   "id": "3f490f06",
   "metadata": {},
   "outputs": [
    {
     "data": {
      "text/html": [
       "<div>\n",
       "<style scoped>\n",
       "    .dataframe tbody tr th:only-of-type {\n",
       "        vertical-align: middle;\n",
       "    }\n",
       "\n",
       "    .dataframe tbody tr th {\n",
       "        vertical-align: top;\n",
       "    }\n",
       "\n",
       "    .dataframe thead th {\n",
       "        text-align: right;\n",
       "    }\n",
       "</style>\n",
       "<table border=\"1\" class=\"dataframe\">\n",
       "  <thead>\n",
       "    <tr style=\"text-align: right;\">\n",
       "      <th></th>\n",
       "      <th>itemset</th>\n",
       "      <th>support</th>\n",
       "      <th>mae</th>\n",
       "      <th>mae_div</th>\n",
       "      <th>mae_t</th>\n",
       "    </tr>\n",
       "  </thead>\n",
       "  <tbody>\n",
       "    <tr>\n",
       "      <th>10532</th>\n",
       "      <td>hr=6, workingday=1</td>\n",
       "      <td>0.028</td>\n",
       "      <td>39.6</td>\n",
       "      <td>-102.8</td>\n",
       "      <td>36.5</td>\n",
       "    </tr>\n",
       "    <tr>\n",
       "      <th>10540</th>\n",
       "      <td>hr=12, workingday=1</td>\n",
       "      <td>0.028</td>\n",
       "      <td>45.4</td>\n",
       "      <td>-97.0</td>\n",
       "      <td>26.2</td>\n",
       "    </tr>\n",
       "    <tr>\n",
       "      <th>10461</th>\n",
       "      <td>hr=13, workingday=1</td>\n",
       "      <td>0.028</td>\n",
       "      <td>54.0</td>\n",
       "      <td>-88.4</td>\n",
       "      <td>23.0</td>\n",
       "    </tr>\n",
       "  </tbody>\n",
       "</table>\n",
       "</div>"
      ],
      "text/plain": [
       "                   itemset  support   mae  mae_div  mae_t\n",
       "10532   hr=6, workingday=1    0.028  39.6   -102.8   36.5\n",
       "10540  hr=12, workingday=1    0.028  45.4    -97.0   26.2\n",
       "10461  hr=13, workingday=1    0.028  54.0    -88.4   23.0"
      ]
     },
     "metadata": {},
     "output_type": "display_data"
    },
    {
     "name": "stdout",
     "output_type": "stream",
     "text": [
      "\\begin{tabular}{lrrrr}\n",
      "\\toprule\n",
      "itemset & support & mae & mae_div & mae_t \\\\\n",
      "\\midrule\n",
      "hr=6, workingday=1 & 0.028000 & 39.600000 & -102.800000 & 36.500000 \\\\\n",
      "hr=12, workingday=1 & 0.028000 & 45.400000 & -97.000000 & 26.200000 \\\\\n",
      "hr=13, workingday=1 & 0.028000 & 54.000000 & -88.400000 & 23.000000 \\\\\n",
      "\\bottomrule\n",
      "\\end{tabular}\n",
      "\n"
     ]
    }
   ],
   "source": [
    "subgroups_print = patterns[cols].sort_values(by=[f\"{target_col}_div\", f\"{target_col}_t\"], ascending=[True, False]).head(3).copy()\n",
    "subgroups_print = printable(subgroups_print, target_col, abbreviations=abbreviations, round_v=1)\n",
    "\n",
    "display(subgroups_print)\n",
    "\n",
    "print(subgroups_print.to_latex(index=False))"
   ]
  },
  {
   "cell_type": "code",
   "execution_count": 34,
   "id": "71ed6a57",
   "metadata": {},
   "outputs": [
    {
     "data": {
      "text/plain": [
       "142.4"
      ]
     },
     "execution_count": 34,
     "metadata": {},
     "output_type": "execute_result"
    }
   ],
   "source": [
    "patterns.loc[patterns['itemset']==frozenset()].iloc[0][target_col].round(1)"
   ]
  },
  {
   "cell_type": "markdown",
   "id": "056613ee",
   "metadata": {},
   "source": [
    "# All three"
   ]
  },
  {
   "cell_type": "code",
   "execution_count": 30,
   "id": "0a8b5976",
   "metadata": {},
   "outputs": [
    {
     "name": "stdout",
     "output_type": "stream",
     "text": [
      "--- 0.47476983070373535 seconds ---\n"
     ]
    }
   ],
   "source": [
    "from divexplorer import DivergenceExplorer\n",
    "\n",
    "target_col = 'mae'\n",
    "attributes = list(df_discretized_test.columns)\n",
    "attributes.remove('cnt')\n",
    "\n",
    "df_discretized_test_all = df_discretized_test.copy()\n",
    "df_discretized_test_all['cnt_pred'] = y_pred\n",
    "df_discretized_test_all['mae'] = abs(y_test - y_pred) \n",
    "\n",
    "\n",
    "fp_diver = DivergenceExplorer(df_discretized_test_all)\n",
    "\n",
    "try:\n",
    "    start_time = time.time()\n",
    "    subgroups = fp_diver.get_pattern_divergence(min_support=min_support, quantitative_outcomes=['cnt', 'cnt_pred', 'mae'], FPM_algorithm='fpgrowth')\n",
    "    print(\"--- %s seconds ---\" % (time.time() - start_time))\n",
    "except MemoryError:\n",
    "    print(\"Memory limit exceeded!\")"
   ]
  },
  {
   "cell_type": "markdown",
   "id": "66844620",
   "metadata": {},
   "source": [
    "## Cnt"
   ]
  },
  {
   "cell_type": "code",
   "execution_count": 31,
   "id": "32cba797",
   "metadata": {},
   "outputs": [
    {
     "name": "stdout",
     "output_type": "stream",
     "text": [
      "cnt\n"
     ]
    },
    {
     "data": {
      "text/html": [
       "<div>\n",
       "<style scoped>\n",
       "    .dataframe tbody tr th:only-of-type {\n",
       "        vertical-align: middle;\n",
       "    }\n",
       "\n",
       "    .dataframe tbody tr th {\n",
       "        vertical-align: top;\n",
       "    }\n",
       "\n",
       "    .dataframe thead th {\n",
       "        text-align: right;\n",
       "    }\n",
       "</style>\n",
       "<table border=\"1\" class=\"dataframe\">\n",
       "  <thead>\n",
       "    <tr style=\"text-align: right;\">\n",
       "      <th></th>\n",
       "      <th>itemset</th>\n",
       "      <th>support</th>\n",
       "      <th>cnt</th>\n",
       "      <th>cnt_div</th>\n",
       "      <th>cnt_t</th>\n",
       "      <th>cnt_pred</th>\n",
       "    </tr>\n",
       "  </thead>\n",
       "  <tbody>\n",
       "    <tr>\n",
       "      <th>10375</th>\n",
       "      <td>hr=17, workingday=1</td>\n",
       "      <td>0.028</td>\n",
       "      <td>723.3</td>\n",
       "      <td>464.9</td>\n",
       "      <td>28.8</td>\n",
       "      <td>329.4</td>\n",
       "    </tr>\n",
       "    <tr>\n",
       "      <th>12750</th>\n",
       "      <td>atemp=&gt;35, holiday=0, hr=17</td>\n",
       "      <td>0.025</td>\n",
       "      <td>722.6</td>\n",
       "      <td>464.2</td>\n",
       "      <td>28.7</td>\n",
       "      <td>359.2</td>\n",
       "    </tr>\n",
       "    <tr>\n",
       "      <th>13484</th>\n",
       "      <td>holiday=0, hr=17, temp=&gt;21</td>\n",
       "      <td>0.024</td>\n",
       "      <td>719.6</td>\n",
       "      <td>461.2</td>\n",
       "      <td>27.8</td>\n",
       "      <td>359.9</td>\n",
       "    </tr>\n",
       "    <tr>\n",
       "      <th>10884</th>\n",
       "      <td>hr=3, workingday=1</td>\n",
       "      <td>0.028</td>\n",
       "      <td>6.2</td>\n",
       "      <td>-252.1</td>\n",
       "      <td>82.1</td>\n",
       "      <td>166.2</td>\n",
       "    </tr>\n",
       "    <tr>\n",
       "      <th>10804</th>\n",
       "      <td>hr=4, workingday=1</td>\n",
       "      <td>0.028</td>\n",
       "      <td>7.7</td>\n",
       "      <td>-250.7</td>\n",
       "      <td>81.9</td>\n",
       "      <td>170.0</td>\n",
       "    </tr>\n",
       "    <tr>\n",
       "      <th>17084</th>\n",
       "      <td>hr=4, windspeed=&lt;=8</td>\n",
       "      <td>0.020</td>\n",
       "      <td>8.5</td>\n",
       "      <td>-249.9</td>\n",
       "      <td>81.3</td>\n",
       "      <td>164.6</td>\n",
       "    </tr>\n",
       "  </tbody>\n",
       "</table>\n",
       "</div>"
      ],
      "text/plain": [
       "                           itemset  support    cnt  cnt_div  cnt_t  cnt_pred\n",
       "10375          hr=17, workingday=1    0.028  723.3    464.9   28.8     329.4\n",
       "12750  atemp=>35, holiday=0, hr=17    0.025  722.6    464.2   28.7     359.2\n",
       "13484   holiday=0, hr=17, temp=>21    0.024  719.6    461.2   27.8     359.9\n",
       "10884           hr=3, workingday=1    0.028    6.2   -252.1   82.1     166.2\n",
       "10804           hr=4, workingday=1    0.028    7.7   -250.7   81.9     170.0\n",
       "17084          hr=4, windspeed=<=8    0.020    8.5   -249.9   81.3     164.6"
      ]
     },
     "metadata": {},
     "output_type": "display_data"
    },
    {
     "name": "stdout",
     "output_type": "stream",
     "text": [
      "\\begin{tabular}{lrrrrr}\n",
      "\\toprule\n",
      "itemset & support & cnt & cnt_div & cnt_t & cnt_pred \\\\\n",
      "\\midrule\n",
      "hr=17, workingday=1 & 0.028000 & 723.300000 & 464.900000 & 28.800000 & 329.400000 \\\\\n",
      "atemp=>35, holiday=0, hr=17 & 0.025000 & 722.600000 & 464.200000 & 28.700000 & 359.200000 \\\\\n",
      "holiday=0, hr=17, temp=>21 & 0.024000 & 719.600000 & 461.200000 & 27.800000 & 359.900000 \\\\\n",
      "hr=3, workingday=1 & 0.028000 & 6.200000 & -252.100000 & 82.100000 & 166.200000 \\\\\n",
      "hr=4, workingday=1 & 0.028000 & 7.700000 & -250.700000 & 81.900000 & 170.000000 \\\\\n",
      "hr=4, windspeed=<=8 & 0.020000 & 8.500000 & -249.900000 & 81.300000 & 164.600000 \\\\\n",
      "\\bottomrule\n",
      "\\end{tabular}\n",
      "\n"
     ]
    }
   ],
   "source": [
    "\n",
    "\n",
    "target_col = 'cnt'\n",
    "\n",
    "fp_details = DivergencePatternProcessor(subgroups, target_col)\n",
    "patterns = fp_details.get_patterns(th_redundancy=0)\n",
    "\n",
    "\n",
    "cols = ['itemset', 'support', 'cnt', ] + [f\"{target_col}_div\", f\"{target_col}_t\"]  + ['cnt_pred']\n",
    "\n",
    "idxs = list(patterns.sort_values(by=[f\"{target_col}_div\", f\"{target_col}_t\"], ascending=[False, False]).head(3).index) + \\\n",
    "    list(patterns.sort_values(by=[f\"{target_col}_div\", f\"{target_col}_t\"], ascending=[True, False]).head(3).index)\n",
    "subgroups_print = printable(subgroups.loc[idxs][cols], target_col, abbreviations=abbreviations, round_v=1)\n",
    "\n",
    "\n",
    "print(target_col)\n",
    "display(subgroups_print)\n",
    "\n",
    "print(subgroups_print.to_latex(index=False))"
   ]
  },
  {
   "cell_type": "markdown",
   "id": "6c6c283f",
   "metadata": {},
   "source": [
    "## Cnt pred"
   ]
  },
  {
   "cell_type": "code",
   "execution_count": 33,
   "id": "e7fb9810",
   "metadata": {},
   "outputs": [
    {
     "name": "stdout",
     "output_type": "stream",
     "text": [
      "cnt_pred\n"
     ]
    },
    {
     "data": {
      "text/html": [
       "<div>\n",
       "<style scoped>\n",
       "    .dataframe tbody tr th:only-of-type {\n",
       "        vertical-align: middle;\n",
       "    }\n",
       "\n",
       "    .dataframe tbody tr th {\n",
       "        vertical-align: top;\n",
       "    }\n",
       "\n",
       "    .dataframe thead th {\n",
       "        text-align: right;\n",
       "    }\n",
       "</style>\n",
       "<table border=\"1\" class=\"dataframe\">\n",
       "  <thead>\n",
       "    <tr style=\"text-align: right;\">\n",
       "      <th></th>\n",
       "      <th>itemset</th>\n",
       "      <th>support</th>\n",
       "      <th>cnt_pred</th>\n",
       "      <th>cnt_pred_div</th>\n",
       "      <th>cnt_pred_t</th>\n",
       "      <th>cnt</th>\n",
       "    </tr>\n",
       "  </thead>\n",
       "  <tbody>\n",
       "    <tr>\n",
       "      <th>15098</th>\n",
       "      <td>hum=&lt;=53, temp=&gt;21, weathersit=good, weekday=Sat</td>\n",
       "      <td>0.022</td>\n",
       "      <td>368.7</td>\n",
       "      <td>113.8</td>\n",
       "      <td>28.3</td>\n",
       "      <td>484.2</td>\n",
       "    </tr>\n",
       "    <tr>\n",
       "      <th>15592</th>\n",
       "      <td>hum=&lt;=53, season=spring, temp=&gt;21, weathersit=good, workingday=1</td>\n",
       "      <td>0.022</td>\n",
       "      <td>367.9</td>\n",
       "      <td>113.0</td>\n",
       "      <td>30.1</td>\n",
       "      <td>420.8</td>\n",
       "    </tr>\n",
       "    <tr>\n",
       "      <th>17058</th>\n",
       "      <td>atemp=&gt;35, hr=15, hum=&lt;=53</td>\n",
       "      <td>0.020</td>\n",
       "      <td>367.7</td>\n",
       "      <td>112.9</td>\n",
       "      <td>39.9</td>\n",
       "      <td>372.4</td>\n",
       "    </tr>\n",
       "    <tr>\n",
       "      <th>7401</th>\n",
       "      <td>hum=&gt;73, mnth=12, temp=&lt;=9</td>\n",
       "      <td>0.036</td>\n",
       "      <td>134.5</td>\n",
       "      <td>-120.3</td>\n",
       "      <td>26.7</td>\n",
       "      <td>101.2</td>\n",
       "    </tr>\n",
       "    <tr>\n",
       "      <th>7400</th>\n",
       "      <td>atemp=&lt;=29, hum=&gt;73, mnth=12</td>\n",
       "      <td>0.036</td>\n",
       "      <td>134.5</td>\n",
       "      <td>-120.3</td>\n",
       "      <td>26.7</td>\n",
       "      <td>101.2</td>\n",
       "    </tr>\n",
       "    <tr>\n",
       "      <th>11103</th>\n",
       "      <td>hum=&gt;73, temp=&lt;=9, workingday=0</td>\n",
       "      <td>0.027</td>\n",
       "      <td>135.8</td>\n",
       "      <td>-119.0</td>\n",
       "      <td>25.7</td>\n",
       "      <td>91.7</td>\n",
       "    </tr>\n",
       "  </tbody>\n",
       "</table>\n",
       "</div>"
      ],
      "text/plain": [
       "                                                                itemset  \\\n",
       "15098                  hum=<=53, temp=>21, weathersit=good, weekday=Sat   \n",
       "15592  hum=<=53, season=spring, temp=>21, weathersit=good, workingday=1   \n",
       "17058                                        atemp=>35, hr=15, hum=<=53   \n",
       "7401                                         hum=>73, mnth=12, temp=<=9   \n",
       "7400                                       atemp=<=29, hum=>73, mnth=12   \n",
       "11103                                   hum=>73, temp=<=9, workingday=0   \n",
       "\n",
       "       support  cnt_pred  cnt_pred_div  cnt_pred_t    cnt  \n",
       "15098    0.022     368.7         113.8        28.3  484.2  \n",
       "15592    0.022     367.9         113.0        30.1  420.8  \n",
       "17058    0.020     367.7         112.9        39.9  372.4  \n",
       "7401     0.036     134.5        -120.3        26.7  101.2  \n",
       "7400     0.036     134.5        -120.3        26.7  101.2  \n",
       "11103    0.027     135.8        -119.0        25.7   91.7  "
      ]
     },
     "metadata": {},
     "output_type": "display_data"
    },
    {
     "name": "stdout",
     "output_type": "stream",
     "text": [
      "\\begin{tabular}{lrrrrr}\n",
      "\\toprule\n",
      "itemset & support & cnt_pred & cnt_pred_div & cnt_pred_t & cnt \\\\\n",
      "\\midrule\n",
      "hum=<=53, temp=>21, weathersit=good, weekday=Sat & 0.022000 & 368.700000 & 113.800000 & 28.300000 & 484.200000 \\\\\n",
      "hum=<=53, season=spring, temp=>21, weathersit=good, workingday=1 & 0.022000 & 367.900000 & 113.000000 & 30.100000 & 420.800000 \\\\\n",
      "atemp=>35, hr=15, hum=<=53 & 0.020000 & 367.700000 & 112.900000 & 39.900000 & 372.400000 \\\\\n",
      "hum=>73, mnth=12, temp=<=9 & 0.036000 & 134.500000 & -120.300000 & 26.700000 & 101.200000 \\\\\n",
      "atemp=<=29, hum=>73, mnth=12 & 0.036000 & 134.500000 & -120.300000 & 26.700000 & 101.200000 \\\\\n",
      "hum=>73, temp=<=9, workingday=0 & 0.027000 & 135.800000 & -119.000000 & 25.700000 & 91.700000 \\\\\n",
      "\\bottomrule\n",
      "\\end{tabular}\n",
      "\n"
     ]
    }
   ],
   "source": [
    "\n",
    "\n",
    "target_col = 'cnt_pred'\n",
    "\n",
    "fp_details = DivergencePatternProcessor(subgroups, target_col)\n",
    "patterns = fp_details.get_patterns(th_redundancy=0)\n",
    "\n",
    "\n",
    "cols = [ 'itemset', 'support', 'cnt_pred', f\"{target_col}_div\", f\"{target_col}_t\",  'cnt'] \n",
    "\n",
    "idxs = list(patterns.sort_values(by=[f\"{target_col}_div\", f\"{target_col}_t\"], ascending=[False, False]).head(3).index) + \\\n",
    "    list(patterns.sort_values(by=[f\"{target_col}_div\", f\"{target_col}_t\"], ascending=[True, False]).head(3).index)\n",
    "subgroups_print = printable(subgroups.loc[idxs][cols], target_col, abbreviations=abbreviations, round_v=1)\n",
    "\n",
    "\n",
    "print(target_col)\n",
    "display(subgroups_print)\n",
    "\n",
    "print(subgroups_print.to_latex(index=False))"
   ]
  },
  {
   "cell_type": "markdown",
   "id": "851031fd",
   "metadata": {},
   "source": [
    "## Mae"
   ]
  },
  {
   "cell_type": "code",
   "execution_count": 34,
   "id": "f1fcfea2",
   "metadata": {},
   "outputs": [
    {
     "name": "stdout",
     "output_type": "stream",
     "text": [
      "mae\n"
     ]
    },
    {
     "data": {
      "text/html": [
       "<div>\n",
       "<style scoped>\n",
       "    .dataframe tbody tr th:only-of-type {\n",
       "        vertical-align: middle;\n",
       "    }\n",
       "\n",
       "    .dataframe tbody tr th {\n",
       "        vertical-align: top;\n",
       "    }\n",
       "\n",
       "    .dataframe thead th {\n",
       "        text-align: right;\n",
       "    }\n",
       "</style>\n",
       "<table border=\"1\" class=\"dataframe\">\n",
       "  <thead>\n",
       "    <tr style=\"text-align: right;\">\n",
       "      <th></th>\n",
       "      <th>itemset</th>\n",
       "      <th>support</th>\n",
       "      <th>mae</th>\n",
       "      <th>mae_div</th>\n",
       "      <th>mae_t</th>\n",
       "      <th>cnt</th>\n",
       "      <th>cnt_pred</th>\n",
       "    </tr>\n",
       "  </thead>\n",
       "  <tbody>\n",
       "    <tr>\n",
       "      <th>10586</th>\n",
       "      <td>hr=8, workingday=1</td>\n",
       "      <td>0.028</td>\n",
       "      <td>444.1</td>\n",
       "      <td>301.7</td>\n",
       "      <td>29.0</td>\n",
       "      <td>654.2</td>\n",
       "      <td>212.6</td>\n",
       "    </tr>\n",
       "    <tr>\n",
       "      <th>10375</th>\n",
       "      <td>hr=17, workingday=1</td>\n",
       "      <td>0.028</td>\n",
       "      <td>398.3</td>\n",
       "      <td>256.0</td>\n",
       "      <td>21.1</td>\n",
       "      <td>723.3</td>\n",
       "      <td>329.4</td>\n",
       "    </tr>\n",
       "    <tr>\n",
       "      <th>12750</th>\n",
       "      <td>atemp=&gt;35, holiday=0, hr=17</td>\n",
       "      <td>0.025</td>\n",
       "      <td>369.1</td>\n",
       "      <td>226.7</td>\n",
       "      <td>15.0</td>\n",
       "      <td>722.6</td>\n",
       "      <td>359.2</td>\n",
       "    </tr>\n",
       "    <tr>\n",
       "      <th>10532</th>\n",
       "      <td>hr=6, workingday=1</td>\n",
       "      <td>0.028</td>\n",
       "      <td>39.6</td>\n",
       "      <td>-102.8</td>\n",
       "      <td>36.5</td>\n",
       "      <td>145.7</td>\n",
       "      <td>179.0</td>\n",
       "    </tr>\n",
       "    <tr>\n",
       "      <th>10540</th>\n",
       "      <td>hr=12, workingday=1</td>\n",
       "      <td>0.028</td>\n",
       "      <td>45.4</td>\n",
       "      <td>-97.0</td>\n",
       "      <td>26.2</td>\n",
       "      <td>279.6</td>\n",
       "      <td>295.7</td>\n",
       "    </tr>\n",
       "    <tr>\n",
       "      <th>10461</th>\n",
       "      <td>hr=13, workingday=1</td>\n",
       "      <td>0.028</td>\n",
       "      <td>54.0</td>\n",
       "      <td>-88.4</td>\n",
       "      <td>23.0</td>\n",
       "      <td>272.9</td>\n",
       "      <td>309.1</td>\n",
       "    </tr>\n",
       "  </tbody>\n",
       "</table>\n",
       "</div>"
      ],
      "text/plain": [
       "                           itemset  support    mae  mae_div  mae_t    cnt  \\\n",
       "10586           hr=8, workingday=1    0.028  444.1    301.7   29.0  654.2   \n",
       "10375          hr=17, workingday=1    0.028  398.3    256.0   21.1  723.3   \n",
       "12750  atemp=>35, holiday=0, hr=17    0.025  369.1    226.7   15.0  722.6   \n",
       "10532           hr=6, workingday=1    0.028   39.6   -102.8   36.5  145.7   \n",
       "10540          hr=12, workingday=1    0.028   45.4    -97.0   26.2  279.6   \n",
       "10461          hr=13, workingday=1    0.028   54.0    -88.4   23.0  272.9   \n",
       "\n",
       "       cnt_pred  \n",
       "10586     212.6  \n",
       "10375     329.4  \n",
       "12750     359.2  \n",
       "10532     179.0  \n",
       "10540     295.7  \n",
       "10461     309.1  "
      ]
     },
     "metadata": {},
     "output_type": "display_data"
    },
    {
     "name": "stdout",
     "output_type": "stream",
     "text": [
      "\\begin{tabular}{lrrrrrr}\n",
      "\\toprule\n",
      "itemset & support & mae & mae_div & mae_t & cnt & cnt_pred \\\\\n",
      "\\midrule\n",
      "hr=8, workingday=1 & 0.028000 & 444.100000 & 301.700000 & 29.000000 & 654.200000 & 212.600000 \\\\\n",
      "hr=17, workingday=1 & 0.028000 & 398.300000 & 256.000000 & 21.100000 & 723.300000 & 329.400000 \\\\\n",
      "atemp=>35, holiday=0, hr=17 & 0.025000 & 369.100000 & 226.700000 & 15.000000 & 722.600000 & 359.200000 \\\\\n",
      "hr=6, workingday=1 & 0.028000 & 39.600000 & -102.800000 & 36.500000 & 145.700000 & 179.000000 \\\\\n",
      "hr=12, workingday=1 & 0.028000 & 45.400000 & -97.000000 & 26.200000 & 279.600000 & 295.700000 \\\\\n",
      "hr=13, workingday=1 & 0.028000 & 54.000000 & -88.400000 & 23.000000 & 272.900000 & 309.100000 \\\\\n",
      "\\bottomrule\n",
      "\\end{tabular}\n",
      "\n"
     ]
    }
   ],
   "source": [
    "\n",
    "\n",
    "target_col = 'mae'\n",
    "\n",
    "fp_details = DivergencePatternProcessor(subgroups, target_col)\n",
    "patterns = fp_details.get_patterns(th_redundancy=0)\n",
    "\n",
    "\n",
    "cols = [ 'itemset', 'support', 'mae', f\"{target_col}_div\", f\"{target_col}_t\",  'cnt', 'cnt_pred'] \n",
    "\n",
    "idxs = list(patterns.sort_values(by=[f\"{target_col}_div\", f\"{target_col}_t\"], ascending=[False, False]).head(3).index) + \\\n",
    "    list(patterns.sort_values(by=[f\"{target_col}_div\", f\"{target_col}_t\"], ascending=[True, False]).head(3).index)\n",
    "subgroups_print = printable(subgroups.loc[idxs][cols], target_col, abbreviations=abbreviations, round_v=1)\n",
    "\n",
    "\n",
    "print(target_col)\n",
    "display(subgroups_print)\n",
    "\n",
    "print(subgroups_print.to_latex(index=False))"
   ]
  },
  {
   "cell_type": "code",
   "execution_count": 35,
   "id": "422767ac",
   "metadata": {},
   "outputs": [
    {
     "data": {
      "text/plain": [
       "10586    (hr=8, workingday=1)\n",
       "10532    (workingday=1, hr=6)\n",
       "Name: itemset, dtype: object"
      ]
     },
     "execution_count": 35,
     "metadata": {},
     "output_type": "execute_result"
    }
   ],
   "source": [
    "subgroups.loc[idxs]['itemset'].iloc[[0, 3]]"
   ]
  },
  {
   "cell_type": "code",
   "execution_count": 36,
   "id": "79003c75",
   "metadata": {},
   "outputs": [],
   "source": [
    "# df_discretized_test_all.loc[subgroups.loc[idxs]['itemset'].iloc[[0, 3]]]"
   ]
  },
  {
   "cell_type": "code",
   "execution_count": 37,
   "id": "88ef9172",
   "metadata": {},
   "outputs": [
    {
     "name": "stderr",
     "output_type": "stream",
     "text": [
      "<>:12: SyntaxWarning: invalid escape sequence '\\h'\n",
      "<>:17: SyntaxWarning: invalid escape sequence '\\h'\n",
      "<>:12: SyntaxWarning: invalid escape sequence '\\h'\n",
      "<>:17: SyntaxWarning: invalid escape sequence '\\h'\n",
      "/tmp/ipykernel_3677292/2472116088.py:12: SyntaxWarning: invalid escape sequence '\\h'\n",
      "  ax1.plot(range(0,len(df_tmp_1[\"cnt_pred\"])),df_tmp_1[\"cnt_pred\"], label='$\\hat{y}$')\n",
      "/tmp/ipykernel_3677292/2472116088.py:17: SyntaxWarning: invalid escape sequence '\\h'\n",
      "  ax2.plot(range(0,len(df_tmp_2[\"cnt_pred\"])),df_tmp_2[\"cnt_pred\"], label='$\\hat{y}$')\n"
     ]
    },
    {
     "data": {
      "image/png": "[encoded data removed]",
      "text/plain": [
       "<Figure size 970x300 with 2 Axes>"
      ]
     },
     "metadata": {},
     "output_type": "display_data"
    }
   ],
   "source": [
    "import matplotlib.pyplot as plt\n",
    "\n",
    "def get_min_max_df(d):\n",
    "    return d.min().min(), d.max().max()\n",
    "\n",
    "\n",
    "fig, (ax1,ax2) = plt.subplots(1,2, figsize=(9.7, 3)) \n",
    "\n",
    "df_tmp_1 = df_discretized_test_all.loc[(df_discretized_test_all[\"workingday\"]==1)&(df_discretized_test_all[\"hr\"]==8)]\n",
    "\n",
    "ax1.plot(range(0,len(df_tmp_1[\"cnt\"])),df_tmp_1[\"cnt\"], label='y')\n",
    "ax1.plot(range(0,len(df_tmp_1[\"cnt_pred\"])),df_tmp_1[\"cnt_pred\"], label='$\\hat{y}$')\n",
    "min_v_1, max_v_1 = get_min_max_df(df_tmp_1[[\"cnt\",\"cnt_pred\"]])\n",
    "\n",
    "df_tmp_2 = df_discretized_test_all.loc[(df_discretized_test_all[\"workingday\"]==1)&(df_discretized_test_all[\"hr\"]==6)]\n",
    "ax2.plot(range(0,len(df_tmp_2[\"cnt\"])),df_tmp_2[\"cnt\"], label='y')\n",
    "ax2.plot(range(0,len(df_tmp_2[\"cnt_pred\"])),df_tmp_2[\"cnt_pred\"], label='$\\hat{y}$')\n",
    "min_v_2, max_v_2 = get_min_max_df(df_tmp_2[[\"cnt\", \"cnt_pred\"]])\n",
    "\n",
    "ax1.set_ylabel('# rented bicycles')  \n",
    "min_v, max_v=min(min_v_1, min_v_2), max(max_v_1, max_v_2)\n",
    "delta=0.03*max_v\n",
    "ax1.set_ylim(min_v-delta, max_v+delta)\n",
    "ax2.set_ylim(min_v-delta, max_v+delta)\n",
    "ax1.set_xlabel('(a)')  \n",
    "ax2.set_xlabel('(b)')  \n",
    "# ax.set_ylabel('y label')  # Add a y-label to the axes.\n",
    "ax1.set_title(\"workingday=1, hr=8\")\n",
    "ax2.set_title(\"workingday=1, hr=6\")\n",
    "ax2.legend()\n",
    "plt.tight_layout()\n",
    "plt.savefig(\"y_y_pred_rentings_workingday_h8vsh6.pdf\")"
   ]
  }
 ],
 "metadata": {
  "hide_input": false,
  "kernelspec": {
   "display_name": "divexp",
   "language": "python",
   "name": "divexp"
  },
  "language_info": {
   "codemirror_mode": {
    "name": "ipython",
    "version": 3
   },
   "file_extension": ".py",
   "mimetype": "text/x-python",
   "name": "python",
   "nbconvert_exporter": "python",
   "pygments_lexer": "ipython3",
   "version": "3.13.0"
  },
  "toc": {
   "base_numbering": 1,
   "nav_menu": {},
   "number_sections": true,
   "sideBar": true,
   "skip_h1_title": false,
   "title_cell": "Table of Contents",
   "title_sidebar": "Contents",
   "toc_cell": false,
   "toc_position": {
    "height": "calc(100% - 180px)",
    "left": "10px",
    "top": "150px",
    "width": "296.475px"
   },
   "toc_section_display": true,
   "toc_window_display": true
  },
  "varInspector": {
   "cols": {
    "lenName": 16,
    "lenType": 16,
    "lenVar": 40
   },
   "kernels_config": {
    "python": {
     "delete_cmd_postfix": "",
     "delete_cmd_prefix": "del ",
     "library": "var_list.py",
     "varRefreshCmd": "print(var_dic_list())"
    },
    "r": {
     "delete_cmd_postfix": ") ",
     "delete_cmd_prefix": "rm(",
     "library": "var_list.r",
     "varRefreshCmd": "cat(var_dic_list()) "
    }
   },
   "types_to_exclude": [
    "module",
    "function",
    "builtin_function_or_method",
    "instance",
    "_Feature"
   ],
   "window_display": false
  }
 },
 "nbformat": 4,
 "nbformat_minor": 5
}
