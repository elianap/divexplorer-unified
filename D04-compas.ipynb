{
 "cells": [
  {
   "cell_type": "code",
   "execution_count": 1,
   "metadata": {},
   "outputs": [],
   "source": [
    "%load_ext autoreload\n",
    "%autoreload 2"
   ]
  },
  {
   "cell_type": "code",
   "execution_count": 2,
   "metadata": {},
   "outputs": [],
   "source": [
    "import os\n",
    "import pandas as pd\n",
    "\n",
    "from utils_data import import_process_compas\n",
    "from utils import discretize\n",
    "pd.set_option('display.max_colwidth', None)\n",
    "from utils import printable\n"
   ]
  },
  {
   "cell_type": "code",
   "execution_count": null,
   "metadata": {},
   "outputs": [
    {
     "name": "stderr",
     "output_type": "stream",
     "text": [
      "/home/epastor/projects/divexplorer-journal/divexplorer-general/utils_data.py:204: SettingWithCopyWarning: \n",
      "A value is trying to be set on a copy of a slice from a DataFrame.\n",
      "Try using .loc[row_indexer,col_indexer] = value instead\n",
      "\n",
      "See the caveats in the documentation: https://pandas.pydata.org/pandas-docs/stable/user_guide/indexing.html#returning-a-view-versus-a-copy\n",
      "  df[\"length_of_stay\"] = pd.to_timedelta(\n"
     ]
    }
   ],
   "source": [
    "df = import_process_compas(input_dir=\"./data\")"
   ]
  },
  {
   "cell_type": "code",
   "execution_count": 4,
   "metadata": {},
   "outputs": [],
   "source": [
    "attributes = list(df.columns)\n",
    "attributes.remove('class')\n",
    "attributes.remove('predicted')\n",
    "\n",
    "df_discretized = discretize(df, dataset_name='compas', attributes=attributes)  "
   ]
  },
  {
   "cell_type": "code",
   "execution_count": 5,
   "metadata": {},
   "outputs": [],
   "source": [
    "abbreviations = {\"age_cat\":\"age\", \"priors_count\":\"#prior\", \"Greater than 45\":\">45\", \"25 - 45\":\"25-45\",\\\n",
    "                \"African-American\":\"African-American\", \"c_charge_degree\":\"charge\", \"Less than 25\":\"<25\", \"=>\":\">\", \"=<\":\"<\",\\\n",
    "                \"length_of_stay\":\"stay\", \"Caucasian\":\"Caucasian\", 'race': 'ethnicity'} "
   ]
  },
  {
   "cell_type": "markdown",
   "metadata": {},
   "source": [
    "# Divergence analysis"
   ]
  },
  {
   "cell_type": "code",
   "execution_count": null,
   "metadata": {},
   "outputs": [
    {
     "data": {
      "text/plain": [
       "108.01"
      ]
     },
     "execution_count": 6,
     "metadata": {},
     "output_type": "execute_result"
    }
   ],
   "source": [
    "min_support = 0.0175\n",
    "min_support_count = min_support*len(df_discretized)\n",
    "min_support_count"
   ]
  },
  {
   "cell_type": "code",
   "execution_count": 7,
   "metadata": {},
   "outputs": [],
   "source": [
    "import resource\n",
    "\n",
    "def limit_memory(max_mem_mb):\n",
    "    \"\"\"Limit memory usage of the current notebook process.\"\"\"\n",
    "    soft, hard = max_mem_mb * 1024 * 1024, max_mem_mb * 1024 * 1024\n",
    "    resource.setrlimit(resource.RLIMIT_AS, (soft, hard))\n",
    "\n",
    "# Example: Limit the notebook to 2 GB of memory\n",
    "limit_memory(10*1024)"
   ]
  },
  {
   "cell_type": "markdown",
   "metadata": {},
   "source": [
    "## True negative rate"
   ]
  },
  {
   "cell_type": "code",
   "execution_count": 8,
   "metadata": {},
   "outputs": [],
   "source": [
    "target_col = 'true_negative'\n",
    "\n",
    "df_discretized_analyze = df_discretized.copy()\n",
    "df_discretized_analyze[target_col] = df_discretized_analyze['class'].apply(lambda x: 1 if x == 0 else 0)\n",
    "\n",
    "df_discretized_analyze.drop(columns=[\"class\", \"predicted\"], inplace=True)\n",
    "\n",
    "type_outcome = 'boolean'"
   ]
  },
  {
   "cell_type": "code",
   "execution_count": 9,
   "metadata": {},
   "outputs": [],
   "source": [
    "from divexplorer import DivergenceExplorer\n",
    "\n",
    "fp_diver = DivergenceExplorer(df_discretized_analyze)"
   ]
  },
  {
   "cell_type": "code",
   "execution_count": null,
   "metadata": {},
   "outputs": [
    {
     "name": "stdout",
     "output_type": "stream",
     "text": [
      "--- 0.08154964447021484 seconds ---\n"
     ]
    }
   ],
   "source": [
    "import time\n",
    "try:\n",
    "    start_time = time.time()\n",
    "    subgroups = fp_diver.get_pattern_divergence(min_support=min_support, boolean_outcomes=[target_col])\n",
    "    print(\"--- %s seconds ---\" % (time.time() - start_time))\n",
    "except MemoryError:\n",
    "    print(\"Memory limit exceeded!\")"
   ]
  },
  {
   "cell_type": "code",
   "execution_count": 11,
   "metadata": {},
   "outputs": [],
   "source": [
    "cols = ['itemset', 'support', target_col, f\"{target_col}_div\", f\"{target_col}_t\"]"
   ]
  },
  {
   "cell_type": "code",
   "execution_count": 12,
   "metadata": {},
   "outputs": [],
   "source": [
    "from divexplorer import DivergencePatternProcessor\n",
    "\n",
    "\n",
    "fp_details = DivergencePatternProcessor(subgroups, target_col)"
   ]
  },
  {
   "cell_type": "code",
   "execution_count": 13,
   "metadata": {},
   "outputs": [
    {
     "name": "stdout",
     "output_type": "stream",
     "text": [
      "--- 0.0019483566284179688 seconds ---\n"
     ]
    }
   ],
   "source": [
    "import time\n",
    "try:\n",
    "    \n",
    "    start_time = time.time()\n",
    "    patterns = fp_details.get_patterns(th_redundancy=0)\n",
    "    print(\"--- %s seconds ---\" % (time.time() - start_time))\n",
    "except MemoryError:\n",
    "    print(\"Memory limit exceeded!\")"
   ]
  },
  {
   "cell_type": "code",
   "execution_count": 14,
   "metadata": {},
   "outputs": [
    {
     "data": {
      "text/html": [
       "<div>\n",
       "<style scoped>\n",
       "    .dataframe tbody tr th:only-of-type {\n",
       "        vertical-align: middle;\n",
       "    }\n",
       "\n",
       "    .dataframe tbody tr th {\n",
       "        vertical-align: top;\n",
       "    }\n",
       "\n",
       "    .dataframe thead th {\n",
       "        text-align: right;\n",
       "    }\n",
       "</style>\n",
       "<table border=\"1\" class=\"dataframe\">\n",
       "  <thead>\n",
       "    <tr style=\"text-align: right;\">\n",
       "      <th></th>\n",
       "      <th>itemset</th>\n",
       "      <th>support</th>\n",
       "      <th>true_negative</th>\n",
       "      <th>true_negative_div</th>\n",
       "      <th>true_negative_t</th>\n",
       "    </tr>\n",
       "  </thead>\n",
       "  <tbody>\n",
       "    <tr>\n",
       "      <th>556</th>\n",
       "      <td>age&gt;45, stay&lt;week, #prior=0, ethnicity=Caucasian, sex=Male</td>\n",
       "      <td>0.026</td>\n",
       "      <td>0.892</td>\n",
       "      <td>0.348</td>\n",
       "      <td>13.3</td>\n",
       "    </tr>\n",
       "    <tr>\n",
       "      <th>424</th>\n",
       "      <td>age&gt;45, stay&lt;week, #prior=0, ethnicity=Caucasian</td>\n",
       "      <td>0.036</td>\n",
       "      <td>0.884</td>\n",
       "      <td>0.339</td>\n",
       "      <td>15.0</td>\n",
       "    </tr>\n",
       "    <tr>\n",
       "      <th>579</th>\n",
       "      <td>age&gt;45, charge=M, stay&lt;week, #prior=0, ethnicity=Caucasian</td>\n",
       "      <td>0.024</td>\n",
       "      <td>0.872</td>\n",
       "      <td>0.328</td>\n",
       "      <td>11.4</td>\n",
       "    </tr>\n",
       "  </tbody>\n",
       "</table>\n",
       "</div>"
      ],
      "text/plain": [
       "                                                        itemset  support  \\\n",
       "556  age>45, stay<week, #prior=0, ethnicity=Caucasian, sex=Male    0.026   \n",
       "424            age>45, stay<week, #prior=0, ethnicity=Caucasian    0.036   \n",
       "579  age>45, charge=M, stay<week, #prior=0, ethnicity=Caucasian    0.024   \n",
       "\n",
       "     true_negative  true_negative_div  true_negative_t  \n",
       "556          0.892              0.348             13.3  \n",
       "424          0.884              0.339             15.0  \n",
       "579          0.872              0.328             11.4  "
      ]
     },
     "metadata": {},
     "output_type": "display_data"
    },
    {
     "name": "stdout",
     "output_type": "stream",
     "text": [
      "\\begin{tabular}{lrrrr}\n",
      "\\toprule\n",
      "itemset & support & true_negative & true_negative_div & true_negative_t \\\\\n",
      "\\midrule\n",
      "age>45, stay<week, #prior=0, ethnicity=Caucasian, sex=Male & 0.026000 & 0.892000 & 0.348000 & 13.300000 \\\\\n",
      "age>45, stay<week, #prior=0, ethnicity=Caucasian & 0.036000 & 0.884000 & 0.339000 & 15.000000 \\\\\n",
      "age>45, charge=M, stay<week, #prior=0, ethnicity=Caucasian & 0.024000 & 0.872000 & 0.328000 & 11.400000 \\\\\n",
      "\\bottomrule\n",
      "\\end{tabular}\n",
      "\n"
     ]
    }
   ],
   "source": [
    "subgroups_print = patterns[cols].sort_values(by=f\"{target_col}_div\", ascending=False).head(3).copy()\n",
    "subgroups_print = printable(subgroups_print, target_col, abbreviations=abbreviations, round_v=3)\n",
    "display(subgroups_print)\n",
    "\n",
    "print(subgroups_print.to_latex(index=False))"
   ]
  },
  {
   "cell_type": "code",
   "execution_count": 15,
   "metadata": {},
   "outputs": [
    {
     "data": {
      "text/plain": [
       "np.float64(0.5448801036941024)"
      ]
     },
     "execution_count": 15,
     "metadata": {},
     "output_type": "execute_result"
    }
   ],
   "source": [
    "patterns.loc[patterns['itemset']==frozenset()].iloc[0][target_col]"
   ]
  },
  {
   "cell_type": "markdown",
   "metadata": {},
   "source": [
    "## Predicted negative rate"
   ]
  },
  {
   "cell_type": "code",
   "execution_count": 16,
   "metadata": {},
   "outputs": [],
   "source": [
    "from divexplorer.outcomes import get_false_positive_rate_outcome\n",
    "\n",
    "target_col = 'pred_negative'\n",
    "\n",
    "df_discretized_analyze = df_discretized.copy()\n",
    "df_discretized_analyze[target_col] = df_discretized_analyze['predicted'].apply(lambda x: 1 if x == 0 else 0)\n",
    "\n",
    "df_discretized_analyze.drop(columns=[\"class\", \"predicted\"], inplace=True)\n",
    "\n",
    "type_outcome = 'boolean'"
   ]
  },
  {
   "cell_type": "code",
   "execution_count": 17,
   "metadata": {},
   "outputs": [],
   "source": [
    "from divexplorer import DivergenceExplorer\n",
    "\n",
    "fp_diver = DivergenceExplorer(df_discretized_analyze)"
   ]
  },
  {
   "cell_type": "code",
   "execution_count": 18,
   "metadata": {},
   "outputs": [
    {
     "name": "stdout",
     "output_type": "stream",
     "text": [
      "--- 0.09000921249389648 seconds ---\n"
     ]
    }
   ],
   "source": [
    "import time\n",
    "try:\n",
    "    start_time = time.time()\n",
    "    subgroups = fp_diver.get_pattern_divergence(min_support=min_support, boolean_outcomes=[target_col])\n",
    "    print(\"--- %s seconds ---\" % (time.time() - start_time))\n",
    "except MemoryError:\n",
    "    print(\"Memory limit exceeded!\")"
   ]
  },
  {
   "cell_type": "code",
   "execution_count": 19,
   "metadata": {},
   "outputs": [],
   "source": [
    "cols = ['itemset', 'support', target_col, f\"{target_col}_div\", f\"{target_col}_t\"]"
   ]
  },
  {
   "cell_type": "code",
   "execution_count": 20,
   "metadata": {},
   "outputs": [],
   "source": [
    "from divexplorer import DivergencePatternProcessor\n",
    "\n",
    "\n",
    "fp_details = DivergencePatternProcessor(subgroups, target_col)"
   ]
  },
  {
   "cell_type": "code",
   "execution_count": 21,
   "metadata": {},
   "outputs": [
    {
     "name": "stdout",
     "output_type": "stream",
     "text": [
      "--- 0.0021088123321533203 seconds ---\n"
     ]
    }
   ],
   "source": [
    "import time\n",
    "try:\n",
    "    \n",
    "    start_time = time.time()\n",
    "    patterns = fp_details.get_patterns(th_redundancy=0)\n",
    "    print(\"--- %s seconds ---\" % (time.time() - start_time))\n",
    "except MemoryError:\n",
    "    print(\"Memory limit exceeded!\")"
   ]
  },
  {
   "cell_type": "code",
   "execution_count": 22,
   "metadata": {},
   "outputs": [
    {
     "data": {
      "text/html": [
       "<div>\n",
       "<style scoped>\n",
       "    .dataframe tbody tr th:only-of-type {\n",
       "        vertical-align: middle;\n",
       "    }\n",
       "\n",
       "    .dataframe tbody tr th {\n",
       "        vertical-align: top;\n",
       "    }\n",
       "\n",
       "    .dataframe thead th {\n",
       "        text-align: right;\n",
       "    }\n",
       "</style>\n",
       "<table border=\"1\" class=\"dataframe\">\n",
       "  <thead>\n",
       "    <tr style=\"text-align: right;\">\n",
       "      <th></th>\n",
       "      <th>itemset</th>\n",
       "      <th>support</th>\n",
       "      <th>pred_negative</th>\n",
       "      <th>pred_negative_div</th>\n",
       "      <th>pred_negative_t</th>\n",
       "    </tr>\n",
       "  </thead>\n",
       "  <tbody>\n",
       "    <tr>\n",
       "      <th>379</th>\n",
       "      <td>age&gt;45, charge=M, #prior=0</td>\n",
       "      <td>0.042</td>\n",
       "      <td>1.000</td>\n",
       "      <td>0.185</td>\n",
       "      <td>29.0</td>\n",
       "    </tr>\n",
       "    <tr>\n",
       "      <th>556</th>\n",
       "      <td>age&gt;45, stay&lt;week, #prior=0, ethnicity=Caucasian, sex=Male</td>\n",
       "      <td>0.026</td>\n",
       "      <td>1.000</td>\n",
       "      <td>0.185</td>\n",
       "      <td>22.6</td>\n",
       "    </tr>\n",
       "    <tr>\n",
       "      <th>322</th>\n",
       "      <td>age&gt;45, stay&lt;week, #prior=0, sex=Male</td>\n",
       "      <td>0.049</td>\n",
       "      <td>0.997</td>\n",
       "      <td>0.182</td>\n",
       "      <td>26.4</td>\n",
       "    </tr>\n",
       "  </tbody>\n",
       "</table>\n",
       "</div>"
      ],
      "text/plain": [
       "                                                        itemset  support  \\\n",
       "379                                  age>45, charge=M, #prior=0    0.042   \n",
       "556  age>45, stay<week, #prior=0, ethnicity=Caucasian, sex=Male    0.026   \n",
       "322                       age>45, stay<week, #prior=0, sex=Male    0.049   \n",
       "\n",
       "     pred_negative  pred_negative_div  pred_negative_t  \n",
       "379          1.000              0.185             29.0  \n",
       "556          1.000              0.185             22.6  \n",
       "322          0.997              0.182             26.4  "
      ]
     },
     "metadata": {},
     "output_type": "display_data"
    },
    {
     "name": "stdout",
     "output_type": "stream",
     "text": [
      "\\begin{tabular}{lrrrr}\n",
      "\\toprule\n",
      "itemset & support & pred_negative & pred_negative_div & pred_negative_t \\\\\n",
      "\\midrule\n",
      "age>45, charge=M, #prior=0 & 0.042000 & 1.000000 & 0.185000 & 29.000000 \\\\\n",
      "age>45, stay<week, #prior=0, ethnicity=Caucasian, sex=Male & 0.026000 & 1.000000 & 0.185000 & 22.600000 \\\\\n",
      "age>45, stay<week, #prior=0, sex=Male & 0.049000 & 0.997000 & 0.182000 & 26.400000 \\\\\n",
      "\\bottomrule\n",
      "\\end{tabular}\n",
      "\n"
     ]
    }
   ],
   "source": [
    "subgroups_print = patterns[cols].sort_values(by=[f\"{target_col}_div\", f'{target_col}_t'], ascending=[False, False]).head(3).copy()\n",
    "subgroups_print = printable(subgroups_print, target_col, abbreviations=abbreviations, round_v=3)\n",
    "\n",
    "display(subgroups_print)\n",
    "\n",
    "print(subgroups_print.to_latex(index=False))"
   ]
  },
  {
   "cell_type": "code",
   "execution_count": 23,
   "metadata": {},
   "outputs": [
    {
     "data": {
      "text/plain": [
       "np.float64(0.814646791963707)"
      ]
     },
     "execution_count": 23,
     "metadata": {},
     "output_type": "execute_result"
    }
   ],
   "source": [
    "patterns.loc[patterns['itemset']==frozenset()].iloc[0][target_col]"
   ]
  },
  {
   "cell_type": "markdown",
   "metadata": {},
   "source": [
    "## FPR"
   ]
  },
  {
   "cell_type": "code",
   "execution_count": 24,
   "metadata": {},
   "outputs": [],
   "source": [
    "from divexplorer.outcomes import get_false_positive_rate_outcome\n",
    "\n",
    "target_col = 'fp'\n",
    "\n",
    "df_discretized_analyze = df_discretized.copy()\n",
    "\n",
    "df_discretized_analyze[target_col] =  get_false_positive_rate_outcome(df_discretized_analyze['class'].values, df_discretized_analyze['predicted'].values)\n",
    "\n",
    "df_discretized_analyze.drop(columns=[\"class\", \"predicted\"], inplace=True)\n",
    "\n",
    "type_outcome = 'boolean'"
   ]
  },
  {
   "cell_type": "code",
   "execution_count": 25,
   "metadata": {},
   "outputs": [],
   "source": [
    "from divexplorer import DivergenceExplorer\n",
    "\n",
    "fp_diver = DivergenceExplorer(df_discretized_analyze)"
   ]
  },
  {
   "cell_type": "code",
   "execution_count": 26,
   "metadata": {},
   "outputs": [
    {
     "name": "stdout",
     "output_type": "stream",
     "text": [
      "--- 0.08045744895935059 seconds ---\n"
     ]
    }
   ],
   "source": [
    "import time\n",
    "try:\n",
    "    start_time = time.time()\n",
    "    subgroups = fp_diver.get_pattern_divergence(min_support=min_support, boolean_outcomes=[target_col])\n",
    "    print(\"--- %s seconds ---\" % (time.time() - start_time))\n",
    "except MemoryError:\n",
    "    print(\"Memory limit exceeded!\")"
   ]
  },
  {
   "cell_type": "code",
   "execution_count": 27,
   "metadata": {},
   "outputs": [],
   "source": [
    "cols = ['itemset', 'support', target_col, f\"{target_col}_div\", f\"{target_col}_t\"]"
   ]
  },
  {
   "cell_type": "code",
   "execution_count": 28,
   "metadata": {},
   "outputs": [],
   "source": [
    "from divexplorer import DivergencePatternProcessor\n",
    "\n",
    "\n",
    "fp_details = DivergencePatternProcessor(subgroups, target_col)"
   ]
  },
  {
   "cell_type": "code",
   "execution_count": 29,
   "metadata": {},
   "outputs": [
    {
     "name": "stdout",
     "output_type": "stream",
     "text": [
      "--- 0.0004863739013671875 seconds ---\n"
     ]
    }
   ],
   "source": [
    "import time\n",
    "try:\n",
    "    \n",
    "    start_time = time.time()\n",
    "    patterns = fp_details.get_patterns(th_redundancy=None)\n",
    "    print(\"--- %s seconds ---\" % (time.time() - start_time))\n",
    "except MemoryError:\n",
    "    print(\"Memory limit exceeded!\")"
   ]
  },
  {
   "cell_type": "code",
   "execution_count": 30,
   "metadata": {},
   "outputs": [
    {
     "data": {
      "text/html": [
       "<div>\n",
       "<style scoped>\n",
       "    .dataframe tbody tr th:only-of-type {\n",
       "        vertical-align: middle;\n",
       "    }\n",
       "\n",
       "    .dataframe tbody tr th {\n",
       "        vertical-align: top;\n",
       "    }\n",
       "\n",
       "    .dataframe thead th {\n",
       "        text-align: right;\n",
       "    }\n",
       "</style>\n",
       "<table border=\"1\" class=\"dataframe\">\n",
       "  <thead>\n",
       "    <tr style=\"text-align: right;\">\n",
       "      <th></th>\n",
       "      <th>itemset</th>\n",
       "      <th>support</th>\n",
       "      <th>fp</th>\n",
       "      <th>fp_div</th>\n",
       "      <th>fp_t</th>\n",
       "    </tr>\n",
       "  </thead>\n",
       "  <tbody>\n",
       "    <tr>\n",
       "      <th>656</th>\n",
       "      <td>age&lt;25, #prior&gt;3, sex=Male</td>\n",
       "      <td>0.019</td>\n",
       "      <td>0.68</td>\n",
       "      <td>0.59</td>\n",
       "      <td>6.1</td>\n",
       "    </tr>\n",
       "    <tr>\n",
       "      <th>617</th>\n",
       "      <td>age&lt;25, #prior&gt;3</td>\n",
       "      <td>0.022</td>\n",
       "      <td>0.62</td>\n",
       "      <td>0.53</td>\n",
       "      <td>5.7</td>\n",
       "    </tr>\n",
       "    <tr>\n",
       "      <th>655</th>\n",
       "      <td>age&lt;25, stay=1w-3M, ethnicity=African-American, sex=Male</td>\n",
       "      <td>0.019</td>\n",
       "      <td>0.39</td>\n",
       "      <td>0.31</td>\n",
       "      <td>3.8</td>\n",
       "    </tr>\n",
       "  </tbody>\n",
       "</table>\n",
       "</div>"
      ],
      "text/plain": [
       "                                                      itemset  support    fp  \\\n",
       "656                                age<25, #prior>3, sex=Male    0.019  0.68   \n",
       "617                                          age<25, #prior>3    0.022  0.62   \n",
       "655  age<25, stay=1w-3M, ethnicity=African-American, sex=Male    0.019  0.39   \n",
       "\n",
       "     fp_div  fp_t  \n",
       "656    0.59   6.1  \n",
       "617    0.53   5.7  \n",
       "655    0.31   3.8  "
      ]
     },
     "metadata": {},
     "output_type": "display_data"
    },
    {
     "name": "stdout",
     "output_type": "stream",
     "text": [
      "\\begin{tabular}{lrrrr}\n",
      "\\toprule\n",
      "itemset & support & fp & fp_div & fp_t \\\\\n",
      "\\midrule\n",
      "age<25, #prior>3, sex=Male & 0.019000 & 0.680000 & 0.590000 & 6.100000 \\\\\n",
      "age<25, #prior>3 & 0.022000 & 0.620000 & 0.530000 & 5.700000 \\\\\n",
      "age<25, stay=1w-3M, ethnicity=African-American, sex=Male & 0.019000 & 0.390000 & 0.310000 & 3.800000 \\\\\n",
      "\\bottomrule\n",
      "\\end{tabular}\n",
      "\n"
     ]
    }
   ],
   "source": [
    "subgroups_print = patterns[cols].sort_values(by=f\"{target_col}_div\", ascending=False).head(3).copy()\n",
    "subgroups_print = printable(subgroups_print, target_col, abbreviations=abbreviations)\n",
    "\n",
    "display(subgroups_print)\n",
    "\n",
    "print(subgroups_print.to_latex(index=False))"
   ]
  },
  {
   "cell_type": "code",
   "execution_count": 31,
   "metadata": {},
   "outputs": [
    {
     "data": {
      "text/plain": [
       "np.float64(0.08831400535236396)"
      ]
     },
     "execution_count": 31,
     "metadata": {},
     "output_type": "execute_result"
    }
   ],
   "source": [
    "patterns.loc[patterns['itemset']==frozenset()].iloc[0][target_col]"
   ]
  },
  {
   "cell_type": "markdown",
   "metadata": {},
   "source": [
    "## FNR"
   ]
  },
  {
   "cell_type": "code",
   "execution_count": 32,
   "metadata": {},
   "outputs": [],
   "source": [
    "from divexplorer.outcomes import get_false_negative_rate_outcome\n",
    "\n",
    "target_col = 'fn'\n",
    "\n",
    "df_discretized_analyze = df_discretized.copy()\n",
    "\n",
    "df_discretized_analyze[target_col] =  get_false_negative_rate_outcome(df_discretized_analyze['class'].values, df_discretized_analyze['predicted'].values)\n",
    "\n",
    "df_discretized_analyze.drop(columns=[\"class\", \"predicted\"], inplace=True)\n",
    "\n",
    "type_outcome = 'boolean'"
   ]
  },
  {
   "cell_type": "code",
   "execution_count": 33,
   "metadata": {},
   "outputs": [],
   "source": [
    "from divexplorer import DivergenceExplorer\n",
    "\n",
    "fp_diver = DivergenceExplorer(df_discretized_analyze)"
   ]
  },
  {
   "cell_type": "code",
   "execution_count": 34,
   "metadata": {},
   "outputs": [
    {
     "name": "stdout",
     "output_type": "stream",
     "text": [
      "--- 0.09435105323791504 seconds ---\n"
     ]
    }
   ],
   "source": [
    "import time\n",
    "try:\n",
    "    start_time = time.time()\n",
    "    subgroups = fp_diver.get_pattern_divergence(min_support=min_support, boolean_outcomes=[target_col])\n",
    "    print(\"--- %s seconds ---\" % (time.time() - start_time))\n",
    "except MemoryError:\n",
    "    print(\"Memory limit exceeded!\")"
   ]
  },
  {
   "cell_type": "code",
   "execution_count": 35,
   "metadata": {},
   "outputs": [],
   "source": [
    "cols = ['itemset', 'support', target_col, f\"{target_col}_div\", f\"{target_col}_t\"]"
   ]
  },
  {
   "cell_type": "code",
   "execution_count": 36,
   "metadata": {},
   "outputs": [],
   "source": [
    "from divexplorer import DivergencePatternProcessor\n",
    "\n",
    "\n",
    "fp_details = DivergencePatternProcessor(subgroups, target_col)"
   ]
  },
  {
   "cell_type": "code",
   "execution_count": 37,
   "metadata": {},
   "outputs": [
    {
     "name": "stdout",
     "output_type": "stream",
     "text": [
      "--- 0.002046823501586914 seconds ---\n"
     ]
    }
   ],
   "source": [
    "import time\n",
    "try:\n",
    "    \n",
    "    start_time = time.time()\n",
    "    patterns = fp_details.get_patterns(th_redundancy=0)\n",
    "    print(\"--- %s seconds ---\" % (time.time() - start_time))\n",
    "except MemoryError:\n",
    "    print(\"Memory limit exceeded!\")"
   ]
  },
  {
   "cell_type": "code",
   "execution_count": 38,
   "metadata": {},
   "outputs": [
    {
     "data": {
      "text/html": [
       "<div>\n",
       "<style scoped>\n",
       "    .dataframe tbody tr th:only-of-type {\n",
       "        vertical-align: middle;\n",
       "    }\n",
       "\n",
       "    .dataframe tbody tr th {\n",
       "        vertical-align: top;\n",
       "    }\n",
       "\n",
       "    .dataframe thead th {\n",
       "        text-align: right;\n",
       "    }\n",
       "</style>\n",
       "<table border=\"1\" class=\"dataframe\">\n",
       "  <thead>\n",
       "    <tr style=\"text-align: right;\">\n",
       "      <th></th>\n",
       "      <th>itemset</th>\n",
       "      <th>support</th>\n",
       "      <th>fn</th>\n",
       "      <th>fn_div</th>\n",
       "      <th>fn_t</th>\n",
       "    </tr>\n",
       "  </thead>\n",
       "  <tbody>\n",
       "    <tr>\n",
       "      <th>321</th>\n",
       "      <td>age&gt;45, charge=M, ethnicity=Caucasian</td>\n",
       "      <td>0.049</td>\n",
       "      <td>1.0</td>\n",
       "      <td>0.3</td>\n",
       "      <td>17.6</td>\n",
       "    </tr>\n",
       "    <tr>\n",
       "      <th>501</th>\n",
       "      <td>age&gt;45, charge=M, #prior=[1,3]</td>\n",
       "      <td>0.029</td>\n",
       "      <td>1.0</td>\n",
       "      <td>0.3</td>\n",
       "      <td>14.1</td>\n",
       "    </tr>\n",
       "    <tr>\n",
       "      <th>379</th>\n",
       "      <td>age&gt;45, charge=M, #prior=0</td>\n",
       "      <td>0.042</td>\n",
       "      <td>1.0</td>\n",
       "      <td>0.3</td>\n",
       "      <td>10.4</td>\n",
       "    </tr>\n",
       "  </tbody>\n",
       "</table>\n",
       "</div>"
      ],
      "text/plain": [
       "                                   itemset  support   fn  fn_div  fn_t\n",
       "321  age>45, charge=M, ethnicity=Caucasian    0.049  1.0     0.3  17.6\n",
       "501         age>45, charge=M, #prior=[1,3]    0.029  1.0     0.3  14.1\n",
       "379             age>45, charge=M, #prior=0    0.042  1.0     0.3  10.4"
      ]
     },
     "metadata": {},
     "output_type": "display_data"
    },
    {
     "name": "stdout",
     "output_type": "stream",
     "text": [
      "\\begin{tabular}{lrrrr}\n",
      "\\toprule\n",
      "itemset & support & fn & fn_div & fn_t \\\\\n",
      "\\midrule\n",
      "age>45, charge=M, ethnicity=Caucasian & 0.049000 & 1.000000 & 0.300000 & 17.600000 \\\\\n",
      "age>45, charge=M, #prior=[1,3] & 0.029000 & 1.000000 & 0.300000 & 14.100000 \\\\\n",
      "age>45, charge=M, #prior=0 & 0.042000 & 1.000000 & 0.300000 & 10.400000 \\\\\n",
      "\\bottomrule\n",
      "\\end{tabular}\n",
      "\n"
     ]
    }
   ],
   "source": [
    "subgroups_print = patterns[cols].sort_values(by=[f\"{target_col}_div\", f\"{target_col}_t\"], ascending=[False, False]).head(3).copy()\n",
    "subgroups_print = printable(subgroups_print, target_col, abbreviations=abbreviations)\n",
    "\n",
    "display(subgroups_print)\n",
    "\n",
    "print(subgroups_print.to_latex(index=False))"
   ]
  },
  {
   "cell_type": "code",
   "execution_count": 39,
   "metadata": {},
   "outputs": [
    {
     "data": {
      "text/plain": [
       "np.float64(0.6984692061231755)"
      ]
     },
     "execution_count": 39,
     "metadata": {},
     "output_type": "execute_result"
    }
   ],
   "source": [
    "patterns.loc[patterns['itemset']==frozenset()].iloc[0][target_col]"
   ]
  }
 ],
 "metadata": {
  "kernelspec": {
   "display_name": "divexp",
   "language": "python",
   "name": "divexp"
  },
  "language_info": {
   "codemirror_mode": {
    "name": "ipython",
    "version": 3
   },
   "file_extension": ".py",
   "mimetype": "text/x-python",
   "name": "python",
   "nbconvert_exporter": "python",
   "pygments_lexer": "ipython3",
   "version": "3.13.0"
  }
 },
 "nbformat": 4,
 "nbformat_minor": 2
}
