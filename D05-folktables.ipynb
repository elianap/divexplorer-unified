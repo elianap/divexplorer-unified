{
 "cells": [
  {
   "cell_type": "code",
   "execution_count": 1,
   "metadata": {},
   "outputs": [],
   "source": [
    "%load_ext autoreload\n",
    "%autoreload 2"
   ]
  },
  {
   "cell_type": "code",
   "execution_count": 2,
   "metadata": {},
   "outputs": [],
   "source": [
    "import os\n",
    "import pandas as pd\n",
    "\n",
    "from utils_data import import_process_folktables\n",
    "from utils import discretize\n"
   ]
  },
  {
   "cell_type": "code",
   "execution_count": 3,
   "metadata": {},
   "outputs": [],
   "source": [
    "year = '2023'\n",
    "filename = os.path.join(\"./data\", f\"folktables_{year}.csv\")\n",
    "if os.path.exists(filename):\n",
    "    df = pd.read_csv(os.path.join(\"./data\", f\"folktables_{year}.csv\"))\n",
    "    target_col = 'income'\n",
    "else:\n",
    "    df, target_col = import_process_folktables(input_dir=\"./data\", store_data = True, year=year)"
   ]
  },
  {
   "cell_type": "code",
   "execution_count": 4,
   "metadata": {},
   "outputs": [],
   "source": [
    "df = df.loc[df['AGEP']>=18]"
   ]
  },
  {
   "cell_type": "code",
   "execution_count": 5,
   "metadata": {},
   "outputs": [],
   "source": [
    "attributes = list(df.columns)\n",
    "attributes.remove(target_col)\n",
    "df_discretized = discretize(df, attributes=attributes)  "
   ]
  },
  {
   "cell_type": "markdown",
   "metadata": {},
   "source": [
    "# Divergence analysis"
   ]
  },
  {
   "cell_type": "code",
   "execution_count": 6,
   "metadata": {},
   "outputs": [],
   "source": [
    "min_support_count = 100\n",
    "min_support = min_support_count/len(df_discretized)"
   ]
  },
  {
   "cell_type": "code",
   "execution_count": 7,
   "metadata": {},
   "outputs": [],
   "source": [
    "from divexplorer import DivergenceExplorer\n",
    "\n",
    "\n",
    "fp_diver = DivergenceExplorer(df_discretized)"
   ]
  },
  {
   "cell_type": "code",
   "execution_count": 8,
   "metadata": {},
   "outputs": [],
   "source": [
    "import resource\n",
    "\n",
    "def limit_memory(max_mem_mb):\n",
    "    \"\"\"Limit memory usage of the current notebook process.\"\"\"\n",
    "    soft, hard = max_mem_mb * 1024 * 1024, max_mem_mb * 1024 * 1024\n",
    "    resource.setrlimit(resource.RLIMIT_AS, (soft, hard))\n",
    "\n",
    "# Example: Limit the notebook to 2 GB of memory\n",
    "limit_memory(10*1024)"
   ]
  },
  {
   "cell_type": "code",
   "execution_count": 9,
   "metadata": {},
   "outputs": [
    {
     "name": "stdout",
     "output_type": "stream",
     "text": [
      "--- 42.78594970703125 seconds ---\n"
     ]
    }
   ],
   "source": [
    "import time\n",
    "try:\n",
    "    start_time = time.time()\n",
    "    subgroups = fp_diver.get_pattern_divergence(min_support=min_support, quantitative_outcomes=[target_col])\n",
    "    print(\"--- %s seconds ---\" % (time.time() - start_time))\n",
    "except MemoryError:\n",
    "    print(\"Memory limit exceeded!\")"
   ]
  },
  {
   "cell_type": "code",
   "execution_count": 10,
   "metadata": {},
   "outputs": [
    {
     "data": {
      "text/html": [
       "<div>\n",
       "<style scoped>\n",
       "    .dataframe tbody tr th:only-of-type {\n",
       "        vertical-align: middle;\n",
       "    }\n",
       "\n",
       "    .dataframe tbody tr th {\n",
       "        vertical-align: top;\n",
       "    }\n",
       "\n",
       "    .dataframe thead th {\n",
       "        text-align: right;\n",
       "    }\n",
       "</style>\n",
       "<table border=\"1\" class=\"dataframe\">\n",
       "  <thead>\n",
       "    <tr style=\"text-align: right;\">\n",
       "      <th></th>\n",
       "      <th>support</th>\n",
       "      <th>itemset</th>\n",
       "      <th>income</th>\n",
       "      <th>income_div</th>\n",
       "      <th>income_t</th>\n",
       "      <th>length</th>\n",
       "      <th>support_count</th>\n",
       "    </tr>\n",
       "  </thead>\n",
       "  <tbody>\n",
       "    <tr>\n",
       "      <th>138370</th>\n",
       "      <td>0.000658</td>\n",
       "      <td>(WKHP=&gt; 40, MAR=Married, AGEP=(34 - 51], OCCP=MED-Physicians, SEX=Male)</td>\n",
       "      <td>434180.751880</td>\n",
       "      <td>352551.537817</td>\n",
       "      <td>16.862418</td>\n",
       "      <td>5</td>\n",
       "      <td>133.0</td>\n",
       "    </tr>\n",
       "    <tr>\n",
       "      <th>186271</th>\n",
       "      <td>0.000500</td>\n",
       "      <td>(WKHP=&gt; 40, AGEP=&gt; 51, COW=Employee of a private for-profit company or business, or of an individual, for wages, salary, or commissions, SCHL=Master's degree, OCCP=MGR-Chief Executives And Legislators)</td>\n",
       "      <td>427162.970297</td>\n",
       "      <td>345533.756234</td>\n",
       "      <td>15.292203</td>\n",
       "      <td>5</td>\n",
       "      <td>101.0</td>\n",
       "    </tr>\n",
       "    <tr>\n",
       "      <th>146892</th>\n",
       "      <td>0.000623</td>\n",
       "      <td>(WKHP=&gt; 40, RAC1P=White alone, RELSHIPP=Reference person, OCCP=MED-Physicians, SEX=Male)</td>\n",
       "      <td>424946.428571</td>\n",
       "      <td>343317.214508</td>\n",
       "      <td>14.450744</td>\n",
       "      <td>5</td>\n",
       "      <td>126.0</td>\n",
       "    </tr>\n",
       "    <tr>\n",
       "      <th>165946</th>\n",
       "      <td>0.000559</td>\n",
       "      <td>(WKHP=&gt; 40, AGEP=(34 - 51], OCCP=MED-Physicians, RELSHIPP=Reference person, SEX=Male)</td>\n",
       "      <td>421460.000000</td>\n",
       "      <td>339830.785937</td>\n",
       "      <td>14.203841</td>\n",
       "      <td>5</td>\n",
       "      <td>113.0</td>\n",
       "    </tr>\n",
       "    <tr>\n",
       "      <th>174763</th>\n",
       "      <td>0.000529</td>\n",
       "      <td>(WKHP=&gt; 40, MAR=Married, AGEP=(34 - 51], SCHL=Professional degree beyond a bachelor's degree, OCCP=MED-Physicians, SEX=Male)</td>\n",
       "      <td>420501.308411</td>\n",
       "      <td>338872.094348</td>\n",
       "      <td>15.167998</td>\n",
       "      <td>6</td>\n",
       "      <td>107.0</td>\n",
       "    </tr>\n",
       "  </tbody>\n",
       "</table>\n",
       "</div>"
      ],
      "text/plain": [
       "         support  \\\n",
       "138370  0.000658   \n",
       "186271  0.000500   \n",
       "146892  0.000623   \n",
       "165946  0.000559   \n",
       "174763  0.000529   \n",
       "\n",
       "                                                                                                                                                                                                          itemset  \\\n",
       "138370                                                                                                                                    (WKHP=> 40, MAR=Married, AGEP=(34 - 51], OCCP=MED-Physicians, SEX=Male)   \n",
       "186271  (WKHP=> 40, AGEP=> 51, COW=Employee of a private for-profit company or business, or of an individual, for wages, salary, or commissions, SCHL=Master's degree, OCCP=MGR-Chief Executives And Legislators)   \n",
       "146892                                                                                                                   (WKHP=> 40, RAC1P=White alone, RELSHIPP=Reference person, OCCP=MED-Physicians, SEX=Male)   \n",
       "165946                                                                                                                      (WKHP=> 40, AGEP=(34 - 51], OCCP=MED-Physicians, RELSHIPP=Reference person, SEX=Male)   \n",
       "174763                                                                               (WKHP=> 40, MAR=Married, AGEP=(34 - 51], SCHL=Professional degree beyond a bachelor's degree, OCCP=MED-Physicians, SEX=Male)   \n",
       "\n",
       "               income     income_div   income_t  length  support_count  \n",
       "138370  434180.751880  352551.537817  16.862418       5          133.0  \n",
       "186271  427162.970297  345533.756234  15.292203       5          101.0  \n",
       "146892  424946.428571  343317.214508  14.450744       5          126.0  \n",
       "165946  421460.000000  339830.785937  14.203841       5          113.0  \n",
       "174763  420501.308411  338872.094348  15.167998       6          107.0  "
      ]
     },
     "execution_count": 10,
     "metadata": {},
     "output_type": "execute_result"
    }
   ],
   "source": [
    "pd.set_option('display.max_colwidth', None)\n",
    "subgroups.sort_values(by=f\"{target_col}_div\", ascending=False).head(5)"
   ]
  },
  {
   "cell_type": "code",
   "execution_count": 50,
   "metadata": {},
   "outputs": [],
   "source": [
    "abbreviations = {\"RAC1P\": \"RAC\", \"White alone\": \"White\", \"Reference person\": \"Ref person\", \\\n",
    "#\"Employee of a private for-profit company or business, or of an individual, for wages, salary, or commissions\": \"Empl. for-profit-c\",\\\n",
    "'Employee of a private for-profit company or business, or of an individual, for wages, salary, or commissions' : 'Empl-prv',\n",
    "#\"Employee of a private not-for-profit, tax-exempt, or charitable organization\": \"Empl. no-profit-c\",\n",
    "\"Self-employed in own not incorporated business, professional practice, or farm\": \"Self-Empl. not incorp\" ,     \n",
    "\"Self-employed in own incorporated business, professional practice or farm\": \"Self-Empl. incorp\" ,\n",
    "\"Local government employee (city, county, etc.)\" : \"Local gov. Empl. \",\n",
    "\"Federal government employee\": \"Federal gov.  Empl.\",\n",
    "\"California/CA\":\"CA\", \"Never married or under 15 years old\": \"Never married/<15yrs\", \n",
    "\"Biological son or daughter\": \"Son/daughter\", \"Regular high school diploma\":\"HS\", \\\n",
    "\"Asian alone\":\"Asian\", \"1 or more years of college credit\":\"1+ collage cr\",\n",
    "\"Some Other Race alone\": \"Other\", \"Bachelor's degree\": \"Bachelor\", \"Master's degree\": \"Master\", \n",
    "                \"Some college, but less than 1 year\": \"<1y collage\",\n",
    "                \"Associate's degree\":\"Associate\",\n",
    "\"Noninstitutionalized group quarters population\": \"Noninstitutionalized group quarters\", \n",
    "\"OCCP=CMM-Software Developers\": \"OCCP=CMM-SW Dev\", \n",
    "                 \"Professional degree beyond a bachelor's degree\": \"Prof beyond bachelor\",\n",
    "                 'AGEP': 'age', 'SEX':'gender', '=<=': '$\\\\le$', '=> ': '>', 'OCCP': 'occ', \\\n",
    "                    'RAC': 'eth', 'WKHP': 'wkh', 'SCHL': 'schl', 'MAR': 'mar', 'RELP': 'relp',\n",
    "                    'POBP':'pob', 'RELSHIPP':'relp',\n",
    "                    'Noninstitutionalized group quarters': 'NonInst-GQ', \n",
    "                    'Executives And Legislators': 'Execs/Legislators',\n",
    "                    'Fast Food And Counter Workers': 'FastFood/Counter', 'COW': 'cow',\n",
    "                    'Preschool And Kindergarten Teachers': 'Preschool/Kinderg. Tchrs',\n",
    "                    'Opposite-sex husband/wife/spouse': 'Opposite-sex-rel'}\n"
   ]
  },
  {
   "cell_type": "code",
   "execution_count": 25,
   "metadata": {},
   "outputs": [],
   "source": [
    "\n",
    "def printable(subgroups_print, target_col, abbreviations = {},  use_k = False):\n",
    "    from utils import sort_itemset\n",
    "    subgroups_print['itemset'] = subgroups_print['itemset'].apply(lambda x: sort_itemset(x, abbreviations=abbreviations))\n",
    "    subgroups_print['support'] = subgroups_print['support'].apply(lambda x: round(x, 3))\n",
    "    subgroups_print[f\"{target_col}_t\"] = subgroups_print[f\"{target_col}_t\"].apply(lambda x: round(x, 1))\n",
    "\n",
    "    if use_k:\n",
    "        subgroups_print[f\"{target_col}_div\"] = subgroups_print[f\"{target_col}_div\"].apply(lambda x: x/1000)\n",
    "        subgroups_print[f\"{target_col}_div\"] = subgroups_print[f\"{target_col}_div\"].apply(lambda x: f'{round(x, 2)}k')\n",
    "        \n",
    "    remaining_cols = [col for col in subgroups_print.columns if col not in ['itemset', 'support', f\"{target_col}_t\", f\"{target_col}_div\"]]\n",
    "    for col in remaining_cols:\n",
    "        if use_k:\n",
    "            subgroups_print[col] = subgroups_print[col].apply(lambda x: x/1000)\n",
    "            subgroups_print[col] = subgroups_print[col].apply(lambda x: f'{round(x, 2)}k')\n",
    "        else:\n",
    "            subgroups_print[col] = subgroups_print[col].apply(lambda x: round(x, 3))\n",
    "    return subgroups_print"
   ]
  },
  {
   "cell_type": "code",
   "execution_count": 26,
   "metadata": {},
   "outputs": [],
   "source": [
    "pd.set_option('display.max_colwidth', None)\n",
    "cols = ['itemset', 'support', target_col, f\"{target_col}_div\", f\"{target_col}_t\"]"
   ]
  },
  {
   "cell_type": "code",
   "execution_count": 27,
   "metadata": {},
   "outputs": [],
   "source": [
    "from divexplorer import DivergencePatternProcessor\n",
    "\n",
    "\n",
    "fp_details = DivergencePatternProcessor(subgroups, target_col)\n"
   ]
  },
  {
   "cell_type": "code",
   "execution_count": null,
   "metadata": {},
   "outputs": [
    {
     "name": "stdout",
     "output_type": "stream",
     "text": [
      "--- 1.163111686706543 seconds ---\n"
     ]
    }
   ],
   "source": [
    "import time\n",
    "try:\n",
    "    \n",
    "    start_time = time.time()\n",
    "    patterns = fp_details.get_patterns(th_redundancy=0)\n",
    "    print(\"--- %s seconds ---\" % (time.time() - start_time))\n",
    "except MemoryError:\n",
    "    print(\"Memory limit exceeded!\")"
   ]
  },
  {
   "cell_type": "code",
   "execution_count": 29,
   "metadata": {},
   "outputs": [
    {
     "data": {
      "text/html": [
       "<div>\n",
       "<style scoped>\n",
       "    .dataframe tbody tr th:only-of-type {\n",
       "        vertical-align: middle;\n",
       "    }\n",
       "\n",
       "    .dataframe tbody tr th {\n",
       "        vertical-align: top;\n",
       "    }\n",
       "\n",
       "    .dataframe thead th {\n",
       "        text-align: right;\n",
       "    }\n",
       "</style>\n",
       "<table border=\"1\" class=\"dataframe\">\n",
       "  <thead>\n",
       "    <tr style=\"text-align: right;\">\n",
       "      <th></th>\n",
       "      <th>itemset</th>\n",
       "      <th>support</th>\n",
       "      <th>income</th>\n",
       "      <th>income_div</th>\n",
       "      <th>income_t</th>\n",
       "    </tr>\n",
       "  </thead>\n",
       "  <tbody>\n",
       "    <tr>\n",
       "      <th>138370</th>\n",
       "      <td>age=(34 - 51], mar=Married, occ=MED-Physicians, gender=Male, wkh&gt;40</td>\n",
       "      <td>0.001</td>\n",
       "      <td>434.18k</td>\n",
       "      <td>352.55k</td>\n",
       "      <td>16.9</td>\n",
       "    </tr>\n",
       "    <tr>\n",
       "      <th>186271</th>\n",
       "      <td>age&gt;51, COW=Empl-prv, occ=MGR-Chief Execs/Legislators, schl=Master, wkh&gt;40</td>\n",
       "      <td>0.000</td>\n",
       "      <td>427.16k</td>\n",
       "      <td>345.53k</td>\n",
       "      <td>15.3</td>\n",
       "    </tr>\n",
       "    <tr>\n",
       "      <th>146892</th>\n",
       "      <td>occ=MED-Physicians, eth=White, relp=Ref person, gender=Male, wkh&gt;40</td>\n",
       "      <td>0.001</td>\n",
       "      <td>424.95k</td>\n",
       "      <td>343.32k</td>\n",
       "      <td>14.5</td>\n",
       "    </tr>\n",
       "  </tbody>\n",
       "</table>\n",
       "</div>"
      ],
      "text/plain": [
       "                                                                           itemset  \\\n",
       "138370         age=(34 - 51], mar=Married, occ=MED-Physicians, gender=Male, wkh>40   \n",
       "186271  age>51, COW=Empl-prv, occ=MGR-Chief Execs/Legislators, schl=Master, wkh>40   \n",
       "146892         occ=MED-Physicians, eth=White, relp=Ref person, gender=Male, wkh>40   \n",
       "\n",
       "        support   income income_div  income_t  \n",
       "138370    0.001  434.18k    352.55k      16.9  \n",
       "186271    0.000  427.16k    345.53k      15.3  \n",
       "146892    0.001  424.95k    343.32k      14.5  "
      ]
     },
     "metadata": {},
     "output_type": "display_data"
    },
    {
     "name": "stdout",
     "output_type": "stream",
     "text": [
      "\\begin{tabular}{lrllr}\n",
      "\\toprule\n",
      "itemset & support & income & income_div & income_t \\\\\n",
      "\\midrule\n",
      "age=(34 - 51], mar=Married, occ=MED-Physicians, gender=Male, wkh>40 & 0.001000 & 434.18k & 352.55k & 16.900000 \\\\\n",
      "age>51, COW=Empl-prv, occ=MGR-Chief Execs/Legislators, schl=Master, wkh>40 & 0.000000 & 427.16k & 345.53k & 15.300000 \\\\\n",
      "occ=MED-Physicians, eth=White, relp=Ref person, gender=Male, wkh>40 & 0.001000 & 424.95k & 343.32k & 14.500000 \\\\\n",
      "\\bottomrule\n",
      "\\end{tabular}\n",
      "\n"
     ]
    }
   ],
   "source": [
    "subgroups_print = patterns[cols].sort_values(by=f\"{target_col}_div\", ascending=False).head(3).copy()\n",
    "subgroups_print = printable(subgroups_print, target_col, use_k = True, abbreviations=abbreviations)\n",
    "\n",
    "display(subgroups_print)\n",
    "\n",
    "print(subgroups_print.to_latex(index=False))"
   ]
  },
  {
   "cell_type": "code",
   "execution_count": 35,
   "metadata": {},
   "outputs": [
    {
     "data": {
      "text/html": [
       "<div>\n",
       "<style scoped>\n",
       "    .dataframe tbody tr th:only-of-type {\n",
       "        vertical-align: middle;\n",
       "    }\n",
       "\n",
       "    .dataframe tbody tr th {\n",
       "        vertical-align: top;\n",
       "    }\n",
       "\n",
       "    .dataframe thead th {\n",
       "        text-align: right;\n",
       "    }\n",
       "</style>\n",
       "<table border=\"1\" class=\"dataframe\">\n",
       "  <thead>\n",
       "    <tr style=\"text-align: right;\">\n",
       "      <th></th>\n",
       "      <th>itemset</th>\n",
       "      <th>support</th>\n",
       "      <th>income</th>\n",
       "      <th>income_div</th>\n",
       "      <th>income_t</th>\n",
       "    </tr>\n",
       "  </thead>\n",
       "  <tbody>\n",
       "    <tr>\n",
       "      <th>149035</th>\n",
       "      <td>cow=Empl-prv, occ=EAT-FastFood/Counter, pob=CA, relp=NonInst-GQ</td>\n",
       "      <td>0.001</td>\n",
       "      <td>4.93k</td>\n",
       "      <td>-76.69k</td>\n",
       "      <td>186.9</td>\n",
       "    </tr>\n",
       "    <tr>\n",
       "      <th>139748</th>\n",
       "      <td>occ=EAT-FastFood/Counter, pob=CA, relp=NonInst-GQ</td>\n",
       "      <td>0.001</td>\n",
       "      <td>5.05k</td>\n",
       "      <td>-76.58k</td>\n",
       "      <td>188.7</td>\n",
       "    </tr>\n",
       "    <tr>\n",
       "      <th>134478</th>\n",
       "      <td>age$\\le$ 34, occ=EAT-FastFood/Counter, relp=NonInst-GQ, gender=Female</td>\n",
       "      <td>0.001</td>\n",
       "      <td>5.18k</td>\n",
       "      <td>-76.45k</td>\n",
       "      <td>158.0</td>\n",
       "    </tr>\n",
       "  </tbody>\n",
       "</table>\n",
       "</div>"
      ],
      "text/plain": [
       "                                                                      itemset  \\\n",
       "149035        cow=Empl-prv, occ=EAT-FastFood/Counter, pob=CA, relp=NonInst-GQ   \n",
       "139748                      occ=EAT-FastFood/Counter, pob=CA, relp=NonInst-GQ   \n",
       "134478  age$\\le$ 34, occ=EAT-FastFood/Counter, relp=NonInst-GQ, gender=Female   \n",
       "\n",
       "        support income income_div  income_t  \n",
       "149035    0.001  4.93k    -76.69k     186.9  \n",
       "139748    0.001  5.05k    -76.58k     188.7  \n",
       "134478    0.001  5.18k    -76.45k     158.0  "
      ]
     },
     "metadata": {},
     "output_type": "display_data"
    },
    {
     "name": "stdout",
     "output_type": "stream",
     "text": [
      "\\begin{tabular}{lrllr}\n",
      "\\toprule\n",
      "itemset & support & income & income_div & income_t \\\\\n",
      "\\midrule\n",
      "cow=Empl-prv, occ=EAT-FastFood/Counter, pob=CA, relp=NonInst-GQ & 0.001000 & 4.93k & -76.69k & 186.900000 \\\\\n",
      "occ=EAT-FastFood/Counter, pob=CA, relp=NonInst-GQ & 0.001000 & 5.05k & -76.58k & 188.700000 \\\\\n",
      "age$\\le$ 34, occ=EAT-FastFood/Counter, relp=NonInst-GQ, gender=Female & 0.001000 & 5.18k & -76.45k & 158.000000 \\\\\n",
      "\\bottomrule\n",
      "\\end{tabular}\n",
      "\n"
     ]
    }
   ],
   "source": [
    "subgroups_print = patterns[cols].sort_values(by=f\"{target_col}_div\", ascending=True).head(3).copy()\n",
    "subgroups_print = printable(subgroups_print, target_col, use_k = True, abbreviations=abbreviations)\n",
    "\n",
    "display(subgroups_print)\n",
    "\n",
    "print(subgroups_print.to_latex(index=False))"
   ]
  },
  {
   "cell_type": "code",
   "execution_count": 38,
   "metadata": {},
   "outputs": [
    {
     "data": {
      "text/plain": [
       "np.float64(81.6292140631029)"
      ]
     },
     "execution_count": 38,
     "metadata": {},
     "output_type": "execute_result"
    }
   ],
   "source": [
    "patterns.loc[patterns['itemset']==frozenset()].iloc[0]['income']/1000"
   ]
  },
  {
   "cell_type": "code",
   "execution_count": 31,
   "metadata": {},
   "outputs": [],
   "source": [
    "# Redundancy"
   ]
  },
  {
   "cell_type": "code",
   "execution_count": null,
   "metadata": {},
   "outputs": [],
   "source": [
    "th_value = subgroups.loc[subgroups[\"itemset\"]==frozenset()][target_col].values[0]*0.01\n",
    "th_value = 5000"
   ]
  },
  {
   "cell_type": "code",
   "execution_count": null,
   "metadata": {},
   "outputs": [],
   "source": [
    "import time\n",
    "try:\n",
    "    \n",
    "    start_time = time.time()\n",
    "    red_patterns = fp_details.get_patterns(th_redundancy=th_value)\n",
    "    print(\"--- %s seconds ---\" % (time.time() - start_time))\n",
    "except MemoryError:\n",
    "    print(\"Memory limit exceeded!\")"
   ]
  },
  {
   "cell_type": "code",
   "execution_count": null,
   "metadata": {},
   "outputs": [],
   "source": [
    "subgroups_print = red_patterns[cols].sort_values(by=f\"{target_col}_div\", ascending=False).head(3).copy()\n",
    "subgroups_print = printable(subgroups_print, target_col, use_k = True, abbreviations=abbreviations)\n",
    "\n",
    "display(subgroups_print)\n",
    "\n",
    "print(subgroups_print.to_latex(index=False))"
   ]
  },
  {
   "cell_type": "code",
   "execution_count": null,
   "metadata": {},
   "outputs": [],
   "source": [
    "subgroups_print = red_patterns[cols].sort_values(by=f\"{target_col}_div\", ascending=True).head(3).copy()\n",
    "subgroups_print = printable(subgroups_print, target_col, use_k = True, abbreviations=abbreviations)\n",
    "\n",
    "display(subgroups_print)\n",
    "\n",
    "print(subgroups_print.to_latex(index=False))"
   ]
  },
  {
   "cell_type": "code",
   "execution_count": null,
   "metadata": {},
   "outputs": [],
   "source": [
    "subgroups.loc[subgroups['itemset']==frozenset()]"
   ]
  },
  {
   "cell_type": "markdown",
   "metadata": {},
   "source": [
    "# Gender - Attribute categorical divergence"
   ]
  },
  {
   "cell_type": "code",
   "execution_count": 39,
   "metadata": {},
   "outputs": [],
   "source": [
    "target_col = 'SEX'\n",
    "\n",
    "attributes = list(df.columns)\n",
    "df_discretized_all = discretize(df, attributes=attributes)  \n",
    "\n",
    "df_discretized_all[target_col] = df_discretized_all[target_col].apply(lambda x: 1 if x == 'Female' else 0)\n",
    "\n",
    "fp_diver = DivergenceExplorer(df_discretized_all)"
   ]
  },
  {
   "cell_type": "code",
   "execution_count": 40,
   "metadata": {},
   "outputs": [
    {
     "name": "stdout",
     "output_type": "stream",
     "text": [
      "--- 47.01238179206848 seconds ---\n"
     ]
    }
   ],
   "source": [
    "import time\n",
    "try:\n",
    "    start_time = time.time()\n",
    "    subgroups = fp_diver.get_pattern_divergence(min_support=min_support, boolean_outcomes=[target_col])\n",
    "    print(\"--- %s seconds ---\" % (time.time() - start_time))\n",
    "except MemoryError:\n",
    "    print(\"Memory limit exceeded!\")"
   ]
  },
  {
   "cell_type": "code",
   "execution_count": 41,
   "metadata": {},
   "outputs": [],
   "source": [
    "cols = ['itemset', 'support', target_col,  f\"{target_col}_div\", f\"{target_col}_t\"]"
   ]
  },
  {
   "cell_type": "code",
   "execution_count": 42,
   "metadata": {},
   "outputs": [
    {
     "name": "stdout",
     "output_type": "stream",
     "text": [
      "--- 1.140322208404541 seconds ---\n"
     ]
    }
   ],
   "source": [
    "from divexplorer import DivergencePatternProcessor\n",
    "\n",
    "\n",
    "fp_details = DivergencePatternProcessor(subgroups, target_col)\n",
    "\n",
    "import time\n",
    "try:\n",
    "    \n",
    "    start_time = time.time()\n",
    "    patterns = fp_details.get_patterns(th_redundancy=0)\n",
    "    print(\"--- %s seconds ---\" % (time.time() - start_time))\n",
    "except MemoryError:\n",
    "    print(\"Memory limit exceeded!\")\n"
   ]
  },
  {
   "cell_type": "code",
   "execution_count": 51,
   "metadata": {},
   "outputs": [
    {
     "data": {
      "text/html": [
       "<div>\n",
       "<style scoped>\n",
       "    .dataframe tbody tr th:only-of-type {\n",
       "        vertical-align: middle;\n",
       "    }\n",
       "\n",
       "    .dataframe tbody tr th {\n",
       "        vertical-align: top;\n",
       "    }\n",
       "\n",
       "    .dataframe thead th {\n",
       "        text-align: right;\n",
       "    }\n",
       "</style>\n",
       "<table border=\"1\" class=\"dataframe\">\n",
       "  <thead>\n",
       "    <tr style=\"text-align: right;\">\n",
       "      <th></th>\n",
       "      <th>itemset</th>\n",
       "      <th>support</th>\n",
       "      <th>SEX</th>\n",
       "      <th>SEX_div</th>\n",
       "      <th>SEX_t</th>\n",
       "    </tr>\n",
       "  </thead>\n",
       "  <tbody>\n",
       "    <tr>\n",
       "      <th>135129</th>\n",
       "      <td>occ=EDU-Preschool/Kinderg. Tchrs, relp=Opposite-sex-rel, income$\\le$ 33800</td>\n",
       "      <td>0.001</td>\n",
       "      <td>1.0</td>\n",
       "      <td>0.527243</td>\n",
       "      <td>70.9</td>\n",
       "    </tr>\n",
       "    <tr>\n",
       "      <th>151329</th>\n",
       "      <td>cow=Empl-prv, occ=EDU-Preschool/Kinderg. Tchrs, relp=Opposite-sex-rel</td>\n",
       "      <td>0.001</td>\n",
       "      <td>1.0</td>\n",
       "      <td>0.527243</td>\n",
       "      <td>63.8</td>\n",
       "    </tr>\n",
       "    <tr>\n",
       "      <th>158312</th>\n",
       "      <td>mar=Married, occ=PRS-Childcare Workers, eth=Two or More Races</td>\n",
       "      <td>0.001</td>\n",
       "      <td>1.0</td>\n",
       "      <td>0.527243</td>\n",
       "      <td>61.2</td>\n",
       "    </tr>\n",
       "  </tbody>\n",
       "</table>\n",
       "</div>"
      ],
      "text/plain": [
       "                                                                           itemset  \\\n",
       "135129  occ=EDU-Preschool/Kinderg. Tchrs, relp=Opposite-sex-rel, income$\\le$ 33800   \n",
       "151329       cow=Empl-prv, occ=EDU-Preschool/Kinderg. Tchrs, relp=Opposite-sex-rel   \n",
       "158312               mar=Married, occ=PRS-Childcare Workers, eth=Two or More Races   \n",
       "\n",
       "        support  SEX   SEX_div  SEX_t  \n",
       "135129    0.001  1.0  0.527243   70.9  \n",
       "151329    0.001  1.0  0.527243   63.8  \n",
       "158312    0.001  1.0  0.527243   61.2  "
      ]
     },
     "metadata": {},
     "output_type": "display_data"
    },
    {
     "name": "stdout",
     "output_type": "stream",
     "text": [
      "\\begin{tabular}{lrrrr}\n",
      "\\toprule\n",
      "itemset & support & SEX & SEX_div & SEX_t \\\\\n",
      "\\midrule\n",
      "occ=EDU-Preschool/Kinderg. Tchrs, relp=Opposite-sex-rel, income$\\le$ 33800 & 0.001000 & 1.000000 & 0.527243 & 70.900000 \\\\\n",
      "cow=Empl-prv, occ=EDU-Preschool/Kinderg. Tchrs, relp=Opposite-sex-rel & 0.001000 & 1.000000 & 0.527243 & 63.800000 \\\\\n",
      "mar=Married, occ=PRS-Childcare Workers, eth=Two or More Races & 0.001000 & 1.000000 & 0.527243 & 61.200000 \\\\\n",
      "\\bottomrule\n",
      "\\end{tabular}\n",
      "\n"
     ]
    }
   ],
   "source": [
    "subgroups_print = patterns[cols].sort_values(by=[f\"{target_col}_div\", f\"{target_col}_t\"], ascending=[False, False]).head(3).copy()\n",
    "subgroups_print = printable(subgroups_print, target_col, abbreviations=abbreviations)\n",
    "\n",
    "display(subgroups_print)\n",
    "\n",
    "print(subgroups_print.to_latex(index=False))"
   ]
  },
  {
   "cell_type": "code",
   "execution_count": 52,
   "metadata": {},
   "outputs": [
    {
     "data": {
      "text/html": [
       "<div>\n",
       "<style scoped>\n",
       "    .dataframe tbody tr th:only-of-type {\n",
       "        vertical-align: middle;\n",
       "    }\n",
       "\n",
       "    .dataframe tbody tr th {\n",
       "        vertical-align: top;\n",
       "    }\n",
       "\n",
       "    .dataframe thead th {\n",
       "        text-align: right;\n",
       "    }\n",
       "</style>\n",
       "<table border=\"1\" class=\"dataframe\">\n",
       "  <thead>\n",
       "    <tr style=\"text-align: right;\">\n",
       "      <th></th>\n",
       "      <th>itemset</th>\n",
       "      <th>support</th>\n",
       "      <th>SEX</th>\n",
       "      <th>SEX_div</th>\n",
       "      <th>SEX_t</th>\n",
       "    </tr>\n",
       "  </thead>\n",
       "  <tbody>\n",
       "    <tr>\n",
       "      <th>61133</th>\n",
       "      <td>cow=Empl-prv, occ=CON-Plumbers, Pipefitters, And Steamfitters, income=(33800 - 80000]</td>\n",
       "      <td>0.001</td>\n",
       "      <td>0.0</td>\n",
       "      <td>-0.472757</td>\n",
       "      <td>125.4</td>\n",
       "    </tr>\n",
       "    <tr>\n",
       "      <th>78823</th>\n",
       "      <td>age$\\le$ 34, occ=CON-Construction Laborers, wkh$\\le$ 40, income=(33800 - 80000]</td>\n",
       "      <td>0.001</td>\n",
       "      <td>0.0</td>\n",
       "      <td>-0.472757</td>\n",
       "      <td>101.4</td>\n",
       "    </tr>\n",
       "    <tr>\n",
       "      <th>79364</th>\n",
       "      <td>age$\\le$ 34, cow=Empl-prv, mar=Never married/&lt;15yrs, occ=CON-Construction Laborers, pob=CA, wkh$\\le$ 40</td>\n",
       "      <td>0.001</td>\n",
       "      <td>0.0</td>\n",
       "      <td>-0.472757</td>\n",
       "      <td>100.9</td>\n",
       "    </tr>\n",
       "  </tbody>\n",
       "</table>\n",
       "</div>"
      ],
      "text/plain": [
       "                                                                                                       itemset  \\\n",
       "61133                    cow=Empl-prv, occ=CON-Plumbers, Pipefitters, And Steamfitters, income=(33800 - 80000]   \n",
       "78823                          age$\\le$ 34, occ=CON-Construction Laborers, wkh$\\le$ 40, income=(33800 - 80000]   \n",
       "79364  age$\\le$ 34, cow=Empl-prv, mar=Never married/<15yrs, occ=CON-Construction Laborers, pob=CA, wkh$\\le$ 40   \n",
       "\n",
       "       support  SEX   SEX_div  SEX_t  \n",
       "61133    0.001  0.0 -0.472757  125.4  \n",
       "78823    0.001  0.0 -0.472757  101.4  \n",
       "79364    0.001  0.0 -0.472757  100.9  "
      ]
     },
     "metadata": {},
     "output_type": "display_data"
    },
    {
     "name": "stdout",
     "output_type": "stream",
     "text": [
      "\\begin{tabular}{lrrrr}\n",
      "\\toprule\n",
      "itemset & support & SEX & SEX_div & SEX_t \\\\\n",
      "\\midrule\n",
      "cow=Empl-prv, occ=CON-Plumbers, Pipefitters, And Steamfitters, income=(33800 - 80000] & 0.001000 & 0.000000 & -0.472757 & 125.400000 \\\\\n",
      "age$\\le$ 34, occ=CON-Construction Laborers, wkh$\\le$ 40, income=(33800 - 80000] & 0.001000 & 0.000000 & -0.472757 & 101.400000 \\\\\n",
      "age$\\le$ 34, cow=Empl-prv, mar=Never married/<15yrs, occ=CON-Construction Laborers, pob=CA, wkh$\\le$ 40 & 0.001000 & 0.000000 & -0.472757 & 100.900000 \\\\\n",
      "\\bottomrule\n",
      "\\end{tabular}\n",
      "\n"
     ]
    }
   ],
   "source": [
    "subgroups_print = patterns[cols].sort_values(by=[f\"{target_col}_div\", f\"{target_col}_t\"], ascending=[True, False]).head(3).copy()\n",
    "subgroups_print = printable(subgroups_print, target_col, use_k = False, abbreviations=abbreviations)\n",
    "\n",
    "display(subgroups_print)\n",
    "\n",
    "print(subgroups_print.to_latex(index=False))"
   ]
  },
  {
   "cell_type": "code",
   "execution_count": 45,
   "metadata": {},
   "outputs": [
    {
     "data": {
      "text/html": [
       "<div>\n",
       "<style scoped>\n",
       "    .dataframe tbody tr th:only-of-type {\n",
       "        vertical-align: middle;\n",
       "    }\n",
       "\n",
       "    .dataframe tbody tr th {\n",
       "        vertical-align: top;\n",
       "    }\n",
       "\n",
       "    .dataframe thead th {\n",
       "        text-align: right;\n",
       "    }\n",
       "</style>\n",
       "<table border=\"1\" class=\"dataframe\">\n",
       "  <thead>\n",
       "    <tr style=\"text-align: right;\">\n",
       "      <th></th>\n",
       "      <th>support</th>\n",
       "      <th>itemset</th>\n",
       "      <th>length</th>\n",
       "      <th>support_count</th>\n",
       "      <th>SEX</th>\n",
       "      <th>SEX_div</th>\n",
       "      <th>SEX_t</th>\n",
       "    </tr>\n",
       "  </thead>\n",
       "  <tbody>\n",
       "    <tr>\n",
       "      <th>0</th>\n",
       "      <td>1.0</td>\n",
       "      <td>()</td>\n",
       "      <td>0</td>\n",
       "      <td>202146.0</td>\n",
       "      <td>0.472757</td>\n",
       "      <td>0.0</td>\n",
       "      <td>0.0</td>\n",
       "    </tr>\n",
       "  </tbody>\n",
       "</table>\n",
       "</div>"
      ],
      "text/plain": [
       "   support itemset  length  support_count       SEX  SEX_div  SEX_t\n",
       "0      1.0      ()       0       202146.0  0.472757      0.0    0.0"
      ]
     },
     "execution_count": 45,
     "metadata": {},
     "output_type": "execute_result"
    }
   ],
   "source": [
    "patterns.loc[subgroups['itemset']==frozenset()]"
   ]
  }
 ],
 "metadata": {
  "kernelspec": {
   "display_name": "divexp",
   "language": "python",
   "name": "divexp"
  },
  "language_info": {
   "codemirror_mode": {
    "name": "ipython",
    "version": 3
   },
   "file_extension": ".py",
   "mimetype": "text/x-python",
   "name": "python",
   "nbconvert_exporter": "python",
   "pygments_lexer": "ipython3",
   "version": "3.13.0"
  }
 },
 "nbformat": 4,
 "nbformat_minor": 2
}
