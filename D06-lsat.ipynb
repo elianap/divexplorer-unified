{
 "cells": [
  {
   "cell_type": "code",
   "execution_count": 1,
   "metadata": {},
   "outputs": [],
   "source": [
    "%load_ext autoreload\n",
    "%autoreload 2"
   ]
  },
  {
   "cell_type": "code",
   "execution_count": 2,
   "metadata": {},
   "outputs": [],
   "source": [
    "import os\n",
    "import pandas as pd\n",
    "\n",
    "from utils_data import import_process_law\n",
    "from utils import discretize\n",
    "import numpy as np\n",
    "from divexplorer import DivergenceExplorer\n",
    "from sklearn.preprocessing import MinMaxScaler\n",
    "pd.set_option('display.max_colwidth', None)\n",
    "import time\n",
    "from divexplorer import DivergencePatternProcessor\n",
    "from utils import printable\n"
   ]
  },
  {
   "cell_type": "markdown",
   "metadata": {},
   "source": [
    "# Import law school dataset"
   ]
  },
  {
   "cell_type": "code",
   "execution_count": 3,
   "metadata": {},
   "outputs": [],
   "source": [
    "dataset_name = 'law'\n",
    "\n",
    "df, target_rank = import_process_law(use_rank_score = True)"
   ]
  },
  {
   "cell_type": "code",
   "execution_count": 4,
   "metadata": {},
   "outputs": [],
   "source": [
    "df = df.rename(columns={ \"race\": \"ethnicity\", \"sex\": \"gender\"})\n",
    "df = df.replace({ \"ethnicity\": { \"White\": \"Caucasian\", \"Black\": \"African-American\" }})"
   ]
  },
  {
   "cell_type": "code",
   "execution_count": 5,
   "metadata": {},
   "outputs": [],
   "source": [
    "abbreviations = {'race=White': 'ethnicity=Caucasian', 'race=Black': 'ethnicity=African-American', \\\n",
    "                 'sex':'gender', 'race': 'ethnicity', '=>=': '≥', '=>': '>', '=<=': '≤', '=<': '<'}"
   ]
  },
  {
   "cell_type": "markdown",
   "metadata": {},
   "source": [
    "# Scoring"
   ]
  },
  {
   "cell_type": "code",
   "execution_count": 6,
   "metadata": {},
   "outputs": [],
   "source": [
    "scaler = MinMaxScaler()\n",
    "attributes = ['ethnicity', 'gender']\n",
    "cols = ['LSAT', 'UGPA']\n",
    "df_scoring = df[attributes+cols].copy()\n",
    "df_scoring[cols] = scaler.fit_transform(df_scoring[cols])\n",
    "df_scoring['score'] = (df_scoring[cols[0]] + df_scoring[cols[1]])/2\n",
    "df_scoring = df_scoring.drop(columns=cols)\n",
    "target_col = 'score'"
   ]
  },
  {
   "cell_type": "markdown",
   "metadata": {},
   "source": [
    "## Scoring - Divergence analysis"
   ]
  },
  {
   "cell_type": "code",
   "execution_count": 7,
   "metadata": {},
   "outputs": [
    {
     "name": "stdout",
     "output_type": "stream",
     "text": [
      "min_support: 0.005\n"
     ]
    }
   ],
   "source": [
    "min_support_count = 100\n",
    "min_support = np.round(min_support_count/len(df_scoring), 3)\n",
    "print(f\"min_support: {min_support}\")"
   ]
  },
  {
   "cell_type": "code",
   "execution_count": 8,
   "metadata": {},
   "outputs": [
    {
     "name": "stdout",
     "output_type": "stream",
     "text": [
      "--- 0.06387186050415039 seconds ---\n"
     ]
    }
   ],
   "source": [
    "fp_diver = DivergenceExplorer(df_scoring)\n",
    "\n",
    "try:\n",
    "    start_time = time.time()\n",
    "    subgroups = fp_diver.get_pattern_divergence(min_support=min_support, quantitative_outcomes=[target_col])\n",
    "    print(\"--- %s seconds ---\" % (time.time() - start_time))\n",
    "except MemoryError:\n",
    "    print(\"Memory limit exceeded!\")"
   ]
  },
  {
   "cell_type": "code",
   "execution_count": 9,
   "metadata": {},
   "outputs": [
    {
     "name": "stdout",
     "output_type": "stream",
     "text": [
      "--- 0.0003418922424316406 seconds ---\n"
     ]
    }
   ],
   "source": [
    "fp_details = DivergencePatternProcessor(subgroups, target_col)\n",
    "\n",
    "try:\n",
    "    \n",
    "    start_time = time.time()\n",
    "    patterns = fp_details.get_patterns(th_redundancy=0)\n",
    "    print(\"--- %s seconds ---\" % (time.time() - start_time))\n",
    "except MemoryError:\n",
    "    print(\"Memory limit exceeded!\")"
   ]
  },
  {
   "cell_type": "code",
   "execution_count": 10,
   "metadata": {},
   "outputs": [
    {
     "data": {
      "text/html": [
       "<div>\n",
       "<style scoped>\n",
       "    .dataframe tbody tr th:only-of-type {\n",
       "        vertical-align: middle;\n",
       "    }\n",
       "\n",
       "    .dataframe tbody tr th {\n",
       "        vertical-align: top;\n",
       "    }\n",
       "\n",
       "    .dataframe thead th {\n",
       "        text-align: right;\n",
       "    }\n",
       "</style>\n",
       "<table border=\"1\" class=\"dataframe\">\n",
       "  <thead>\n",
       "    <tr style=\"text-align: right;\">\n",
       "      <th></th>\n",
       "      <th>itemset</th>\n",
       "      <th>support</th>\n",
       "      <th>score</th>\n",
       "      <th>score_div</th>\n",
       "      <th>score_t</th>\n",
       "    </tr>\n",
       "  </thead>\n",
       "  <tbody>\n",
       "    <tr>\n",
       "      <th>5</th>\n",
       "      <td>ethnicity=Caucasian, gender=Female</td>\n",
       "      <td>0.354</td>\n",
       "      <td>0.752</td>\n",
       "      <td>0.020</td>\n",
       "      <td>16.8</td>\n",
       "    </tr>\n",
       "    <tr>\n",
       "      <th>1</th>\n",
       "      <td>ethnicity=Caucasian</td>\n",
       "      <td>0.839</td>\n",
       "      <td>0.747</td>\n",
       "      <td>0.014</td>\n",
       "      <td>15.2</td>\n",
       "    </tr>\n",
       "    <tr>\n",
       "      <th>3</th>\n",
       "      <td>ethnicity=Caucasian, gender=Male</td>\n",
       "      <td>0.486</td>\n",
       "      <td>0.743</td>\n",
       "      <td>0.010</td>\n",
       "      <td>9.2</td>\n",
       "    </tr>\n",
       "    <tr>\n",
       "      <th>10</th>\n",
       "      <td>ethnicity=African-American, gender=Male</td>\n",
       "      <td>0.022</td>\n",
       "      <td>0.592</td>\n",
       "      <td>-0.140</td>\n",
       "      <td>31.1</td>\n",
       "    </tr>\n",
       "    <tr>\n",
       "      <th>6</th>\n",
       "      <td>ethnicity=African-American</td>\n",
       "      <td>0.059</td>\n",
       "      <td>0.593</td>\n",
       "      <td>-0.139</td>\n",
       "      <td>50.2</td>\n",
       "    </tr>\n",
       "    <tr>\n",
       "      <th>8</th>\n",
       "      <td>ethnicity=African-American, gender=Female</td>\n",
       "      <td>0.037</td>\n",
       "      <td>0.594</td>\n",
       "      <td>-0.138</td>\n",
       "      <td>40.3</td>\n",
       "    </tr>\n",
       "  </tbody>\n",
       "</table>\n",
       "</div>"
      ],
      "text/plain": [
       "                                      itemset  support  score  score_div  \\\n",
       "5          ethnicity=Caucasian, gender=Female    0.354  0.752      0.020   \n",
       "1                         ethnicity=Caucasian    0.839  0.747      0.014   \n",
       "3            ethnicity=Caucasian, gender=Male    0.486  0.743      0.010   \n",
       "10    ethnicity=African-American, gender=Male    0.022  0.592     -0.140   \n",
       "6                  ethnicity=African-American    0.059  0.593     -0.139   \n",
       "8   ethnicity=African-American, gender=Female    0.037  0.594     -0.138   \n",
       "\n",
       "    score_t  \n",
       "5      16.8  \n",
       "1      15.2  \n",
       "3       9.2  \n",
       "10     31.1  \n",
       "6      50.2  \n",
       "8      40.3  "
      ]
     },
     "metadata": {},
     "output_type": "display_data"
    },
    {
     "name": "stdout",
     "output_type": "stream",
     "text": [
      "\\begin{tabular}{lrrrr}\n",
      "\\toprule\n",
      "itemset & support & score & score_div & score_t \\\\\n",
      "\\midrule\n",
      "ethnicity=Caucasian, gender=Female & 0.354000 & 0.752000 & 0.020000 & 16.800000 \\\\\n",
      "ethnicity=Caucasian & 0.839000 & 0.747000 & 0.014000 & 15.200000 \\\\\n",
      "ethnicity=Caucasian, gender=Male & 0.486000 & 0.743000 & 0.010000 & 9.200000 \\\\\n",
      "ethnicity=African-American, gender=Male & 0.022000 & 0.592000 & -0.140000 & 31.100000 \\\\\n",
      "ethnicity=African-American & 0.059000 & 0.593000 & -0.139000 & 50.200000 \\\\\n",
      "ethnicity=African-American, gender=Female & 0.037000 & 0.594000 & -0.138000 & 40.300000 \\\\\n",
      "\\bottomrule\n",
      "\\end{tabular}\n",
      "\n"
     ]
    }
   ],
   "source": [
    "cols = ['itemset', 'support', target_col, f\"{target_col}_div\", f\"{target_col}_t\"]\n",
    "\n",
    "idx_top = patterns[cols].sort_values(by=[f\"{target_col}_div\", f\"{target_col}_t\"], ascending=[False, False]).head(3).index.tolist()\n",
    "idx_bot = patterns[cols].sort_values(by=[f\"{target_col}_div\", f\"{target_col}_t\"], ascending=[True, False]).head(3).index.tolist()\n",
    "\n",
    "subgroups_print = printable(patterns[cols].loc[idx_top+idx_bot], target_col, abbreviations=abbreviations, round_v = 3)\n",
    "\n",
    "display(subgroups_print)\n",
    "\n",
    "print(subgroups_print.to_latex(index=False))\n"
   ]
  },
  {
   "cell_type": "code",
   "execution_count": 11,
   "metadata": {},
   "outputs": [
    {
     "data": {
      "text/plain": [
       "0.732"
      ]
     },
     "execution_count": 11,
     "metadata": {},
     "output_type": "execute_result"
    }
   ],
   "source": [
    "patterns.loc[patterns['itemset']==frozenset()].iloc[0][target_col].round(3)"
   ]
  },
  {
   "cell_type": "markdown",
   "metadata": {},
   "source": [
    "# Ranking"
   ]
  },
  {
   "cell_type": "code",
   "execution_count": 12,
   "metadata": {},
   "outputs": [
    {
     "data": {
      "text/html": [
       "<div>\n",
       "<style scoped>\n",
       "    .dataframe tbody tr th:only-of-type {\n",
       "        vertical-align: middle;\n",
       "    }\n",
       "\n",
       "    .dataframe tbody tr th {\n",
       "        vertical-align: top;\n",
       "    }\n",
       "\n",
       "    .dataframe thead th {\n",
       "        text-align: right;\n",
       "    }\n",
       "</style>\n",
       "<table border=\"1\" class=\"dataframe\">\n",
       "  <thead>\n",
       "    <tr style=\"text-align: right;\">\n",
       "      <th></th>\n",
       "      <th>ethnicity</th>\n",
       "      <th>gender</th>\n",
       "      <th>LSAT</th>\n",
       "      <th>UGPA</th>\n",
       "      <th>score_rank</th>\n",
       "    </tr>\n",
       "  </thead>\n",
       "  <tbody>\n",
       "    <tr>\n",
       "      <th>0</th>\n",
       "      <td>Caucasian</td>\n",
       "      <td>Male</td>\n",
       "      <td>37.5</td>\n",
       "      <td>4.0</td>\n",
       "      <td>1.000000</td>\n",
       "    </tr>\n",
       "    <tr>\n",
       "      <th>1</th>\n",
       "      <td>Caucasian</td>\n",
       "      <td>Male</td>\n",
       "      <td>36.0</td>\n",
       "      <td>3.0</td>\n",
       "      <td>0.933033</td>\n",
       "    </tr>\n",
       "    <tr>\n",
       "      <th>2</th>\n",
       "      <td>Caucasian</td>\n",
       "      <td>Male</td>\n",
       "      <td>44.0</td>\n",
       "      <td>4.0</td>\n",
       "      <td>0.895958</td>\n",
       "    </tr>\n",
       "    <tr>\n",
       "      <th>3</th>\n",
       "      <td>Caucasian</td>\n",
       "      <td>Male</td>\n",
       "      <td>40.0</td>\n",
       "      <td>2.8</td>\n",
       "      <td>0.870551</td>\n",
       "    </tr>\n",
       "    <tr>\n",
       "      <th>4</th>\n",
       "      <td>Caucasian</td>\n",
       "      <td>Female</td>\n",
       "      <td>44.0</td>\n",
       "      <td>3.8</td>\n",
       "      <td>0.851340</td>\n",
       "    </tr>\n",
       "  </tbody>\n",
       "</table>\n",
       "</div>"
      ],
      "text/plain": [
       "   ethnicity  gender  LSAT  UGPA  score_rank\n",
       "0  Caucasian    Male  37.5   4.0    1.000000\n",
       "1  Caucasian    Male  36.0   3.0    0.933033\n",
       "2  Caucasian    Male  44.0   4.0    0.895958\n",
       "3  Caucasian    Male  40.0   2.8    0.870551\n",
       "4  Caucasian  Female  44.0   3.8    0.851340"
      ]
     },
     "execution_count": 12,
     "metadata": {},
     "output_type": "execute_result"
    }
   ],
   "source": [
    "df.head()"
   ]
  },
  {
   "cell_type": "code",
   "execution_count": 13,
   "metadata": {},
   "outputs": [],
   "source": [
    "attributes = df.columns.drop(target_rank)\n",
    "\n",
    "df_ranking_discretized = discretize(df, attributes=attributes, dataset_name=dataset_name, bins=4)\n",
    "\n",
    "target_col = target_rank"
   ]
  },
  {
   "cell_type": "code",
   "execution_count": 14,
   "metadata": {},
   "outputs": [
    {
     "data": {
      "text/html": [
       "<div>\n",
       "<style scoped>\n",
       "    .dataframe tbody tr th:only-of-type {\n",
       "        vertical-align: middle;\n",
       "    }\n",
       "\n",
       "    .dataframe tbody tr th {\n",
       "        vertical-align: top;\n",
       "    }\n",
       "\n",
       "    .dataframe thead th {\n",
       "        text-align: right;\n",
       "    }\n",
       "</style>\n",
       "<table border=\"1\" class=\"dataframe\">\n",
       "  <thead>\n",
       "    <tr style=\"text-align: right;\">\n",
       "      <th></th>\n",
       "      <th>ethnicity</th>\n",
       "      <th>gender</th>\n",
       "      <th>LSAT</th>\n",
       "      <th>UGPA</th>\n",
       "      <th>score_rank</th>\n",
       "    </tr>\n",
       "  </thead>\n",
       "  <tbody>\n",
       "    <tr>\n",
       "      <th>0</th>\n",
       "      <td>Caucasian</td>\n",
       "      <td>Male</td>\n",
       "      <td>(37.0-41.0]</td>\n",
       "      <td>&gt;3.5</td>\n",
       "      <td>1.000000</td>\n",
       "    </tr>\n",
       "    <tr>\n",
       "      <th>1</th>\n",
       "      <td>Caucasian</td>\n",
       "      <td>Male</td>\n",
       "      <td>(33.0-37.0]</td>\n",
       "      <td>&lt;=3.0</td>\n",
       "      <td>0.933033</td>\n",
       "    </tr>\n",
       "    <tr>\n",
       "      <th>2</th>\n",
       "      <td>Caucasian</td>\n",
       "      <td>Male</td>\n",
       "      <td>&gt;41.0</td>\n",
       "      <td>&gt;3.5</td>\n",
       "      <td>0.895958</td>\n",
       "    </tr>\n",
       "    <tr>\n",
       "      <th>3</th>\n",
       "      <td>Caucasian</td>\n",
       "      <td>Male</td>\n",
       "      <td>(37.0-41.0]</td>\n",
       "      <td>&lt;=3.0</td>\n",
       "      <td>0.870551</td>\n",
       "    </tr>\n",
       "    <tr>\n",
       "      <th>4</th>\n",
       "      <td>Caucasian</td>\n",
       "      <td>Female</td>\n",
       "      <td>&gt;41.0</td>\n",
       "      <td>&gt;3.5</td>\n",
       "      <td>0.851340</td>\n",
       "    </tr>\n",
       "  </tbody>\n",
       "</table>\n",
       "</div>"
      ],
      "text/plain": [
       "   ethnicity  gender         LSAT   UGPA  score_rank\n",
       "0  Caucasian    Male  (37.0-41.0]   >3.5    1.000000\n",
       "1  Caucasian    Male  (33.0-37.0]  <=3.0    0.933033\n",
       "2  Caucasian    Male        >41.0   >3.5    0.895958\n",
       "3  Caucasian    Male  (37.0-41.0]  <=3.0    0.870551\n",
       "4  Caucasian  Female        >41.0   >3.5    0.851340"
      ]
     },
     "execution_count": 14,
     "metadata": {},
     "output_type": "execute_result"
    }
   ],
   "source": [
    "df_ranking_discretized.head()"
   ]
  },
  {
   "cell_type": "markdown",
   "metadata": {},
   "source": [
    "## Ranking - Divergence analysis"
   ]
  },
  {
   "cell_type": "code",
   "execution_count": 15,
   "metadata": {},
   "outputs": [
    {
     "name": "stdout",
     "output_type": "stream",
     "text": [
      "min_support: 0.005\n"
     ]
    }
   ],
   "source": [
    "min_support_count = 100\n",
    "min_support = np.round(min_support_count/len(df_scoring), 3)\n",
    "print(f\"min_support: {min_support}\")"
   ]
  },
  {
   "cell_type": "code",
   "execution_count": 16,
   "metadata": {},
   "outputs": [
    {
     "name": "stdout",
     "output_type": "stream",
     "text": [
      "--- 0.09620904922485352 seconds ---\n"
     ]
    }
   ],
   "source": [
    "fp_diver = DivergenceExplorer(df_ranking_discretized)\n",
    "\n",
    "try:\n",
    "    start_time = time.time()\n",
    "    subgroups = fp_diver.get_pattern_divergence(min_support=min_support, quantitative_outcomes=[target_col])\n",
    "    print(\"--- %s seconds ---\" % (time.time() - start_time))\n",
    "except MemoryError:\n",
    "    print(\"Memory limit exceeded!\")"
   ]
  },
  {
   "cell_type": "code",
   "execution_count": 17,
   "metadata": {},
   "outputs": [
    {
     "name": "stdout",
     "output_type": "stream",
     "text": [
      "--- 0.0005519390106201172 seconds ---\n"
     ]
    }
   ],
   "source": [
    "fp_details = DivergencePatternProcessor(subgroups, target_col)\n",
    "\n",
    "try:\n",
    "    \n",
    "    start_time = time.time()\n",
    "    patterns = fp_details.get_patterns(th_redundancy=0)\n",
    "    print(\"--- %s seconds ---\" % (time.time() - start_time))\n",
    "except MemoryError:\n",
    "    print(\"Memory limit exceeded!\")"
   ]
  },
  {
   "cell_type": "code",
   "execution_count": 18,
   "metadata": {},
   "outputs": [
    {
     "data": {
      "text/html": [
       "<div>\n",
       "<style scoped>\n",
       "    .dataframe tbody tr th:only-of-type {\n",
       "        vertical-align: middle;\n",
       "    }\n",
       "\n",
       "    .dataframe tbody tr th {\n",
       "        vertical-align: top;\n",
       "    }\n",
       "\n",
       "    .dataframe thead th {\n",
       "        text-align: right;\n",
       "    }\n",
       "</style>\n",
       "<table border=\"1\" class=\"dataframe\">\n",
       "  <thead>\n",
       "    <tr style=\"text-align: right;\">\n",
       "      <th></th>\n",
       "      <th>itemset</th>\n",
       "      <th>support</th>\n",
       "      <th>score_rank</th>\n",
       "      <th>score_rank_div</th>\n",
       "      <th>score_rank_t</th>\n",
       "    </tr>\n",
       "  </thead>\n",
       "  <tbody>\n",
       "    <tr>\n",
       "      <th>114</th>\n",
       "      <td>LSAT&gt;41.0, UGPA&gt;3.5, ethnicity=Caucasian, gender=Female</td>\n",
       "      <td>0.030</td>\n",
       "      <td>0.430</td>\n",
       "      <td>0.021</td>\n",
       "      <td>8.7</td>\n",
       "    </tr>\n",
       "    <tr>\n",
       "      <th>61</th>\n",
       "      <td>LSAT&gt;41.0, UGPA&gt;3.5, ethnicity=Caucasian</td>\n",
       "      <td>0.071</td>\n",
       "      <td>0.429</td>\n",
       "      <td>0.020</td>\n",
       "      <td>13.0</td>\n",
       "    </tr>\n",
       "    <tr>\n",
       "      <th>87</th>\n",
       "      <td>LSAT&gt;41.0, UGPA&gt;3.5, ethnicity=Caucasian, gender=Male</td>\n",
       "      <td>0.041</td>\n",
       "      <td>0.428</td>\n",
       "      <td>0.019</td>\n",
       "      <td>9.9</td>\n",
       "    </tr>\n",
       "    <tr>\n",
       "      <th>155</th>\n",
       "      <td>LSAT≤33.0, ethnicity=African-American, gender=Male</td>\n",
       "      <td>0.016</td>\n",
       "      <td>0.381</td>\n",
       "      <td>-0.028</td>\n",
       "      <td>25.6</td>\n",
       "    </tr>\n",
       "    <tr>\n",
       "      <th>169</th>\n",
       "      <td>LSAT≤33.0, UGPA≤3.0, ethnicity=African-American, gender=Male</td>\n",
       "      <td>0.012</td>\n",
       "      <td>0.381</td>\n",
       "      <td>-0.028</td>\n",
       "      <td>21.0</td>\n",
       "    </tr>\n",
       "    <tr>\n",
       "      <th>116</th>\n",
       "      <td>LSAT≤33.0, UGPA≤3.0, ethnicity=African-American</td>\n",
       "      <td>0.029</td>\n",
       "      <td>0.381</td>\n",
       "      <td>-0.028</td>\n",
       "      <td>31.4</td>\n",
       "    </tr>\n",
       "  </tbody>\n",
       "</table>\n",
       "</div>"
      ],
      "text/plain": [
       "                                                          itemset  support  \\\n",
       "114       LSAT>41.0, UGPA>3.5, ethnicity=Caucasian, gender=Female    0.030   \n",
       "61                       LSAT>41.0, UGPA>3.5, ethnicity=Caucasian    0.071   \n",
       "87          LSAT>41.0, UGPA>3.5, ethnicity=Caucasian, gender=Male    0.041   \n",
       "155            LSAT≤33.0, ethnicity=African-American, gender=Male    0.016   \n",
       "169  LSAT≤33.0, UGPA≤3.0, ethnicity=African-American, gender=Male    0.012   \n",
       "116               LSAT≤33.0, UGPA≤3.0, ethnicity=African-American    0.029   \n",
       "\n",
       "     score_rank  score_rank_div  score_rank_t  \n",
       "114       0.430           0.021           8.7  \n",
       "61        0.429           0.020          13.0  \n",
       "87        0.428           0.019           9.9  \n",
       "155       0.381          -0.028          25.6  \n",
       "169       0.381          -0.028          21.0  \n",
       "116       0.381          -0.028          31.4  "
      ]
     },
     "metadata": {},
     "output_type": "display_data"
    },
    {
     "name": "stdout",
     "output_type": "stream",
     "text": [
      "\\begin{tabular}{lrrrr}\n",
      "\\toprule\n",
      "itemset & support & score_rank & score_rank_div & score_rank_t \\\\\n",
      "\\midrule\n",
      "LSAT>41.0, UGPA>3.5, ethnicity=Caucasian, gender=Female & 0.030000 & 0.430000 & 0.021000 & 8.700000 \\\\\n",
      "LSAT>41.0, UGPA>3.5, ethnicity=Caucasian & 0.071000 & 0.429000 & 0.020000 & 13.000000 \\\\\n",
      "LSAT>41.0, UGPA>3.5, ethnicity=Caucasian, gender=Male & 0.041000 & 0.428000 & 0.019000 & 9.900000 \\\\\n",
      "LSAT≤33.0, ethnicity=African-American, gender=Male & 0.016000 & 0.381000 & -0.028000 & 25.600000 \\\\\n",
      "LSAT≤33.0, UGPA≤3.0, ethnicity=African-American, gender=Male & 0.012000 & 0.381000 & -0.028000 & 21.000000 \\\\\n",
      "LSAT≤33.0, UGPA≤3.0, ethnicity=African-American & 0.029000 & 0.381000 & -0.028000 & 31.400000 \\\\\n",
      "\\bottomrule\n",
      "\\end{tabular}\n",
      "\n"
     ]
    }
   ],
   "source": [
    "cols = ['itemset', 'support', target_col, f\"{target_col}_div\", f\"{target_col}_t\"]\n",
    "\n",
    "idx_top = patterns[cols].sort_values(by=[f\"{target_col}_div\", f\"{target_col}_t\"], ascending=[False, False]).head(3).index.tolist()\n",
    "idx_bot = patterns[cols].sort_values(by=[f\"{target_col}_div\", f\"{target_col}_t\"], ascending=[True, False]).head(3).index.tolist()\n",
    "\n",
    "subgroups_print = printable(patterns[cols].loc[idx_top+idx_bot], target_col, abbreviations=abbreviations, round_v = 3)\n",
    "\n",
    "display(subgroups_print)\n",
    "\n",
    "print(subgroups_print.to_latex(index=False))\n"
   ]
  },
  {
   "cell_type": "code",
   "execution_count": 19,
   "metadata": {},
   "outputs": [
    {
     "data": {
      "text/plain": [
       "0.409"
      ]
     },
     "execution_count": 19,
     "metadata": {},
     "output_type": "execute_result"
    }
   ],
   "source": [
    "patterns.loc[patterns['itemset']==frozenset()].iloc[0][target_col].round(3)"
   ]
  },
  {
   "cell_type": "markdown",
   "metadata": {},
   "source": [
    "## Redundancy pruning"
   ]
  },
  {
   "cell_type": "code",
   "execution_count": 20,
   "metadata": {},
   "outputs": [],
   "source": [
    "epsilon = 0.0015"
   ]
  },
  {
   "cell_type": "code",
   "execution_count": 21,
   "metadata": {},
   "outputs": [
    {
     "name": "stdout",
     "output_type": "stream",
     "text": [
      "--- 0.0005669593811035156 seconds ---\n"
     ]
    }
   ],
   "source": [
    "fp_details = DivergencePatternProcessor(subgroups, target_col)\n",
    "\n",
    "try:\n",
    "    \n",
    "    start_time = time.time()\n",
    "    patterns = fp_details.get_patterns(th_redundancy=epsilon)\n",
    "    print(\"--- %s seconds ---\" % (time.time() - start_time))\n",
    "except MemoryError:\n",
    "    print(\"Memory limit exceeded!\")"
   ]
  },
  {
   "cell_type": "code",
   "execution_count": 22,
   "metadata": {},
   "outputs": [
    {
     "data": {
      "text/html": [
       "<div>\n",
       "<style scoped>\n",
       "    .dataframe tbody tr th:only-of-type {\n",
       "        vertical-align: middle;\n",
       "    }\n",
       "\n",
       "    .dataframe tbody tr th {\n",
       "        vertical-align: top;\n",
       "    }\n",
       "\n",
       "    .dataframe thead th {\n",
       "        text-align: right;\n",
       "    }\n",
       "</style>\n",
       "<table border=\"1\" class=\"dataframe\">\n",
       "  <thead>\n",
       "    <tr style=\"text-align: right;\">\n",
       "      <th></th>\n",
       "      <th>itemset</th>\n",
       "      <th>support</th>\n",
       "      <th>score_rank</th>\n",
       "      <th>score_rank_div</th>\n",
       "      <th>score_rank_t</th>\n",
       "    </tr>\n",
       "  </thead>\n",
       "  <tbody>\n",
       "    <tr>\n",
       "      <th>54</th>\n",
       "      <td>LSAT&gt;41.0, UGPA&gt;3.5</td>\n",
       "      <td>0.076</td>\n",
       "      <td>0.427</td>\n",
       "      <td>0.018</td>\n",
       "      <td>12.6</td>\n",
       "    </tr>\n",
       "    <tr>\n",
       "      <th>66</th>\n",
       "      <td>LSAT=(37.0-41.0], UGPA&gt;3.5, ethnicity=Caucasian</td>\n",
       "      <td>0.065</td>\n",
       "      <td>0.425</td>\n",
       "      <td>0.015</td>\n",
       "      <td>10.2</td>\n",
       "    </tr>\n",
       "    <tr>\n",
       "      <th>18</th>\n",
       "      <td>LSAT&gt;41.0</td>\n",
       "      <td>0.199</td>\n",
       "      <td>0.423</td>\n",
       "      <td>0.013</td>\n",
       "      <td>15.3</td>\n",
       "    </tr>\n",
       "    <tr>\n",
       "      <th>81</th>\n",
       "      <td>LSAT≤33.0, ethnicity=African-American</td>\n",
       "      <td>0.045</td>\n",
       "      <td>0.381</td>\n",
       "      <td>-0.028</td>\n",
       "      <td>37.1</td>\n",
       "    </tr>\n",
       "    <tr>\n",
       "      <th>70</th>\n",
       "      <td>ethnicity=African-American</td>\n",
       "      <td>0.059</td>\n",
       "      <td>0.383</td>\n",
       "      <td>-0.026</td>\n",
       "      <td>32.9</td>\n",
       "    </tr>\n",
       "    <tr>\n",
       "      <th>191</th>\n",
       "      <td>LSAT≤33.0, ethnicity=Asian, gender=Female</td>\n",
       "      <td>0.006</td>\n",
       "      <td>0.385</td>\n",
       "      <td>-0.025</td>\n",
       "      <td>16.2</td>\n",
       "    </tr>\n",
       "  </tbody>\n",
       "</table>\n",
       "</div>"
      ],
      "text/plain": [
       "                                             itemset  support  score_rank  \\\n",
       "54                               LSAT>41.0, UGPA>3.5    0.076       0.427   \n",
       "66   LSAT=(37.0-41.0], UGPA>3.5, ethnicity=Caucasian    0.065       0.425   \n",
       "18                                         LSAT>41.0    0.199       0.423   \n",
       "81             LSAT≤33.0, ethnicity=African-American    0.045       0.381   \n",
       "70                        ethnicity=African-American    0.059       0.383   \n",
       "191        LSAT≤33.0, ethnicity=Asian, gender=Female    0.006       0.385   \n",
       "\n",
       "     score_rank_div  score_rank_t  \n",
       "54            0.018          12.6  \n",
       "66            0.015          10.2  \n",
       "18            0.013          15.3  \n",
       "81           -0.028          37.1  \n",
       "70           -0.026          32.9  \n",
       "191          -0.025          16.2  "
      ]
     },
     "metadata": {},
     "output_type": "display_data"
    },
    {
     "name": "stdout",
     "output_type": "stream",
     "text": [
      "\\begin{tabular}{lrrrr}\n",
      "\\toprule\n",
      "itemset & support & score_rank & score_rank_div & score_rank_t \\\\\n",
      "\\midrule\n",
      "LSAT>41.0, UGPA>3.5 & 0.076000 & 0.427000 & 0.018000 & 12.600000 \\\\\n",
      "LSAT=(37.0-41.0], UGPA>3.5, ethnicity=Caucasian & 0.065000 & 0.425000 & 0.015000 & 10.200000 \\\\\n",
      "LSAT>41.0 & 0.199000 & 0.423000 & 0.013000 & 15.300000 \\\\\n",
      "LSAT≤33.0, ethnicity=African-American & 0.045000 & 0.381000 & -0.028000 & 37.100000 \\\\\n",
      "ethnicity=African-American & 0.059000 & 0.383000 & -0.026000 & 32.900000 \\\\\n",
      "LSAT≤33.0, ethnicity=Asian, gender=Female & 0.006000 & 0.385000 & -0.025000 & 16.200000 \\\\\n",
      "\\bottomrule\n",
      "\\end{tabular}\n",
      "\n"
     ]
    }
   ],
   "source": [
    "cols = ['itemset', 'support', target_col, f\"{target_col}_div\", f\"{target_col}_t\"]\n",
    "\n",
    "idx_top = patterns[cols].sort_values(by=[f\"{target_col}_div\", f\"{target_col}_t\"], ascending=[False, False]).head(3).index.tolist()\n",
    "idx_bot = patterns[cols].sort_values(by=[f\"{target_col}_div\", f\"{target_col}_t\"], ascending=[True, False]).head(3).index.tolist()\n",
    "\n",
    "subgroups_print = printable(patterns[cols].loc[idx_top+idx_bot], target_col, abbreviations=abbreviations, round_v = 3)\n",
    "\n",
    "display(subgroups_print)\n",
    "\n",
    "print(subgroups_print.to_latex(index=False))\n"
   ]
  },
  {
   "cell_type": "code",
   "execution_count": 23,
   "metadata": {},
   "outputs": [
    {
     "data": {
      "text/plain": [
       "(frozenset({'LSAT=>41.0',\n",
       "            'UGPA=>3.5',\n",
       "            'ethnicity=Caucasian',\n",
       "            'gender=Female'}),\n",
       " frozenset({'LSAT=<=33.0', 'ethnicity=African-American', 'gender=Male'}))"
      ]
     },
     "execution_count": 23,
     "metadata": {},
     "output_type": "execute_result"
    }
   ],
   "source": [
    "patterns = fp_details.get_patterns(th_redundancy=0)\n",
    "itemset_top, itemset_bot = tuple(patterns.sort_values(by=[f\"{target_col}_div\", f\"{target_col}_t\"], ascending=[False, False]).iloc[[0,-1]].itemset.values)\n",
    "itemset_top, itemset_bot"
   ]
  },
  {
   "cell_type": "markdown",
   "metadata": {},
   "source": [
    "## Plot top"
   ]
  },
  {
   "cell_type": "code",
   "execution_count": 24,
   "metadata": {},
   "outputs": [],
   "source": [
    "shapley_values_top = fp_details.shapley_value(itemset_top)\n",
    "shapley_values_bot = fp_details.shapley_value(itemset_bot)\n",
    "\n",
    "shapley_values_top = dict(sorted(shapley_values_top.items(), key=lambda item: item[1], reverse=False))\n",
    "shapley_values_bot = dict(sorted(shapley_values_bot.items(), key=lambda item: item[1], reverse=False))\n",
    "\n",
    "from utils import abbreviate_dict\n",
    "shapley_values_top = abbreviate_dict(shapley_values_top, abbreviations)\n",
    "shapley_values_bot = abbreviate_dict(shapley_values_bot, abbreviations)"
   ]
  },
  {
   "cell_type": "code",
   "execution_count": 25,
   "metadata": {},
   "outputs": [
    {
     "data": {
      "text/plain": [
       "{frozenset({'ethnicity=African-American'}): -0.021127139285684333,\n",
       " frozenset({'LSAT≤33.0'}): -0.0074855763098172845,\n",
       " frozenset({'gender=Male'}): 0.0003056753825177634}"
      ]
     },
     "execution_count": 25,
     "metadata": {},
     "output_type": "execute_result"
    }
   ],
   "source": [
    "shapley_values_bot"
   ]
  },
  {
   "cell_type": "code",
   "execution_count": 26,
   "metadata": {},
   "outputs": [
    {
     "data": {
      "image/png": "[encoded data removed]",
      "text/plain": [
       "<Figure size 700x230 with 2 Axes>"
      ]
     },
     "metadata": {},
     "output_type": "display_data"
    }
   ],
   "source": [
    "from utils import plot_comparison_ShapleyValues\n",
    "\n",
    "\n",
    "plot_comparison_ShapleyValues(shapley_values_top, shapley_values_bot,\n",
    "    size_fig=(7, 2.3),\n",
    "    shared_items=False,\n",
    "    save_fig=True,\n",
    "    name_fig='law_students_ranking_shap_AVGRANK_0.005_gamma_0-1_top_last',\n",
    "    labelsize=9,\n",
    "    subcaption=True,\n",
    ")"
   ]
  },
  {
   "cell_type": "markdown",
   "metadata": {},
   "source": [
    "## Corrective"
   ]
  },
  {
   "cell_type": "code",
   "execution_count": 27,
   "metadata": {},
   "outputs": [],
   "source": [
    "correctives = []\n",
    "\n",
    "dict_len_itemsets = fp_details.dict_len_pattern_divergence\n",
    "for len_itemset in dict_len_itemsets.keys():\n",
    "    if len_itemset < 2:\n",
    "        continue\n",
    "    for itemset in dict_len_itemsets[len_itemset]:\n",
    "        itemset_divergence = dict_len_itemsets[len_itemset][itemset]\n",
    "        for item in itemset:\n",
    "            subset = itemset - frozenset([item])\n",
    "            subset_divergence = dict_len_itemsets[len_itemset-1][subset]\n",
    "            corr_f =  abs(subset_divergence) - abs(itemset_divergence) \n",
    "            correctives.append([len_itemset, itemset, item, subset, itemset_divergence, subset_divergence, corr_f])"
   ]
  },
  {
   "cell_type": "code",
   "execution_count": 28,
   "metadata": {},
   "outputs": [],
   "source": [
    "df_corr = pd.DataFrame(correctives, columns=['len_itemset', 'itemset', 'item', 'subset', 'itemset_divergence', 'subset_divergence', 'corr_f'])\n",
    "df_corr = df_corr.loc[df_corr['corr_f'] > 0]"
   ]
  },
  {
   "cell_type": "code",
   "execution_count": 29,
   "metadata": {},
   "outputs": [
    {
     "data": {
      "text/html": [
       "<div>\n",
       "<style scoped>\n",
       "    .dataframe tbody tr th:only-of-type {\n",
       "        vertical-align: middle;\n",
       "    }\n",
       "\n",
       "    .dataframe tbody tr th {\n",
       "        vertical-align: top;\n",
       "    }\n",
       "\n",
       "    .dataframe thead th {\n",
       "        text-align: right;\n",
       "    }\n",
       "</style>\n",
       "<table border=\"1\" class=\"dataframe\">\n",
       "  <thead>\n",
       "    <tr style=\"text-align: right;\">\n",
       "      <th></th>\n",
       "      <th>item</th>\n",
       "      <th>subset</th>\n",
       "      <th>subset_divergence</th>\n",
       "      <th>itemset_divergence</th>\n",
       "      <th>corr_f</th>\n",
       "    </tr>\n",
       "  </thead>\n",
       "  <tbody>\n",
       "    <tr>\n",
       "      <th>500</th>\n",
       "      <td>LSAT≤33.0</td>\n",
       "      <td>UGPA&gt;3.5, ethnicity=Caucasian, gender=Female</td>\n",
       "      <td>0.014</td>\n",
       "      <td>0.000</td>\n",
       "      <td>0.013</td>\n",
       "    </tr>\n",
       "    <tr>\n",
       "      <th>276</th>\n",
       "      <td>LSAT≤33.0</td>\n",
       "      <td>UGPA&gt;3.5, ethnicity=Caucasian</td>\n",
       "      <td>0.013</td>\n",
       "      <td>0.001</td>\n",
       "      <td>0.012</td>\n",
       "    </tr>\n",
       "    <tr>\n",
       "      <th>314</th>\n",
       "      <td>UGPA&gt;3.5</td>\n",
       "      <td>LSAT≤33.0, gender=Female</td>\n",
       "      <td>-0.015</td>\n",
       "      <td>-0.004</td>\n",
       "      <td>0.010</td>\n",
       "    </tr>\n",
       "    <tr>\n",
       "      <th>524</th>\n",
       "      <td>LSAT≤33.0</td>\n",
       "      <td>UGPA&gt;3.5, ethnicity=Caucasian, gender=Male</td>\n",
       "      <td>0.013</td>\n",
       "      <td>0.003</td>\n",
       "      <td>0.010</td>\n",
       "    </tr>\n",
       "    <tr>\n",
       "      <th>126</th>\n",
       "      <td>LSAT&gt;41.0</td>\n",
       "      <td>ethnicity=Asian</td>\n",
       "      <td>-0.016</td>\n",
       "      <td>-0.006</td>\n",
       "      <td>0.010</td>\n",
       "    </tr>\n",
       "  </tbody>\n",
       "</table>\n",
       "</div>"
      ],
      "text/plain": [
       "          item                                        subset  \\\n",
       "500  LSAT≤33.0  UGPA>3.5, ethnicity=Caucasian, gender=Female   \n",
       "276  LSAT≤33.0                 UGPA>3.5, ethnicity=Caucasian   \n",
       "314   UGPA>3.5                      LSAT≤33.0, gender=Female   \n",
       "524  LSAT≤33.0    UGPA>3.5, ethnicity=Caucasian, gender=Male   \n",
       "126  LSAT>41.0                               ethnicity=Asian   \n",
       "\n",
       "     subset_divergence  itemset_divergence  corr_f  \n",
       "500              0.014               0.000   0.013  \n",
       "276              0.013               0.001   0.012  \n",
       "314             -0.015              -0.004   0.010  \n",
       "524              0.013               0.003   0.010  \n",
       "126             -0.016              -0.006   0.010  "
      ]
     },
     "execution_count": 29,
     "metadata": {},
     "output_type": "execute_result"
    }
   ],
   "source": [
    "cols = ['item', 'subset', 'subset_divergence', 'itemset_divergence', 'corr_f']\n",
    "subgroups_print = df_corr[cols].sort_values('corr_f', ascending=False).head(5)\n",
    "from utils import sort_itemset\n",
    "\n",
    "subgroups_print[\"item\"] = subgroups_print[\"item\"].apply(\n",
    "    lambda x: sort_itemset(frozenset([x]), abbreviations=abbreviations)\n",
    ")\n",
    "\n",
    "subgroups_print[\"subset\"] = subgroups_print[\"subset\"].apply(\n",
    "    lambda x: sort_itemset(x, abbreviations=abbreviations)\n",
    ")\n",
    "subgroups_print[\"subset_divergence\"] = subgroups_print[\"subset_divergence\"].apply(lambda x: round(x, 3))\n",
    "subgroups_print[\"itemset_divergence\"] = subgroups_print[\"itemset_divergence\"].apply(lambda x: round(x, 3))\n",
    "subgroups_print[\"corr_f\"] = subgroups_print[\"corr_f\"].apply(lambda x: round(x, 3))\n",
    "\n",
    "subgroups_print"
   ]
  },
  {
   "cell_type": "code",
   "execution_count": 30,
   "metadata": {},
   "outputs": [],
   "source": [
    "item, subset = tuple(df_corr[cols].sort_values('corr_f', ascending=False).iloc[0][['item', 'subset']].values)\n",
    "itemset = frozenset([item]).union(subset)"
   ]
  },
  {
   "cell_type": "code",
   "execution_count": 31,
   "metadata": {},
   "outputs": [
    {
     "data": {
      "text/plain": [
       "{frozenset({'gender=Female'}): -0.0008398891573453046,\n",
       " frozenset({'UGPA=>3.5'}): 0.00960234128624754,\n",
       " frozenset({'ethnicity=Caucasian'}): 0.004531757795685848,\n",
       " frozenset({'LSAT=<=33.0'}): -0.012949997836223979}"
      ]
     },
     "execution_count": 31,
     "metadata": {},
     "output_type": "execute_result"
    }
   ],
   "source": [
    "fp_details.shapley_value(itemset)"
   ]
  },
  {
   "cell_type": "code",
   "execution_count": null,
   "metadata": {},
   "outputs": [],
   "source": [
    "item_score = fp_details.dict_len_pattern_divergence\n",
    "\n",
    "from utils_lattice import plot_lattice_itemset\n",
    "\n",
    "fig = plot_lattice_itemset(\n",
    "    itemset,\n",
    "    item_score, get_lower=True, th_divergence=None, displayItemsetLabels=True, plot_bgcolor=\"#FFFFFF\", font_size_div=10,\n",
    "                font_size_ItemsetLabels=10)\n",
    "\n",
    "\n",
    "\n"
   ]
  },
  {
   "cell_type": "code",
   "execution_count": null,
   "metadata": {},
   "outputs": [],
   "source": [
    "\n",
    "fig.write_image(f'lattice_corrective_law_students_ranking_AVGRANK_{min_support}.pdf',width=660, height=330)"
   ]
  },
  {
   "cell_type": "code",
   "execution_count": null,
   "metadata": {},
   "outputs": [],
   "source": []
  }
 ],
 "metadata": {
  "kernelspec": {
   "display_name": "mainexp",
   "language": "python",
   "name": "python3"
  },
  "language_info": {
   "codemirror_mode": {
    "name": "ipython",
    "version": 3
   },
   "file_extension": ".py",
   "mimetype": "text/x-python",
   "name": "python",
   "nbconvert_exporter": "python",
   "pygments_lexer": "ipython3",
   "version": "3.10.10"
  }
 },
 "nbformat": 4,
 "nbformat_minor": 2
}
